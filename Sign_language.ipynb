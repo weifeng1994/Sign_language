{
  "nbformat": 4,
  "nbformat_minor": 0,
  "metadata": {
    "colab": {
      "name": "Preliminatory.ipynb",
      "provenance": [],
      "collapsed_sections": []
    },
    "kernelspec": {
      "name": "python3",
      "display_name": "Python 3"
    },
    "accelerator": "GPU"
  },
  "cells": [
    {
      "cell_type": "code",
      "metadata": {
        "id": "M35kij8uWIXI",
        "colab_type": "code",
        "outputId": "dd9c0eda-b27b-478c-fc2b-25df9e0a329e",
        "colab": {
          "base_uri": "https://localhost:8080/",
          "height": 122
        }
      },
      "source": [
        "# For Google Colab only! Remove when downloading to Jupyter Notebook!!!!!\n",
        "from google.colab import drive\n",
        "drive.mount('/content/drive')"
      ],
      "execution_count": 0,
      "outputs": [
        {
          "output_type": "stream",
          "text": [
            "Go to this URL in a browser: https://accounts.google.com/o/oauth2/auth?client_id=947318989803-6bn6qk8qdgf4n4g3pfee6491hc0brc4i.apps.googleusercontent.com&redirect_uri=urn%3aietf%3awg%3aoauth%3a2.0%3aoob&response_type=code&scope=email%20https%3a%2f%2fwww.googleapis.com%2fauth%2fdocs.test%20https%3a%2f%2fwww.googleapis.com%2fauth%2fdrive%20https%3a%2f%2fwww.googleapis.com%2fauth%2fdrive.photos.readonly%20https%3a%2f%2fwww.googleapis.com%2fauth%2fpeopleapi.readonly\n",
            "\n",
            "Enter your authorization code:\n",
            "··········\n",
            "Mounted at /content/drive\n"
          ],
          "name": "stdout"
        }
      ]
    },
    {
      "cell_type": "code",
      "metadata": {
        "id": "Sm-ReW1AvUFi",
        "colab_type": "code",
        "colab": {}
      },
      "source": [
        ""
      ],
      "execution_count": 0,
      "outputs": []
    },
    {
      "cell_type": "markdown",
      "metadata": {
        "id": "MkDtfjGLQjXX",
        "colab_type": "text"
      },
      "source": [
        "# Abstract \n",
        "\n",
        "Sign language is a way to effectively communicate with people with hearing and speaking disability. In this project, we trained models to help us recognize sign language. The main focus of our project will be the numerical digits (0-9) in sign language, thus there are 10 classes in our dataset and the features of an image is represented by its pixels. To increase the number of images in our dataset, we applied Image Augmentation to the original dataset and concatenate the augmented images with the original dataset. Hence, we trained different models to classify the images to their corresponding numbers. This new dataset was then used to train these models: Logistic Regression, K-Nearest Neighbours (KNN), Convolutional Neural Network (CNN), Transfer Learning models and Gradient Boosting. According to our results, the Transfer learning model (VGG16) is the best to predict our dataset with the highest training and validation accuracy, while Logistic Regression and Gradient Boosting display signs of overfitting. We hope that our project would serve as a baseline for future research to use this technology to improve the daily lives of people with disabilities. "
      ]
    },
    {
      "cell_type": "markdown",
      "metadata": {
        "id": "sRHAyhZeah6i",
        "colab_type": "text"
      },
      "source": [
        "# Introduction\n",
        "\n",
        "Sign languages (also known as signed languages) are languages that use manual communication to convey meaning. This can include simultaneously employing hand gestures, movement, the orientation of the fingers, arms or body, and facial expressions to convey a speaker's ideas. It is primarily used by people with hearing and speaking disabilities to communicate.\n",
        "\n",
        "Sign language has many benefits in the holistic development of children*(Chris, 2015)* and other areas other than using it to communicate with the deaf.\n",
        "\n",
        "\n",
        "1.   It enriches and enhances children's cognitive ability, speech development, and emotional control.\n",
        "\n",
        "2.   People with aphasia (neurological trauma) are unable to communicate coherently, hence with the use of sign language, they can get their message across *(NAA, 2017)*.\n",
        "\n",
        "\n",
        "There are around 466 million people worldwide who have listening disabilities and 34 million of these are children *(WHO, 2019)*.\n",
        "\n",
        "Though the benefits of hearing aids are undeniable, not everyone with a hearing disability can afford one. Hearing aids may be more convenient than using sign language as it doesn’t require much effort on both the speaker and listener to learn an entirely new language. However, if the hearing aid is damaged, the user will be unable to communicate, hence this is where sign language comes in handy. As per this article, why hearing aids and sign language are a happy pair, sign language and hearing aids are both essential tools for the hearing impaired, thus it is beneficial for the user to learn sign language *(Snook, 2018)*.\n",
        "\n",
        "It would be interesting to find out if we can train a model to recognize sign language. For scale, we will only be focusing on digits of sign language. However, if the model can accurately predict the meaning of the sign language, it would be possible to extrapolate to other areas of sign language.\n",
        "\n",
        "The reason we chose this topic is to bridge the gap between people who cannot understand sign language and want to communicate with those who can only communicate through sign language.\n",
        "\n",
        "One way to help bridge the gap is to create a smartphone application that reads sign language and translates it in real-time for maximum efficiency. This has already been achieved by students from New York University *(Rogers, 2018)* where they created an augmented reality smartphone application for real-time sign language translation. However, as sign language is not universal, their application only caters to those who use the American Sign Language (ASL). In Singapore,we have our sign language called the Singapore Sign Language (SgSL) which is slightly different from ASL *(Goy, 2017)*. Hence, the augmented reality application will not be able to translate SgSL properly. Therefore, we can build on their idea and create an application that translates SgSL in real-time for the user.\n",
        "\n",
        "This will also be extremely useful to students who are enrolled in mainstream post-secondary schools. For deaf students who are enrolled in mainstream elementary schools, there will be teachers trained in special needs posted to the schools to co-teach and provide extra help when needed *(Teng, 2017)*. However, at the post-secondary level and above, this help will no longer be easily available. Therefore, with the use of the application, we are thus able to help bridge the gap between the deaf and the hearing community.\n",
        "\n",
        "\n"
      ]
    },
    {
      "cell_type": "code",
      "metadata": {
        "id": "P8z8gxleYDuc",
        "colab_type": "code",
        "colab": {}
      },
      "source": [
        "import matplotlib.pyplot as plt\n",
        "import numpy as np\n",
        "data = np.load(\"/content/drive/My Drive/MH4510/X.npy\")\n",
        "datay = np.load(\"/content/drive/My Drive/MH4510/Y.npy\")"
      ],
      "execution_count": 0,
      "outputs": []
    },
    {
      "cell_type": "markdown",
      "metadata": {
        "id": "J4oaXowWpnRH",
        "colab_type": "text"
      },
      "source": [
        "#Exploratory Data Analysis\n",
        "\n",
        "- From Kaggle: Sign Language (from numbers 0 to 9)\n",
        "- Image size: 64x64\n",
        "- Color space: Grayscale\n",
        "- File format: npy\n",
        "- Number of classes: 10 (Digits: 0-9)\n",
        "- Number of participant students: 218\n",
        "- Number of samples per student: 10\n",
        "\n",
        "\n",
        "\n",
        "Our datasets are in 2 separate npy files. In the first npy file, our images are stored as a $2062$x$64$x$64$ matrix. Each row of the matrix corresponds to each of the images which are stored as a 64x64 matrix. The second npy file is a matrix with each column representing a digit. For any row, there will be only one entry with “1” and the rest of the entries are “0”. A “1” in a particular column means that the row is representing the digit that the column represents. This is the digit which the image in the same row in the first dataset is representing.\n",
        "\n",
        "\n",
        "The table below shows a summary of our dataset.\n",
        "\n",
        "![Picture](https://drive.google.com/uc?id=1wXltF9NURflzkZq4N4pxcWLmiPozjHNS)\n",
        "\n"
      ]
    },
    {
      "cell_type": "code",
      "metadata": {
        "id": "VA7kQLE3Wh7m",
        "colab_type": "code",
        "outputId": "076060d0-a92a-4eef-d752-398c35d39e89",
        "colab": {
          "base_uri": "https://localhost:8080/",
          "height": 153
        }
      },
      "source": [
        "# Observe the structure of the dataset\n",
        "print(data[0])\n",
        "print(data.shape)"
      ],
      "execution_count": 0,
      "outputs": [
        {
          "output_type": "stream",
          "text": [
            "[[0.46666667 0.4745098  0.47843137 ... 0.5176471  0.5137255  0.5019608 ]\n",
            " [0.49803922 0.4862745  0.4862745  ... 0.5254902  0.5176471  0.50980395]\n",
            " [0.54509807 0.49411765 0.49019608 ... 0.5294118  0.5254902  0.5137255 ]\n",
            " ...\n",
            " [0.5019608  0.5137255  0.5176471  ... 0.5529412  0.54509807 0.53333336]\n",
            " [0.49803922 0.5058824  0.5137255  ... 0.54509807 0.53333336 0.52156866]\n",
            " [0.49019608 0.49803922 0.5019608  ... 0.5294118  0.52156866 0.50980395]]\n",
            "(2062, 64, 64)\n"
          ],
          "name": "stdout"
        }
      ]
    },
    {
      "cell_type": "markdown",
      "metadata": {
        "id": "kiN0SGaU8YbT",
        "colab_type": "text"
      },
      "source": [
        "Here is a sample of how our data looks like. "
      ]
    },
    {
      "cell_type": "code",
      "metadata": {
        "id": "yZ-qlX80W4ok",
        "colab_type": "code",
        "outputId": "49d91750-3166-4cbb-858f-39716d77178c",
        "colab": {
          "base_uri": "https://localhost:8080/",
          "height": 285
        }
      },
      "source": [
        "# # Take a look at some of the images in the dataset\n",
        "plt.imshow(data[0], cmap='gray')"
      ],
      "execution_count": 0,
      "outputs": [
        {
          "output_type": "execute_result",
          "data": {
            "text/plain": [
              "<matplotlib.image.AxesImage at 0x7fbe2e325a58>"
            ]
          },
          "metadata": {
            "tags": []
          },
          "execution_count": 4
        },
        {
          "output_type": "display_data",
          "data": {
            "image/png": "[encoded data removed]",
            "text/plain": [
              "<Figure size 432x288 with 1 Axes>"
            ]
          },
          "metadata": {
            "tags": []
          }
        }
      ]
    },
    {
      "cell_type": "markdown",
      "metadata": {
        "id": "WSJj-TebLfg6",
        "colab_type": "text"
      },
      "source": [
        "# Feature Engineering"
      ]
    },
    {
      "cell_type": "markdown",
      "metadata": {
        "id": "ki1xgYcSMKZ7",
        "colab_type": "text"
      },
      "source": [
        "As our datasets consists of images, our only feature is the pixels. Therefore we will be using the individual pixels as our feature."
      ]
    },
    {
      "cell_type": "markdown",
      "metadata": {
        "id": "ZNTxLRUF-4aY",
        "colab_type": "text"
      },
      "source": [
        "#Data Cleaning\n",
        "Our dataset is relatively clean, hence there is not much cleaning to do. We notice that the the y-value does not correspond to the actual number (i.e, digit 9's output value is 0), hence we change the output value to corresponse to the actual digit that the image represent for easier viewing. Also, as some of our models only accept input data in 3-dimension form (RGB), we have to reshape the dataset in order to fit the dataset into the models. Similarly, we do the same for the output values. "
      ]
    },
    {
      "cell_type": "code",
      "metadata": {
        "id": "Sry57yUy_5b6",
        "colab_type": "code",
        "outputId": "09f2e711-b255-4821-a446-055162696374",
        "colab": {
          "base_uri": "https://localhost:8080/",
          "height": 114
        }
      },
      "source": [
        "from keras.datasets import mnist\n",
        "from keras.preprocessing.image import ImageDataGenerator\n",
        "from matplotlib import pyplot\n",
        "import numpy as np\n",
        "import matplotlib.pyplot as plt\n",
        "\n",
        "#Order the image according to what they represent\n",
        "columnx_digit = {0: 9,\n",
        "                1: 0,\n",
        "                2: 7,\n",
        "                3: 6,\n",
        "                4: 1,\n",
        "                5: 8,\n",
        "                6: 4,\n",
        "                7: 3,\n",
        "                8: 2,\n",
        "                9: 5}\n",
        "\n",
        "\n",
        "#digit-column index relationship dictionary\n",
        "relation_bw_digit_and_column = {v:k for k, v in columnx_digit.items()}\n",
        "\n",
        "Y_ordered = np.zeros(datay.shape)\n",
        "\n",
        "#fill the matrix so that the columns index also corresponds to the digit \n",
        "for i in range(datay.shape[1]):\n",
        "    Y_ordered[:,i] = datay[:,relation_bw_digit_and_column[i]]\n",
        "    \n",
        "#set the number of classes that our model have\n",
        "no_of_classes = 10\n",
        "\n",
        "#Reshaping the dimension of the data so that we can put it into the model\n",
        "data_reshaped = data.reshape(data.shape[0],data.shape[1],data.shape[2],1)\n",
        "print(data_reshaped.shape)\n",
        "\n",
        "\n",
        "#Reshaping the y ordered data\n",
        "y_reshaped=[]\n",
        "for i in Y_ordered:\n",
        "    arr = i.tolist()\n",
        "    index = arr.index(1)\n",
        "    y_reshaped.append(index)  \n",
        "    \n",
        "    \n",
        "y_reshaped = np.asarray(y_reshaped)\n",
        "print(y_reshaped)\n"
      ],
      "execution_count": 0,
      "outputs": [
        {
          "output_type": "stream",
          "text": [
            "Using TensorFlow backend.\n"
          ],
          "name": "stderr"
        },
        {
          "output_type": "display_data",
          "data": {
            "text/html": [
              "<p style=\"color: red;\">\n",
              "The default version of TensorFlow in Colab will soon switch to TensorFlow 2.x.<br>\n",
              "We recommend you <a href=\"https://www.tensorflow.org/guide/migrate\" target=\"_blank\">upgrade</a> now \n",
              "or ensure your notebook will continue to use TensorFlow 1.x via the <code>%tensorflow_version 1.x</code> magic:\n",
              "<a href=\"https://colab.research.google.com/notebooks/tensorflow_version.ipynb\" target=\"_blank\">more info</a>.</p>\n"
            ],
            "text/plain": [
              "<IPython.core.display.HTML object>"
            ]
          },
          "metadata": {
            "tags": []
          }
        },
        {
          "output_type": "stream",
          "text": [
            "(2062, 64, 64, 1)\n",
            "[9 9 9 ... 5 5 5]\n"
          ],
          "name": "stdout"
        }
      ]
    },
    {
      "cell_type": "code",
      "metadata": {
        "id": "J88DsbbUSMqF",
        "colab_type": "code",
        "outputId": "d39af22f-3b13-4621-e7ac-ffc2f64542e0",
        "colab": {
          "base_uri": "https://localhost:8080/",
          "height": 34
        }
      },
      "source": [
        "# Check how many samples are there for each digit.\n",
        "Y_ordered.sum(axis=0)"
      ],
      "execution_count": 0,
      "outputs": [
        {
          "output_type": "execute_result",
          "data": {
            "text/plain": [
              "array([205., 206., 206., 206., 207., 207., 207., 206., 208., 204.])"
            ]
          },
          "metadata": {
            "tags": []
          },
          "execution_count": 6
        }
      ]
    },
    {
      "cell_type": "markdown",
      "metadata": {
        "id": "x0JbpUxNK7g6",
        "colab_type": "text"
      },
      "source": [
        "### Application of Image Data Augmentation\n",
        "\n",
        "Since our data set consists of 2062 images, we feel that it may a bit too small which might cause underfitting when we run them through the prediction models. Hence we apply Image Data Augmentation to expand our data set to achieve a better fitting. Also, we notice that most of the images are taken from the same angle, so to increase the accuracy of our model, we decide to randomly rotate some of the images in the dataset. \n",
        "\n",
        "The main idea is to rotate the training set and then concatenate the rotated set to the training data. We choose 30 degrees to be the rotation range which means that an image will be rotated at most 30 degrees clockwise or anti-clockwise. This new training set will be used in all of our prediction models. "
      ]
    },
    {
      "cell_type": "code",
      "metadata": {
        "id": "EQm-rbfqa5I9",
        "colab_type": "code",
        "outputId": "df47f561-9b48-477b-93e5-83a8f25fb531",
        "colab": {
          "base_uri": "https://localhost:8080/",
          "height": 269
        }
      },
      "source": [
        "#Splitting the data into the training set and the test set\n",
        "from sklearn.model_selection import train_test_split\n",
        "x_train, X_test_new, y_train_new, y_test = train_test_split(data_reshaped,y_reshaped,test_size=0.25,random_state=0)\n",
        "\n",
        "\n",
        "#We apply Image Data Augmention to expand our data set, so that we can acheive a better fit.\n",
        "# convert from int to float\n",
        "x_train_new = x_train.astype('float32')\n",
        "#We rotate the images within 30 degrees clockwise and 30 degrees anti clockwise\n",
        "datagen = ImageDataGenerator(rotation_range=30)\n",
        "# fit parameters from data\n",
        "datagen.fit(x_train_new)\n",
        "# configure batch size and retrieve augmented images: x_batch and its corresponding labels: y_batch\n",
        "\n",
        "dg = datagen.flow(x_train_new, y_train_new, batch_size= x_train.shape[0])\n",
        "x_batch, y_batch = dg.next()\n",
        "\n",
        "for i in range(0, 9):\n",
        "\tpyplot.subplot(330 + 1 + i)\n",
        "\tpyplot.imshow(x_batch[i].reshape(64, 64), cmap=pyplot.get_cmap('gray'))\n",
        "# show the plot\n",
        "pyplot.show()"
      ],
      "execution_count": 0,
      "outputs": [
        {
          "output_type": "display_data",
          "data": {
            "image/png": "[encoded data removed]",
            "text/plain": [
              "<Figure size 432x288 with 9 Axes>"
            ]
          },
          "metadata": {
            "tags": []
          }
        }
      ]
    },
    {
      "cell_type": "code",
      "metadata": {
        "id": "JdqITynrE524",
        "colab_type": "code",
        "colab": {}
      },
      "source": [
        "#We now concatenate our original data with the new expanded data\n",
        "X_train_new = np.concatenate((x_train, x_batch), axis = 0)\n",
        "\n",
        "#Reshaping the train set dimension \n",
        "X_train = X_train_new.reshape(X_train_new.shape[0], X_train_new.shape[1]*X_train_new.shape[2])\n",
        "\n",
        "\n",
        "\n",
        "#Reshaping the test set dimension\n",
        "X_test = X_test_new.reshape(X_test_new.shape[0], X_test_new.shape[1]*X_test_new.shape[2])\n",
        "\n",
        "\n",
        "#Concatenate our original y train data with the augmented y data\n",
        "y_train = np.concatenate((y_train_new, y_batch), axis = 0)\n"
      ],
      "execution_count": 0,
      "outputs": []
    },
    {
      "cell_type": "markdown",
      "metadata": {
        "id": "QvmlbVkf07Hg",
        "colab_type": "text"
      },
      "source": [
        "#Model 1: Logistic Regression"
      ]
    },
    {
      "cell_type": "markdown",
      "metadata": {
        "id": "qwDFrfvNh2Ye",
        "colab_type": "text"
      },
      "source": [
        "We first fit a Logistic Regression model and observe its performance."
      ]
    },
    {
      "cell_type": "code",
      "metadata": {
        "id": "SN6es52zkSGL",
        "colab_type": "code",
        "outputId": "746ac77b-46bb-488c-e67a-c2672303d0ab",
        "colab": {
          "base_uri": "https://localhost:8080/",
          "height": 190
        }
      },
      "source": [
        "from sklearn.linear_model import LogisticRegression\n",
        "logit = LogisticRegression()\n",
        "\n",
        "logit.fit(X_train, y_train)"
      ],
      "execution_count": 0,
      "outputs": [
        {
          "output_type": "stream",
          "text": [
            "/usr/local/lib/python3.6/dist-packages/sklearn/linear_model/logistic.py:432: FutureWarning: Default solver will be changed to 'lbfgs' in 0.22. Specify a solver to silence this warning.\n",
            "  FutureWarning)\n",
            "/usr/local/lib/python3.6/dist-packages/sklearn/linear_model/logistic.py:469: FutureWarning: Default multi_class will be changed to 'auto' in 0.22. Specify the multi_class option to silence this warning.\n",
            "  \"this warning.\", FutureWarning)\n"
          ],
          "name": "stderr"
        },
        {
          "output_type": "execute_result",
          "data": {
            "text/plain": [
              "LogisticRegression(C=1.0, class_weight=None, dual=False, fit_intercept=True,\n",
              "                   intercept_scaling=1, l1_ratio=None, max_iter=100,\n",
              "                   multi_class='warn', n_jobs=None, penalty='l2',\n",
              "                   random_state=None, solver='warn', tol=0.0001, verbose=0,\n",
              "                   warm_start=False)"
            ]
          },
          "metadata": {
            "tags": []
          },
          "execution_count": 9
        }
      ]
    },
    {
      "cell_type": "code",
      "metadata": {
        "id": "z5UREVPlmkVr",
        "colab_type": "code",
        "outputId": "b3c0e3de-373b-4230-fe17-df7842789179",
        "colab": {
          "base_uri": "https://localhost:8080/",
          "height": 51
        }
      },
      "source": [
        "y_pred = logit.predict(X_test)\n",
        "from sklearn.metrics import accuracy_score\n",
        "logit_score = accuracy_score(y_test, y_pred, normalize = True)\n",
        "y_pred_train = logit.predict(X_train)\n",
        "from sklearn.metrics import accuracy_score\n",
        "train_log_score = accuracy_score(y_train, y_pred_train, normalize = True)\n",
        "print(logit_score)\n",
        "print(train_log_score)"
      ],
      "execution_count": 0,
      "outputs": [
        {
          "output_type": "stream",
          "text": [
            "0.7151162790697675\n",
            "0.9708926261319534\n"
          ],
          "name": "stdout"
        }
      ]
    },
    {
      "cell_type": "code",
      "metadata": {
        "id": "5JaKia_zsVgJ",
        "colab_type": "code",
        "outputId": "e86198c6-6ffd-487a-9146-9b455cc71ecb",
        "colab": {
          "base_uri": "https://localhost:8080/",
          "height": 696
        }
      },
      "source": [
        "import matplotlib.pyplot as plt\n",
        "import seaborn as sns\n",
        "from sklearn import metrics\n",
        "\n",
        "#confusion matrix\n",
        "confusionmatrix = metrics.confusion_matrix(y_test, y_pred)\n",
        "print(confusionmatrix)\n",
        "\n",
        "plt.figure(figsize=(9,9))\n",
        "sns.heatmap(confusionmatrix, annot=True, fmt=\".3f\", linewidths=.5, square = True, cmap = 'Pastel1_r');\n",
        "plt.ylabel('Actual label');\n",
        "plt.xlabel('Predicted label');\n",
        "all_sample_title = 'Accuracy Score: {0}'.format(logit_score)\n",
        "plt.title(all_sample_title, size = 15);\n"
      ],
      "execution_count": 0,
      "outputs": [
        {
          "output_type": "stream",
          "text": [
            "[[41  0  0  0  8  1  3  0  1  1]\n",
            " [ 0 42  4  1  0  0  0  3  2  0]\n",
            " [ 4  2 23  2  1  0  4  3  3  0]\n",
            " [ 1  3  2 43  1  4  0  1  0  0]\n",
            " [ 1  1  0  1 27  0 10  3  7  1]\n",
            " [ 1  0  0  5  0 44  0  0  1  3]\n",
            " [ 1  1  4  0  4  0 34  1  1  1]\n",
            " [ 1  2  5  0  5  1  3 33  5  0]\n",
            " [ 2  1  1  1  3  0  1  1 38  3]\n",
            " [ 0  1  1  0  1  4  0  0  3 44]]\n"
          ],
          "name": "stdout"
        },
        {
          "output_type": "display_data",
          "data": {
            "image/png": "[encoded data removed]",
            "text/plain": [
              "<Figure size 648x648 with 2 Axes>"
            ]
          },
          "metadata": {
            "tags": []
          }
        }
      ]
    },
    {
      "cell_type": "markdown",
      "metadata": {
        "id": "MUI3Ekn-0sjF",
        "colab_type": "text"
      },
      "source": [
        "#Model 2: K - Nearest Neighbors"
      ]
    },
    {
      "cell_type": "markdown",
      "metadata": {
        "id": "FOrdtmSHiC-1",
        "colab_type": "text"
      },
      "source": [
        "Next we train a KNN model and observe its performance. We will do cross-validation to select the value of K."
      ]
    },
    {
      "cell_type": "code",
      "metadata": {
        "id": "oCDsueGzkoJg",
        "colab_type": "code",
        "outputId": "e4bb8205-ccb4-47d2-d69f-e9d48328e451",
        "colab": {
          "base_uri": "https://localhost:8080/",
          "height": 34
        }
      },
      "source": [
        "#Reshape the original data to fit in the KNN classifier\n",
        "from sklearn.neighbors import KNeighborsClassifier\n",
        "data_reshaped_new = data_reshaped.reshape(data_reshaped.shape[0], data_reshaped.shape[1]*data_reshaped.shape[2])\n",
        "print(data_reshaped_new.shape)"
      ],
      "execution_count": 0,
      "outputs": [
        {
          "output_type": "stream",
          "text": [
            "(2062, 4096)\n"
          ],
          "name": "stdout"
        }
      ]
    },
    {
      "cell_type": "code",
      "metadata": {
        "id": "rFlne5gp0diq",
        "colab_type": "code",
        "outputId": "8e108042-05bf-49ac-9324-41f55fbadd0f",
        "colab": {
          "base_uri": "https://localhost:8080/",
          "height": 351
        }
      },
      "source": [
        "from sklearn.model_selection import validation_curve\n",
        "# Create range of values for parameter\n",
        "param_range = np.arange(5, 12)\n",
        "\n",
        "# Calculate accuracy on training and test set using range of parameter values\n",
        "train_scores, test_scores = validation_curve(KNeighborsClassifier(), \n",
        "                                             data_reshaped_new, \n",
        "                                             y_reshaped, \n",
        "                                             param_name=\"n_neighbors\", \n",
        "                                             param_range=param_range,\n",
        "                                              cv=3, \n",
        "                                             scoring=\"accuracy\", \n",
        "                                             n_jobs=-1)\n",
        "\n",
        "\n",
        "# Calculate mean and standard deviation for training set scores\n",
        "train_mean = np.mean(train_scores, axis=1)\n",
        "train_std = np.std(train_scores, axis=1)\n",
        "\n",
        "# Calculate mean and standard deviation for test set scores\n",
        "test_mean = np.mean(test_scores, axis=1)\n",
        "test_std = np.std(test_scores, axis=1)\n",
        "\n",
        "# Plot mean accuracy scores for training and test sets\n",
        "plt.plot(param_range, train_mean, label=\"Training score\", color=\"black\")\n",
        "plt.plot(param_range, test_mean, label=\"Cross-validation score\", color=\"dimgrey\")\n",
        "\n",
        "# Plot accurancy bands for training and test sets\n",
        "plt.fill_between(param_range, train_mean - train_std, train_mean + train_std, color=\"gray\")\n",
        "plt.fill_between(param_range, test_mean - test_std, test_mean + test_std, color=\"gainsboro\")\n",
        "\n",
        "# Create plot\n",
        "plt.title(\"Validation Curve With KNN\")\n",
        "plt.xlabel(\"Number Of Neignbors\")\n",
        "plt.ylabel(\"Accuracy Score\")\n",
        "plt.tight_layout()\n",
        "plt.legend(loc=\"best\")\n",
        "plt.show()"
      ],
      "execution_count": 0,
      "outputs": [
        {
          "output_type": "stream",
          "text": [
            "/usr/local/lib/python3.6/dist-packages/joblib/externals/loky/process_executor.py:706: UserWarning: A worker stopped while some jobs were given to the executor. This can be caused by a too short worker timeout or by a memory leak.\n",
            "  \"timeout or by a memory leak.\", UserWarning\n"
          ],
          "name": "stderr"
        },
        {
          "output_type": "display_data",
          "data": {
            "image/png": "[encoded data removed]",
            "text/plain": [
              "<Figure size 432x288 with 1 Axes>"
            ]
          },
          "metadata": {
            "tags": []
          }
        }
      ]
    },
    {
      "cell_type": "markdown",
      "metadata": {
        "id": "XvqlqoL8BVdp",
        "colab_type": "text"
      },
      "source": [
        "From the validation curve, the model has the highest test accuracy when K=9, therefore we use this model as our KNN model for classification of digits."
      ]
    },
    {
      "cell_type": "code",
      "metadata": {
        "id": "bMbJL20wz_qu",
        "colab_type": "code",
        "outputId": "9035874c-221f-4b3a-f1d4-6d926c830ad9",
        "colab": {
          "base_uri": "https://localhost:8080/",
          "height": 51
        }
      },
      "source": [
        "from sklearn.neighbors import KNeighborsClassifier\n",
        "knn = KNeighborsClassifier(n_neighbors=9)\n",
        "knn.fit(X_train, y_train)\n",
        "\n",
        "y_pred_knn = knn.predict(X_test)\n",
        "\n",
        "knn_score = accuracy_score(y_test, y_pred_knn)\n",
        "print(knn_score)\n",
        "\n",
        "y_pred_knn_train = knn.predict(X_train)\n",
        "knn_train_score = accuracy_score(y_train, y_pred_knn_train)\n",
        "print(knn_train_score)"
      ],
      "execution_count": 0,
      "outputs": [
        {
          "output_type": "stream",
          "text": [
            "0.7306201550387597\n",
            "0.8091849935316947\n"
          ],
          "name": "stdout"
        }
      ]
    },
    {
      "cell_type": "markdown",
      "metadata": {
        "id": "qNzxDEBz9lTx",
        "colab_type": "text"
      },
      "source": [
        "#Model 3.1.Convolutional Neural Network\n",
        "It is a network used specifically for image recognition and classification. Below are the four main operations that the model does:\n",
        "<cite data-cite=\"Srivastava, H. (2018, April 25)\">(Srivastava, 2018)</cite>\n",
        "\n",
        "*   Convolution\n",
        "*   Non-Linearity (ReLu)\n",
        "*   Pooling\n",
        "*   Classification \n",
        " \n",
        "\n"
      ]
    },
    {
      "cell_type": "markdown",
      "metadata": {
        "id": "EQpWg8oz0V8o",
        "colab_type": "text"
      },
      "source": [
        "### How does a Convolutional Neural Nework works?\n",
        "\n",
        "![Picture](https://www.cc.gatech.edu/~san37/img/dl/conv.gif)\n",
        "\n",
        "The first step is none other than **Convolution** which is the sliding of the matrix in yellow is to extract the features of the input image. By using small squares of input data, Convolution learns image features and works in coordination with pixels.\n",
        "\n",
        "\\begin{equation*}\n",
        "\\begin{pmatrix}\n",
        "{1} & {0} & {1} \\\\\n",
        "0 &  1 & 0 \\\\\n",
        "1& 0 & 1\n",
        "\\end{pmatrix}\n",
        "\\end{equation*}\n",
        "\n",
        "According to the gif above, the filter is in the form of a $33$x$33$ matrix. The yellow matrix will slide over the green image by 1 pixel each time. For each position, element multiplication will occur between the filter and the green image. The sum of the outputs would be transferred into a new matrix which is labeled as the **Convolved Feature**. After covering every single pixel in the image, the Convolved Feature will be completed. \n",
        "\n",
        "\n",
        "\n",
        "In CNN, several different filters/kernels are consisting of trainable parameters which can convolve on a given image spatially to detect features like edges and shapes. Through backpropagation, these high numbers of filters essentially learn to capture spatial features from the image based on the learned weights. Stacked filter layers can be used at each successive stage to detect complex spatial shapes from the spatial characteristics. Consequently, they can effectively simplify a given image into a highly abstract representation that is easy to predict *(Ramesh, 2018)*.\n",
        "\n",
        "For our first layer, we used 20 independent filters. Hence we will obtain 20 Convolved Feature which would be stacked back to back forming a 3D matrix. The dimension this stack of Convolved features would then be $64$x$64$x$10$.\n",
        "\n",
        "\n",
        "![Picture](https://developers.google.com/machine-learning/practica/image-classification/images/maxpool_animation.gif)\n",
        "\n",
        "The second step is **Pooling**, for our model, we used Maxpooling which is a function that reduces the spatial size of the Convolved Features to reduce the number of parameters and computation in the network. A $22$x$22$ window is placed over the image and it slides along the image by 2 cells. As it covers a region, it takes the largest number in that region and transfers it into a new output matrix *(Udofia, 2019)*.\n",
        "\n",
        "The third step will be the **Dropout** feature, it refers to dropping out units in the neural network. A new hyperparameter is introduced that specifies the probability at which outputs of the layer are dropped out, or inversely, the probability at which outputs of the layer are retained. A common value is a probability of 0.5 for retaining the output of each node in a hidden layer, thus it is a regularization method that ignores 50% of pixels to reduce overfitting *(Srivastava, 2014)*.\n",
        "\n",
        "Between the hidden layers, we perform **batch normalization** to increase speed, performance, and stability by adjusting and scaling the activations. It complements regularization as well to reduce overfitting *(Doukkali, 2018)*. \n",
        "\n",
        "For the Convoluted features, we apply **Zero Padding** which looks like the matrix below: \n",
        "\n",
        "\n",
        "\\begin{equation*}\n",
        "\\begin{pmatrix}\n",
        "0 & 0 & 0 & 0 & 0\\\\\n",
        "{0}&{4} & {3} & {4} & 0\\\\\n",
        "0& 2 &  4 & 3 & 0\\\\\n",
        "0& 2& 3 & 4 & 0 \\\\\n",
        "0 & 0& 0 & 0 & 0\n",
        "\\end{pmatrix}\n",
        "\\end{equation*}\n",
        "\n",
        "It is a process that systematically adds zeroes to the outer layer of the input matrix. It allows the size of the input to be adjusted to our requirements *(Saxena, 2016)*. \n",
        "\n",
        "After **Convolution --> Pooling --> Convolution --> Pooling --> Output Vector**\n",
        "\n",
        "We proceed to **Flatten** the resulting Convolved features and passed it through the fully connected neural network (ANN). \n",
        "\n",
        "Keras provides the SGD class that implements the stochastic gradient descent optimizer with a learning rate and momentum. The default learning rate is 0.01 and no momentum is used by default *(Brownlee, 2019)*.\n",
        "\n",
        "We apply **early stopping** to reduce overfitting. Specifically, in our solution, we included EarlyStopping(monitor='val_accuracy', mode = 'max' patience=3) to define that we wanted to monitor the validation accuracy at each epoch and after the validation accuracy has not improved after three epochs, training is interrupted *(Albon, 2017)*. In max mode, it will stop when the validation accuracy has stopped increasing. \n",
        "\n"
      ]
    },
    {
      "cell_type": "code",
      "metadata": {
        "colab_type": "code",
        "id": "zk1W0q0rK8oU",
        "colab": {}
      },
      "source": [
        "from keras.models import Sequential\n",
        "from keras.callbacks import ModelCheckpoint, EarlyStopping\n",
        "from keras.utils import to_categorical\n",
        "from keras.layers import Conv2D, BatchNormalization, MaxPooling2D, ZeroPadding2D, Dropout, Flatten, Dense, Activation"
      ],
      "execution_count": 0,
      "outputs": []
    },
    {
      "cell_type": "code",
      "metadata": {
        "id": "1ZTZkudYLqVF",
        "colab_type": "code",
        "colab": {}
      },
      "source": [
        "y_train_cat = to_categorical(y_train)\n",
        "y_test_cat = to_categorical(y_test)"
      ],
      "execution_count": 0,
      "outputs": []
    },
    {
      "cell_type": "code",
      "metadata": {
        "id": "XCPld3Ib_Qfp",
        "colab_type": "code",
        "colab": {}
      },
      "source": [
        "def cnn_model(input_shape):\n",
        "  cnn_model = Sequential()\n",
        "  # Add a layer of convolutional blocks with 10 filters with size 5x5, then perform batch normalization (which helps in regularization) and run the Relu function.\n",
        "  cnn_model.add(Conv2D(10, kernel_size=(5,5), input_shape=input_shape))\n",
        "  cnn_model.add(BatchNormalization(axis=3))\n",
        "  cnn_model.add(Activation('relu'))\n",
        "\n",
        "  # Add a max pooling layer with filter of size 2x2. We perform dropout at 0.5 to reduce overfitting. Zero padding is used to retain the information on the edge of the images.\n",
        "  cnn_model.add(MaxPooling2D(pool_size=(2,2)))\n",
        "  cnn_model.add(Dropout(0.5))\n",
        "  cnn_model.add(ZeroPadding2D(padding=(1,1)))\n",
        "\n",
        "  cnn_model.add(Conv2D(20, kernel_size=(3,3)))\n",
        "  cnn_model.add(BatchNormalization(axis=3))\n",
        "  cnn_model.add(Activation('relu'))\n",
        "\n",
        "  cnn_model.add(MaxPooling2D(pool_size=(2,2)))\n",
        "  cnn_model.add(Dropout(0.5))\n",
        "\n",
        "  cnn_model.add(Conv2D(20, kernel_size=(3,3)))\n",
        "  cnn_model.add(BatchNormalization(axis=3))\n",
        "  cnn_model.add(Activation('relu'))\n",
        "\n",
        "  cnn_model.add(MaxPooling2D(pool_size=(2,2)))\n",
        "  cnn_model.add(Dropout(0.5))\n",
        "\n",
        "  # Unroll the matrix into a vector and pass into the fully connected layer with 10 units to get our predicted class.\n",
        "  cnn_model.add(Flatten())\n",
        "  cnn_model.add(Dense(10, activation=\"softmax\"))\n",
        "\n",
        "  return cnn_model"
      ],
      "execution_count": 0,
      "outputs": []
    },
    {
      "cell_type": "code",
      "metadata": {
        "id": "I14ub1uVBZo_",
        "colab_type": "code",
        "outputId": "2eddeea8-9056-42c3-d3ff-a97642eba37d",
        "colab": {
          "base_uri": "https://localhost:8080/",
          "height": 496
        }
      },
      "source": [
        "image_size = 64\n",
        "cnn_model_main = cnn_model((image_size, image_size, 1))"
      ],
      "execution_count": 0,
      "outputs": [
        {
          "output_type": "stream",
          "text": [
            "WARNING:tensorflow:From /usr/local/lib/python3.6/dist-packages/keras/backend/tensorflow_backend.py:66: The name tf.get_default_graph is deprecated. Please use tf.compat.v1.get_default_graph instead.\n",
            "\n",
            "WARNING:tensorflow:From /usr/local/lib/python3.6/dist-packages/keras/backend/tensorflow_backend.py:541: The name tf.placeholder is deprecated. Please use tf.compat.v1.placeholder instead.\n",
            "\n",
            "WARNING:tensorflow:From /usr/local/lib/python3.6/dist-packages/keras/backend/tensorflow_backend.py:4432: The name tf.random_uniform is deprecated. Please use tf.random.uniform instead.\n",
            "\n",
            "WARNING:tensorflow:From /usr/local/lib/python3.6/dist-packages/keras/backend/tensorflow_backend.py:190: The name tf.get_default_session is deprecated. Please use tf.compat.v1.get_default_session instead.\n",
            "\n",
            "WARNING:tensorflow:From /usr/local/lib/python3.6/dist-packages/keras/backend/tensorflow_backend.py:197: The name tf.ConfigProto is deprecated. Please use tf.compat.v1.ConfigProto instead.\n",
            "\n",
            "WARNING:tensorflow:From /usr/local/lib/python3.6/dist-packages/keras/backend/tensorflow_backend.py:203: The name tf.Session is deprecated. Please use tf.compat.v1.Session instead.\n",
            "\n",
            "WARNING:tensorflow:From /usr/local/lib/python3.6/dist-packages/keras/backend/tensorflow_backend.py:207: The name tf.global_variables is deprecated. Please use tf.compat.v1.global_variables instead.\n",
            "\n",
            "WARNING:tensorflow:From /usr/local/lib/python3.6/dist-packages/keras/backend/tensorflow_backend.py:216: The name tf.is_variable_initialized is deprecated. Please use tf.compat.v1.is_variable_initialized instead.\n",
            "\n",
            "WARNING:tensorflow:From /usr/local/lib/python3.6/dist-packages/keras/backend/tensorflow_backend.py:223: The name tf.variables_initializer is deprecated. Please use tf.compat.v1.variables_initializer instead.\n",
            "\n",
            "WARNING:tensorflow:From /usr/local/lib/python3.6/dist-packages/keras/backend/tensorflow_backend.py:2041: The name tf.nn.fused_batch_norm is deprecated. Please use tf.compat.v1.nn.fused_batch_norm instead.\n",
            "\n",
            "WARNING:tensorflow:From /usr/local/lib/python3.6/dist-packages/keras/backend/tensorflow_backend.py:148: The name tf.placeholder_with_default is deprecated. Please use tf.compat.v1.placeholder_with_default instead.\n",
            "\n",
            "WARNING:tensorflow:From /usr/local/lib/python3.6/dist-packages/keras/backend/tensorflow_backend.py:4267: The name tf.nn.max_pool is deprecated. Please use tf.nn.max_pool2d instead.\n",
            "\n",
            "WARNING:tensorflow:From /usr/local/lib/python3.6/dist-packages/keras/backend/tensorflow_backend.py:3733: calling dropout (from tensorflow.python.ops.nn_ops) with keep_prob is deprecated and will be removed in a future version.\n",
            "Instructions for updating:\n",
            "Please use `rate` instead of `keep_prob`. Rate should be set to `rate = 1 - keep_prob`.\n"
          ],
          "name": "stdout"
        }
      ]
    },
    {
      "cell_type": "code",
      "metadata": {
        "id": "mtht--GMC0TY",
        "colab_type": "code",
        "outputId": "39d9a00d-73ee-49de-cd64-bc9c0f6c2569",
        "colab": {
          "base_uri": "https://localhost:8080/",
          "height": 1000
        }
      },
      "source": [
        "from keras.optimizers import SGD\n",
        "sgd = SGD(lr=0.01)\n",
        "cnn_model_main.compile(optimizer = sgd, loss = \"categorical_crossentropy\", metrics = [\"accuracy\"])\n",
        "checkpoint_main = ModelCheckpoint(\"main_weights.{epoch:02d}-{val_loss:.2f}.hdf5\", monitor='val_acc', verbose=0, save_best_only=True, save_weights_only=False, mode='auto', period=1)\n",
        "# Stops training when validation accuracy decreases for 3 consecutive epoch.\n",
        "es = EarlyStopping(monitor='val_accuracy', mode='max', patience=3)\n",
        "callbacks_list = [checkpoint_main, es]\n",
        "fitted_cnn_main = cnn_model_main.fit(X_train_new, y=y_train_cat, validation_data=(X_test_new, y_test_cat), epochs = 150, \n",
        "                                     batch_size = 32, callbacks=callbacks_list, shuffle=True)"
      ],
      "execution_count": 0,
      "outputs": [
        {
          "output_type": "stream",
          "text": [
            "WARNING:tensorflow:From /usr/local/lib/python3.6/dist-packages/keras/optimizers.py:793: The name tf.train.Optimizer is deprecated. Please use tf.compat.v1.train.Optimizer instead.\n",
            "\n",
            "WARNING:tensorflow:From /usr/local/lib/python3.6/dist-packages/keras/backend/tensorflow_backend.py:3576: The name tf.log is deprecated. Please use tf.math.log instead.\n",
            "\n",
            "WARNING:tensorflow:From /usr/local/lib/python3.6/dist-packages/tensorflow_core/python/ops/math_grad.py:1424: where (from tensorflow.python.ops.array_ops) is deprecated and will be removed in a future version.\n",
            "Instructions for updating:\n",
            "Use tf.where in 2.0, which has the same broadcast rule as np.where\n",
            "WARNING:tensorflow:From /usr/local/lib/python3.6/dist-packages/keras/backend/tensorflow_backend.py:1033: The name tf.assign_add is deprecated. Please use tf.compat.v1.assign_add instead.\n",
            "\n",
            "WARNING:tensorflow:From /usr/local/lib/python3.6/dist-packages/keras/backend/tensorflow_backend.py:1020: The name tf.assign is deprecated. Please use tf.compat.v1.assign instead.\n",
            "\n",
            "Train on 3092 samples, validate on 516 samples\n",
            "Epoch 1/150\n",
            "3092/3092 [==============================] - 6s 2ms/step - loss: 3.0036 - acc: 0.1675 - val_loss: 1.7919 - val_acc: 0.3953\n",
            "Epoch 2/150\n",
            " 512/3092 [===>..........................] - ETA: 0s - loss: 2.3548 - acc: 0.2422"
          ],
          "name": "stdout"
        },
        {
          "output_type": "stream",
          "text": [
            "/usr/local/lib/python3.6/dist-packages/keras/callbacks.py:842: RuntimeWarning: Early stopping conditioned on metric `val_accuracy` which is not available. Available metrics are: val_loss,val_acc,loss,acc\n",
            "  (self.monitor, ','.join(list(logs.keys()))), RuntimeWarning\n"
          ],
          "name": "stderr"
        },
        {
          "output_type": "stream",
          "text": [
            "3092/3092 [==============================] - 1s 378us/step - loss: 2.0733 - acc: 0.3292 - val_loss: 1.5831 - val_acc: 0.4516\n",
            "Epoch 3/150\n",
            "3092/3092 [==============================] - 1s 377us/step - loss: 1.6715 - acc: 0.4130 - val_loss: 1.2915 - val_acc: 0.5814\n",
            "Epoch 4/150\n",
            "3092/3092 [==============================] - 1s 370us/step - loss: 1.4692 - acc: 0.4919 - val_loss: 1.0521 - val_acc: 0.7539\n",
            "Epoch 5/150\n",
            "3092/3092 [==============================] - 1s 373us/step - loss: 1.3460 - acc: 0.5385 - val_loss: 1.0860 - val_acc: 0.7422\n",
            "Epoch 6/150\n",
            "3092/3092 [==============================] - 1s 371us/step - loss: 1.2370 - acc: 0.5689 - val_loss: 1.0087 - val_acc: 0.7500\n",
            "Epoch 7/150\n",
            "3092/3092 [==============================] - 1s 377us/step - loss: 1.1788 - acc: 0.5973 - val_loss: 0.9672 - val_acc: 0.7694\n",
            "Epoch 8/150\n",
            "3092/3092 [==============================] - 1s 369us/step - loss: 1.1065 - acc: 0.6113 - val_loss: 0.9290 - val_acc: 0.7946\n",
            "Epoch 9/150\n",
            "3092/3092 [==============================] - 1s 372us/step - loss: 1.0675 - acc: 0.6281 - val_loss: 0.9400 - val_acc: 0.7694\n",
            "Epoch 10/150\n",
            "3092/3092 [==============================] - 1s 371us/step - loss: 1.0113 - acc: 0.6588 - val_loss: 0.8373 - val_acc: 0.8198\n",
            "Epoch 11/150\n",
            "3092/3092 [==============================] - 1s 375us/step - loss: 0.9932 - acc: 0.6624 - val_loss: 0.8066 - val_acc: 0.8198\n",
            "Epoch 12/150\n",
            "3092/3092 [==============================] - 1s 376us/step - loss: 0.9656 - acc: 0.6717 - val_loss: 0.8716 - val_acc: 0.7578\n",
            "Epoch 13/150\n",
            "3092/3092 [==============================] - 1s 376us/step - loss: 0.9391 - acc: 0.6814 - val_loss: 0.8787 - val_acc: 0.7694\n",
            "Epoch 14/150\n",
            "3092/3092 [==============================] - 1s 373us/step - loss: 0.9032 - acc: 0.6892 - val_loss: 0.7806 - val_acc: 0.8411\n",
            "Epoch 15/150\n",
            "3092/3092 [==============================] - 1s 375us/step - loss: 0.8656 - acc: 0.7086 - val_loss: 0.9116 - val_acc: 0.7209\n",
            "Epoch 16/150\n",
            "3092/3092 [==============================] - 1s 379us/step - loss: 0.7989 - acc: 0.7251 - val_loss: 1.1817 - val_acc: 0.5329\n",
            "Epoch 17/150\n",
            "3092/3092 [==============================] - 1s 372us/step - loss: 0.8239 - acc: 0.7128 - val_loss: 1.0620 - val_acc: 0.6066\n",
            "Epoch 18/150\n",
            "3092/3092 [==============================] - 1s 376us/step - loss: 0.8087 - acc: 0.7219 - val_loss: 0.6933 - val_acc: 0.8624\n",
            "Epoch 19/150\n",
            "3092/3092 [==============================] - 1s 371us/step - loss: 0.7645 - acc: 0.7484 - val_loss: 0.7701 - val_acc: 0.7810\n",
            "Epoch 20/150\n",
            "3092/3092 [==============================] - 1s 370us/step - loss: 0.7385 - acc: 0.7439 - val_loss: 0.6733 - val_acc: 0.8585\n",
            "Epoch 21/150\n",
            "3092/3092 [==============================] - 1s 377us/step - loss: 0.7390 - acc: 0.7455 - val_loss: 0.8030 - val_acc: 0.7519\n",
            "Epoch 22/150\n",
            "3092/3092 [==============================] - 1s 376us/step - loss: 0.7000 - acc: 0.7678 - val_loss: 0.6420 - val_acc: 0.8411\n",
            "Epoch 23/150\n",
            "3092/3092 [==============================] - 1s 372us/step - loss: 0.6941 - acc: 0.7639 - val_loss: 0.7711 - val_acc: 0.7500\n",
            "Epoch 24/150\n",
            "3092/3092 [==============================] - 1s 375us/step - loss: 0.7039 - acc: 0.7600 - val_loss: 0.6311 - val_acc: 0.8333\n",
            "Epoch 25/150\n",
            "3092/3092 [==============================] - 1s 374us/step - loss: 0.6686 - acc: 0.7701 - val_loss: 0.5916 - val_acc: 0.8798\n",
            "Epoch 26/150\n",
            "3092/3092 [==============================] - 1s 371us/step - loss: 0.6449 - acc: 0.7814 - val_loss: 0.5994 - val_acc: 0.8624\n",
            "Epoch 27/150\n",
            "3092/3092 [==============================] - 1s 375us/step - loss: 0.6552 - acc: 0.7746 - val_loss: 0.5053 - val_acc: 0.9089\n",
            "Epoch 28/150\n",
            "3092/3092 [==============================] - 1s 372us/step - loss: 0.6377 - acc: 0.7810 - val_loss: 0.5554 - val_acc: 0.8818\n",
            "Epoch 29/150\n",
            "3092/3092 [==============================] - 1s 370us/step - loss: 0.6272 - acc: 0.7888 - val_loss: 0.6514 - val_acc: 0.8004\n",
            "Epoch 30/150\n",
            "3092/3092 [==============================] - 1s 376us/step - loss: 0.6200 - acc: 0.7859 - val_loss: 0.5052 - val_acc: 0.8643\n",
            "Epoch 31/150\n",
            "3092/3092 [==============================] - 1s 376us/step - loss: 0.5947 - acc: 0.7988 - val_loss: 1.3350 - val_acc: 0.4767\n",
            "Epoch 32/150\n",
            "3092/3092 [==============================] - 1s 373us/step - loss: 0.5999 - acc: 0.7982 - val_loss: 0.7331 - val_acc: 0.7442\n",
            "Epoch 33/150\n",
            "3092/3092 [==============================] - 1s 373us/step - loss: 0.5762 - acc: 0.8098 - val_loss: 0.4473 - val_acc: 0.9070\n",
            "Epoch 34/150\n",
            "3092/3092 [==============================] - 1s 376us/step - loss: 0.5741 - acc: 0.8108 - val_loss: 0.7204 - val_acc: 0.7926\n",
            "Epoch 35/150\n",
            "3092/3092 [==============================] - 1s 374us/step - loss: 0.5778 - acc: 0.7979 - val_loss: 0.3757 - val_acc: 0.9264\n",
            "Epoch 36/150\n",
            "3092/3092 [==============================] - 1s 367us/step - loss: 0.5623 - acc: 0.8027 - val_loss: 1.3761 - val_acc: 0.4787\n",
            "Epoch 37/150\n",
            "3092/3092 [==============================] - 1s 383us/step - loss: 0.5546 - acc: 0.8102 - val_loss: 0.4801 - val_acc: 0.8740\n",
            "Epoch 38/150\n",
            "3092/3092 [==============================] - 1s 373us/step - loss: 0.5516 - acc: 0.8257 - val_loss: 1.0682 - val_acc: 0.5988\n",
            "Epoch 39/150\n",
            "3092/3092 [==============================] - 1s 371us/step - loss: 0.5403 - acc: 0.8163 - val_loss: 0.5005 - val_acc: 0.8643\n",
            "Epoch 40/150\n",
            "3092/3092 [==============================] - 1s 375us/step - loss: 0.5444 - acc: 0.8176 - val_loss: 0.7140 - val_acc: 0.7500\n",
            "Epoch 41/150\n",
            "3092/3092 [==============================] - 1s 386us/step - loss: 0.5386 - acc: 0.8266 - val_loss: 0.7682 - val_acc: 0.7287\n",
            "Epoch 42/150\n",
            "3092/3092 [==============================] - 1s 378us/step - loss: 0.5211 - acc: 0.8234 - val_loss: 0.4034 - val_acc: 0.9147\n",
            "Epoch 43/150\n",
            "3092/3092 [==============================] - 1s 375us/step - loss: 0.5164 - acc: 0.8276 - val_loss: 0.4265 - val_acc: 0.8973\n",
            "Epoch 44/150\n",
            "3092/3092 [==============================] - 1s 371us/step - loss: 0.5003 - acc: 0.8289 - val_loss: 0.4321 - val_acc: 0.9147\n",
            "Epoch 45/150\n",
            "3092/3092 [==============================] - 1s 377us/step - loss: 0.5132 - acc: 0.8202 - val_loss: 0.4229 - val_acc: 0.9147\n",
            "Epoch 46/150\n",
            "3092/3092 [==============================] - 1s 374us/step - loss: 0.4871 - acc: 0.8364 - val_loss: 0.4291 - val_acc: 0.8953\n",
            "Epoch 47/150\n",
            "3092/3092 [==============================] - 1s 368us/step - loss: 0.5052 - acc: 0.8341 - val_loss: 0.7297 - val_acc: 0.7384\n",
            "Epoch 48/150\n",
            "3092/3092 [==============================] - 1s 365us/step - loss: 0.4905 - acc: 0.8402 - val_loss: 0.4822 - val_acc: 0.8973\n",
            "Epoch 49/150\n",
            "3092/3092 [==============================] - 1s 376us/step - loss: 0.4832 - acc: 0.8341 - val_loss: 0.6311 - val_acc: 0.7984\n",
            "Epoch 50/150\n",
            "3092/3092 [==============================] - 1s 373us/step - loss: 0.4842 - acc: 0.8373 - val_loss: 0.3215 - val_acc: 0.9322\n",
            "Epoch 51/150\n",
            "3092/3092 [==============================] - 1s 373us/step - loss: 0.4885 - acc: 0.8344 - val_loss: 0.4719 - val_acc: 0.8857\n",
            "Epoch 52/150\n",
            "3092/3092 [==============================] - 1s 371us/step - loss: 0.4820 - acc: 0.8412 - val_loss: 0.5159 - val_acc: 0.8663\n",
            "Epoch 53/150\n",
            "3092/3092 [==============================] - 1s 379us/step - loss: 0.4726 - acc: 0.8386 - val_loss: 0.8152 - val_acc: 0.7132\n",
            "Epoch 54/150\n",
            "3092/3092 [==============================] - 1s 371us/step - loss: 0.4626 - acc: 0.8435 - val_loss: 0.4183 - val_acc: 0.9070\n",
            "Epoch 55/150\n",
            "3092/3092 [==============================] - 1s 375us/step - loss: 0.4672 - acc: 0.8486 - val_loss: 1.0403 - val_acc: 0.6163\n",
            "Epoch 56/150\n",
            "3092/3092 [==============================] - 1s 376us/step - loss: 0.4600 - acc: 0.8480 - val_loss: 0.4183 - val_acc: 0.9031\n",
            "Epoch 57/150\n",
            "3092/3092 [==============================] - 1s 372us/step - loss: 0.4511 - acc: 0.8580 - val_loss: 0.5503 - val_acc: 0.8333\n",
            "Epoch 58/150\n",
            "3092/3092 [==============================] - 1s 375us/step - loss: 0.4476 - acc: 0.8418 - val_loss: 0.5371 - val_acc: 0.8895\n",
            "Epoch 59/150\n",
            "3092/3092 [==============================] - 1s 375us/step - loss: 0.4579 - acc: 0.8415 - val_loss: 0.4253 - val_acc: 0.9186\n",
            "Epoch 60/150\n",
            "3092/3092 [==============================] - 1s 372us/step - loss: 0.4339 - acc: 0.8567 - val_loss: 0.5927 - val_acc: 0.8062\n",
            "Epoch 61/150\n",
            "3092/3092 [==============================] - 1s 376us/step - loss: 0.4401 - acc: 0.8506 - val_loss: 0.4328 - val_acc: 0.8973\n",
            "Epoch 62/150\n",
            "3092/3092 [==============================] - 1s 376us/step - loss: 0.4361 - acc: 0.8522 - val_loss: 0.7283 - val_acc: 0.7209\n",
            "Epoch 63/150\n",
            "3092/3092 [==============================] - 1s 369us/step - loss: 0.4379 - acc: 0.8554 - val_loss: 0.4561 - val_acc: 0.8682\n",
            "Epoch 64/150\n",
            "3092/3092 [==============================] - 1s 379us/step - loss: 0.4228 - acc: 0.8499 - val_loss: 0.8127 - val_acc: 0.6919\n",
            "Epoch 65/150\n",
            "3092/3092 [==============================] - 1s 372us/step - loss: 0.4079 - acc: 0.8600 - val_loss: 0.5460 - val_acc: 0.8333\n",
            "Epoch 66/150\n",
            "3092/3092 [==============================] - 1s 376us/step - loss: 0.4312 - acc: 0.8561 - val_loss: 0.5539 - val_acc: 0.8721\n",
            "Epoch 67/150\n",
            "3092/3092 [==============================] - 1s 382us/step - loss: 0.4234 - acc: 0.8655 - val_loss: 0.3742 - val_acc: 0.9147\n",
            "Epoch 68/150\n",
            "3092/3092 [==============================] - 1s 367us/step - loss: 0.4066 - acc: 0.8600 - val_loss: 0.4379 - val_acc: 0.8876\n",
            "Epoch 69/150\n",
            "3092/3092 [==============================] - 1s 380us/step - loss: 0.4176 - acc: 0.8590 - val_loss: 0.9172 - val_acc: 0.6880\n",
            "Epoch 70/150\n",
            "3092/3092 [==============================] - 1s 378us/step - loss: 0.4204 - acc: 0.8583 - val_loss: 0.5371 - val_acc: 0.8314\n",
            "Epoch 71/150\n",
            "3092/3092 [==============================] - 1s 374us/step - loss: 0.4136 - acc: 0.8645 - val_loss: 0.3648 - val_acc: 0.9302\n",
            "Epoch 72/150\n",
            "3092/3092 [==============================] - 1s 374us/step - loss: 0.4013 - acc: 0.8658 - val_loss: 1.5273 - val_acc: 0.4632\n",
            "Epoch 73/150\n",
            "3092/3092 [==============================] - 1s 368us/step - loss: 0.4250 - acc: 0.8571 - val_loss: 0.4640 - val_acc: 0.8973\n",
            "Epoch 74/150\n",
            "3092/3092 [==============================] - 1s 372us/step - loss: 0.4095 - acc: 0.8616 - val_loss: 0.3606 - val_acc: 0.9128\n",
            "Epoch 75/150\n",
            "3092/3092 [==============================] - 1s 374us/step - loss: 0.4000 - acc: 0.8680 - val_loss: 0.4694 - val_acc: 0.8837\n",
            "Epoch 76/150\n",
            "3092/3092 [==============================] - 1s 373us/step - loss: 0.3826 - acc: 0.8723 - val_loss: 0.9429 - val_acc: 0.6434\n",
            "Epoch 77/150\n",
            "3092/3092 [==============================] - 1s 369us/step - loss: 0.3971 - acc: 0.8645 - val_loss: 0.3886 - val_acc: 0.9012\n",
            "Epoch 78/150\n",
            "3092/3092 [==============================] - 1s 375us/step - loss: 0.4038 - acc: 0.8706 - val_loss: 0.4679 - val_acc: 0.8702\n",
            "Epoch 79/150\n",
            "3092/3092 [==============================] - 1s 374us/step - loss: 0.3721 - acc: 0.8723 - val_loss: 0.4246 - val_acc: 0.8934\n",
            "Epoch 80/150\n",
            "3092/3092 [==============================] - 1s 365us/step - loss: 0.3863 - acc: 0.8684 - val_loss: 0.3274 - val_acc: 0.9264\n",
            "Epoch 81/150\n",
            "3092/3092 [==============================] - 1s 372us/step - loss: 0.3783 - acc: 0.8765 - val_loss: 0.4208 - val_acc: 0.8837\n",
            "Epoch 82/150\n",
            "3092/3092 [==============================] - 1s 365us/step - loss: 0.3981 - acc: 0.8677 - val_loss: 0.3385 - val_acc: 0.9186\n",
            "Epoch 83/150\n",
            "3092/3092 [==============================] - 1s 382us/step - loss: 0.3744 - acc: 0.8768 - val_loss: 0.3538 - val_acc: 0.9225\n",
            "Epoch 84/150\n",
            "3092/3092 [==============================] - 1s 370us/step - loss: 0.3972 - acc: 0.8593 - val_loss: 0.4596 - val_acc: 0.8624\n",
            "Epoch 85/150\n",
            "3092/3092 [==============================] - 1s 371us/step - loss: 0.3741 - acc: 0.8761 - val_loss: 0.3390 - val_acc: 0.9050\n",
            "Epoch 86/150\n",
            "3092/3092 [==============================] - 1s 376us/step - loss: 0.3712 - acc: 0.8790 - val_loss: 0.4214 - val_acc: 0.8798\n",
            "Epoch 87/150\n",
            "3092/3092 [==============================] - 1s 369us/step - loss: 0.3885 - acc: 0.8593 - val_loss: 0.3429 - val_acc: 0.9205\n",
            "Epoch 88/150\n",
            "3092/3092 [==============================] - 1s 384us/step - loss: 0.3794 - acc: 0.8790 - val_loss: 0.3548 - val_acc: 0.9167\n",
            "Epoch 89/150\n",
            "3092/3092 [==============================] - 1s 381us/step - loss: 0.3678 - acc: 0.8726 - val_loss: 0.5601 - val_acc: 0.8353\n",
            "Epoch 90/150\n",
            "3092/3092 [==============================] - 1s 387us/step - loss: 0.3686 - acc: 0.8752 - val_loss: 0.3130 - val_acc: 0.9244\n",
            "Epoch 91/150\n",
            "3092/3092 [==============================] - 1s 383us/step - loss: 0.3648 - acc: 0.8758 - val_loss: 0.6374 - val_acc: 0.7868\n",
            "Epoch 92/150\n",
            "3092/3092 [==============================] - 1s 384us/step - loss: 0.3713 - acc: 0.8706 - val_loss: 0.6696 - val_acc: 0.7694\n",
            "Epoch 93/150\n",
            "3092/3092 [==============================] - 1s 388us/step - loss: 0.3595 - acc: 0.8742 - val_loss: 1.0386 - val_acc: 0.6531\n",
            "Epoch 94/150\n",
            "3092/3092 [==============================] - 1s 387us/step - loss: 0.3621 - acc: 0.8774 - val_loss: 0.3215 - val_acc: 0.9244\n",
            "Epoch 95/150\n",
            "3092/3092 [==============================] - 1s 385us/step - loss: 0.3482 - acc: 0.8832 - val_loss: 0.3775 - val_acc: 0.8992\n",
            "Epoch 96/150\n",
            "3092/3092 [==============================] - 1s 383us/step - loss: 0.3658 - acc: 0.8768 - val_loss: 0.4413 - val_acc: 0.8915\n",
            "Epoch 97/150\n",
            "3092/3092 [==============================] - 1s 378us/step - loss: 0.3627 - acc: 0.8748 - val_loss: 1.4501 - val_acc: 0.5465\n",
            "Epoch 98/150\n",
            "3092/3092 [==============================] - 1s 372us/step - loss: 0.3490 - acc: 0.8907 - val_loss: 0.3118 - val_acc: 0.9244\n",
            "Epoch 99/150\n",
            "3092/3092 [==============================] - 1s 371us/step - loss: 0.3511 - acc: 0.8784 - val_loss: 0.7290 - val_acc: 0.7442\n",
            "Epoch 100/150\n",
            "3092/3092 [==============================] - 1s 377us/step - loss: 0.3512 - acc: 0.8832 - val_loss: 0.4525 - val_acc: 0.8721\n",
            "Epoch 101/150\n",
            "3092/3092 [==============================] - 1s 368us/step - loss: 0.3411 - acc: 0.8858 - val_loss: 0.7023 - val_acc: 0.7287\n",
            "Epoch 102/150\n",
            "3092/3092 [==============================] - 1s 373us/step - loss: 0.3460 - acc: 0.8787 - val_loss: 0.9957 - val_acc: 0.6822\n",
            "Epoch 103/150\n",
            "3092/3092 [==============================] - 1s 377us/step - loss: 0.3596 - acc: 0.8832 - val_loss: 0.3667 - val_acc: 0.9167\n",
            "Epoch 104/150\n",
            "3092/3092 [==============================] - 1s 373us/step - loss: 0.3401 - acc: 0.8875 - val_loss: 0.3852 - val_acc: 0.8973\n",
            "Epoch 105/150\n",
            "3092/3092 [==============================] - 1s 379us/step - loss: 0.3416 - acc: 0.8820 - val_loss: 0.3378 - val_acc: 0.9128\n",
            "Epoch 106/150\n",
            "3092/3092 [==============================] - 1s 374us/step - loss: 0.3425 - acc: 0.8855 - val_loss: 0.3568 - val_acc: 0.9147\n",
            "Epoch 107/150\n",
            "3092/3092 [==============================] - 1s 376us/step - loss: 0.3488 - acc: 0.8839 - val_loss: 0.5657 - val_acc: 0.8178\n",
            "Epoch 108/150\n",
            "3092/3092 [==============================] - 1s 370us/step - loss: 0.3324 - acc: 0.8875 - val_loss: 0.3079 - val_acc: 0.9360\n",
            "Epoch 109/150\n",
            "3092/3092 [==============================] - 1s 372us/step - loss: 0.3074 - acc: 0.8933 - val_loss: 0.3197 - val_acc: 0.9186\n",
            "Epoch 110/150\n",
            "3092/3092 [==============================] - 1s 373us/step - loss: 0.3395 - acc: 0.8868 - val_loss: 0.5729 - val_acc: 0.8120\n",
            "Epoch 111/150\n",
            "3092/3092 [==============================] - 1s 370us/step - loss: 0.3383 - acc: 0.8836 - val_loss: 1.1552 - val_acc: 0.6434\n",
            "Epoch 112/150\n",
            "3092/3092 [==============================] - 1s 368us/step - loss: 0.3300 - acc: 0.8897 - val_loss: 0.6012 - val_acc: 0.8101\n",
            "Epoch 113/150\n",
            "3092/3092 [==============================] - 1s 376us/step - loss: 0.3219 - acc: 0.8913 - val_loss: 0.2871 - val_acc: 0.9419\n",
            "Epoch 114/150\n",
            "3092/3092 [==============================] - 1s 376us/step - loss: 0.3326 - acc: 0.8933 - val_loss: 0.3830 - val_acc: 0.9109\n",
            "Epoch 115/150\n",
            "3092/3092 [==============================] - 1s 377us/step - loss: 0.3153 - acc: 0.8884 - val_loss: 0.5241 - val_acc: 0.8333\n",
            "Epoch 116/150\n",
            "3092/3092 [==============================] - 1s 369us/step - loss: 0.3054 - acc: 0.8959 - val_loss: 0.4653 - val_acc: 0.8527\n",
            "Epoch 117/150\n",
            "3092/3092 [==============================] - 1s 370us/step - loss: 0.3145 - acc: 0.8981 - val_loss: 0.3996 - val_acc: 0.9031\n",
            "Epoch 118/150\n",
            "3092/3092 [==============================] - 1s 373us/step - loss: 0.3464 - acc: 0.8839 - val_loss: 0.4602 - val_acc: 0.8876\n",
            "Epoch 119/150\n",
            "3092/3092 [==============================] - 1s 377us/step - loss: 0.3154 - acc: 0.8929 - val_loss: 1.4498 - val_acc: 0.5426\n",
            "Epoch 120/150\n",
            "3092/3092 [==============================] - 1s 371us/step - loss: 0.3369 - acc: 0.8771 - val_loss: 0.3765 - val_acc: 0.9128\n",
            "Epoch 121/150\n",
            "3092/3092 [==============================] - 1s 377us/step - loss: 0.3182 - acc: 0.8913 - val_loss: 0.5743 - val_acc: 0.8159\n",
            "Epoch 122/150\n",
            "3092/3092 [==============================] - 1s 372us/step - loss: 0.3225 - acc: 0.8875 - val_loss: 0.7896 - val_acc: 0.7248\n",
            "Epoch 123/150\n",
            "3092/3092 [==============================] - 1s 379us/step - loss: 0.3177 - acc: 0.8962 - val_loss: 0.7448 - val_acc: 0.7674\n",
            "Epoch 124/150\n",
            "3092/3092 [==============================] - 1s 373us/step - loss: 0.3161 - acc: 0.8929 - val_loss: 0.2585 - val_acc: 0.9419\n",
            "Epoch 125/150\n",
            "3092/3092 [==============================] - 1s 374us/step - loss: 0.3210 - acc: 0.8939 - val_loss: 0.4178 - val_acc: 0.8702\n",
            "Epoch 126/150\n",
            "3092/3092 [==============================] - 1s 377us/step - loss: 0.3242 - acc: 0.8942 - val_loss: 0.4312 - val_acc: 0.8566\n",
            "Epoch 127/150\n",
            "3092/3092 [==============================] - 1s 369us/step - loss: 0.3287 - acc: 0.8900 - val_loss: 0.4857 - val_acc: 0.8450\n",
            "Epoch 128/150\n",
            "3092/3092 [==============================] - 1s 373us/step - loss: 0.3091 - acc: 0.8949 - val_loss: 0.4816 - val_acc: 0.8450\n",
            "Epoch 129/150\n",
            "3092/3092 [==============================] - 1s 373us/step - loss: 0.3129 - acc: 0.8933 - val_loss: 0.4134 - val_acc: 0.9050\n",
            "Epoch 130/150\n",
            "3092/3092 [==============================] - 1s 366us/step - loss: 0.2861 - acc: 0.9039 - val_loss: 0.8373 - val_acc: 0.7403\n",
            "Epoch 131/150\n",
            "3092/3092 [==============================] - 1s 370us/step - loss: 0.3188 - acc: 0.8949 - val_loss: 0.3758 - val_acc: 0.9128\n",
            "Epoch 132/150\n",
            "3092/3092 [==============================] - 1s 366us/step - loss: 0.3128 - acc: 0.8904 - val_loss: 0.3668 - val_acc: 0.9167\n",
            "Epoch 133/150\n",
            "3092/3092 [==============================] - 1s 375us/step - loss: 0.2928 - acc: 0.9004 - val_loss: 0.4316 - val_acc: 0.8895\n",
            "Epoch 134/150\n",
            "3092/3092 [==============================] - 1s 370us/step - loss: 0.2989 - acc: 0.9023 - val_loss: 1.1604 - val_acc: 0.6221\n",
            "Epoch 135/150\n",
            "3092/3092 [==============================] - 1s 370us/step - loss: 0.3134 - acc: 0.8904 - val_loss: 0.3021 - val_acc: 0.9283\n",
            "Epoch 136/150\n",
            "3092/3092 [==============================] - 1s 365us/step - loss: 0.3126 - acc: 0.8933 - val_loss: 0.5816 - val_acc: 0.8120\n",
            "Epoch 137/150\n",
            "3092/3092 [==============================] - 1s 372us/step - loss: 0.3031 - acc: 0.8997 - val_loss: 0.2917 - val_acc: 0.9360\n",
            "Epoch 138/150\n",
            "3092/3092 [==============================] - 1s 370us/step - loss: 0.2919 - acc: 0.8991 - val_loss: 0.3245 - val_acc: 0.9225\n",
            "Epoch 139/150\n",
            "3092/3092 [==============================] - 1s 371us/step - loss: 0.3176 - acc: 0.8917 - val_loss: 0.2774 - val_acc: 0.9360\n",
            "Epoch 140/150\n",
            "3092/3092 [==============================] - 1s 376us/step - loss: 0.3057 - acc: 0.8994 - val_loss: 1.6044 - val_acc: 0.5310\n",
            "Epoch 141/150\n",
            "3092/3092 [==============================] - 1s 371us/step - loss: 0.3152 - acc: 0.8865 - val_loss: 0.3561 - val_acc: 0.9050\n",
            "Epoch 142/150\n",
            "3092/3092 [==============================] - 1s 367us/step - loss: 0.2868 - acc: 0.9059 - val_loss: 0.3578 - val_acc: 0.8876\n",
            "Epoch 143/150\n",
            "3092/3092 [==============================] - 1s 376us/step - loss: 0.3060 - acc: 0.8942 - val_loss: 0.3242 - val_acc: 0.9244\n",
            "Epoch 144/150\n",
            "3092/3092 [==============================] - 1s 370us/step - loss: 0.2960 - acc: 0.8968 - val_loss: 0.2666 - val_acc: 0.9322\n",
            "Epoch 145/150\n",
            "3092/3092 [==============================] - 1s 379us/step - loss: 0.2883 - acc: 0.9085 - val_loss: 0.4039 - val_acc: 0.8760\n",
            "Epoch 146/150\n",
            "3092/3092 [==============================] - 1s 373us/step - loss: 0.2964 - acc: 0.9033 - val_loss: 0.4776 - val_acc: 0.8411\n",
            "Epoch 147/150\n",
            "3092/3092 [==============================] - 1s 380us/step - loss: 0.2992 - acc: 0.8917 - val_loss: 1.7738 - val_acc: 0.5271\n",
            "Epoch 148/150\n",
            "3092/3092 [==============================] - 1s 377us/step - loss: 0.3040 - acc: 0.8955 - val_loss: 0.2743 - val_acc: 0.9322\n",
            "Epoch 149/150\n",
            "3092/3092 [==============================] - 1s 373us/step - loss: 0.2966 - acc: 0.9004 - val_loss: 0.3228 - val_acc: 0.9050\n",
            "Epoch 150/150\n",
            "3092/3092 [==============================] - 1s 363us/step - loss: 0.2949 - acc: 0.9010 - val_loss: 0.6212 - val_acc: 0.8004\n"
          ],
          "name": "stdout"
        }
      ]
    },
    {
      "cell_type": "code",
      "metadata": {
        "id": "D937UZHcRqMH",
        "colab_type": "code",
        "colab": {}
      },
      "source": [
        "#show the train-test accuracy depending on the epoch\n",
        "def plot_acc_vs_epoch(fit_history):\n",
        "    plt.plot(fit_history.history['acc'])\n",
        "    plt.plot(fit_history.history['val_acc'])\n",
        "    plt.title('Model accuracy')\n",
        "    plt.ylabel('accuracy')\n",
        "    plt.xlabel('epoch')\n",
        "    plt.yticks([0, 0.2, 0.4, 0.6, 0.8, 1.0])\n",
        "    plt.legend(['train', 'test'], loc='lower right')\n",
        "    plt.show()"
      ],
      "execution_count": 0,
      "outputs": []
    },
    {
      "cell_type": "code",
      "metadata": {
        "id": "LyTpWvroRvhu",
        "colab_type": "code",
        "outputId": "685e4c7f-5947-49aa-98c2-3187a4356c75",
        "colab": {
          "base_uri": "https://localhost:8080/",
          "height": 295
        }
      },
      "source": [
        "plot_acc_vs_epoch(fitted_cnn_main)"
      ],
      "execution_count": 0,
      "outputs": [
        {
          "output_type": "display_data",
          "data": {
            "image/png": "[encoded data removed]",
            "text/plain": [
              "<Figure size 432x288 with 1 Axes>"
            ]
          },
          "metadata": {
            "tags": []
          }
        }
      ]
    },
    {
      "cell_type": "code",
      "metadata": {
        "id": "85zAWkLJQU0B",
        "colab_type": "code",
        "outputId": "28fd732d-7bf2-484a-8490-493d49ac9b9e",
        "colab": {
          "base_uri": "https://localhost:8080/",
          "height": 34
        }
      },
      "source": [
        "# Extracting the training accuaracy and validation accuracy of the last epoch.\n",
        "training_acc_cnn_main = fitted_cnn_main.history['acc'][-1]\n",
        "validation_acc_cnn_main = fitted_cnn_main.history['val_acc'][-1]\n",
        "print(f'The training accuracy is {training_acc_cnn_main:.2f} and the validation accuracy is {validation_acc_cnn_main:.2f}')"
      ],
      "execution_count": 0,
      "outputs": [
        {
          "output_type": "stream",
          "text": [
            "The training accuracy is 0.90 and the validation accuracy is 0.80\n"
          ],
          "name": "stdout"
        }
      ]
    },
    {
      "cell_type": "markdown",
      "metadata": {
        "id": "vd3DURAOR2zE",
        "colab_type": "text"
      },
      "source": [
        "## 3.2. Transfer Learning\n",
        "Another method of classifying images is through the process of transfer learning. In transfer learning, the features and weights from the pretrained models are used to train newer models and even handle problems such as having too little datasets, which is the case for our project. This is in contrast to traditional CNN in which the models are built for specific tasks without considering the current available knowledge. <cite>(Sarkar, 2018)</cite>\n",
        "\n",
        "We will be testing out the following pretrained models available in Keras library:\n",
        "1. VGG16 *(Simonyan & Zisserman, 2014)*\n",
        "2. ResNet50 *(He, Zhang, Ren & Sun, 2016)*\n",
        "3. MobileNet *(Howard et al., 2017)*\n",
        "\n",
        "All the 3 transfer learning models that we used were pre-trained on the ImageNet dataset as part of the ImageNet Large Scale Visual Recognition Challenge in which the goal is to train a model to classify an image into 1000 possible categories. These models were shown to have a strong ability to generalize well to images that are not in the ImageNet dataset by transfer learning *(Rosebrock, 2017)*. \n",
        "\n",
        "VGG16 is known to have **3x3 filters in all the convolution layers** coupled with max pooling which makes it a simple architecture. However, there are 2 drawbacks of VGG16. Firstly, it is slow to train the weights and secondly, the model is over 500MB due to a large number of fully connected nodes and its depth. The first problem is due to the vanishing gradient problem in which the gradients computed via backpropagation are very small, causing the weights update to be slow *(Rosebrock, 2017)*.\n",
        "\n",
        "Resnet50 is a model that utilizes the concept of skip connection to build deeper models. This allows it to overcome the vanishing gradient problem which is prominent in VGG16 and other deeper models. In addition to the usual convolution layers, the **skip connection** was added from the input layer to the output layer *(Rosebrock, 2019)*. This connection performs identity mapping which allows the model to learn an identity function which ensures that the higher layers will learn at least the same ability of the lower layers *(Dwivedi, 2019)*. Rosebrock (2019) also noted that the usage of global average pooling over the fully-connected layers reduced the model size to 102MB as compared to VGG16. The figure below shows the architecture of ResNet50, with the skip connection.\n",
        "\n",
        "![Picture](https://www.pyimagesearch.com/wp-content/uploads/2017/03/imagenet_resnet_residual.png)\n",
        "\n",
        "\n",
        "Mobilenet was introduced by Howard, et.al. (2017) to be used in mobile and embedded vision applications. Mobilenet utilizes the **depthwise separable convolutions** which perform a single convolution on each of the 3 colour channels instead of combining all 3 of them and flattening it. This has the effect of greatly reducing the computation and size of the model as compared to VGG16 and ResNet50 *(Howard, et.al., 2017)*. \n"
      ]
    },
    {
      "cell_type": "code",
      "metadata": {
        "id": "Lrwzxu3CWE7N",
        "colab_type": "code",
        "colab": {}
      },
      "source": [
        "# For each pre_trained models, it will be flattened and 2 hidden layers, dropout and 1 output layer will be added. \n",
        "# The arguments first and second are the number of units in each hidden layer respectively. The unit in the output layer is represented by num_of_class\n",
        "# The probability of Dropout is represented by dropout_rate \n",
        "def additional_layers(pre_trained_model, first, second, num_of_class, dropout_rate=0):\n",
        "  final_model = Sequential()\n",
        "  final_model.add(pre_trained_model)\n",
        "  final_model.add(Flatten())\n",
        "  final_model.add(Dense(first, activation='relu'))\n",
        "  final_model.add(Dropout(dropout_rate))\n",
        "  final_model.add(Dense(second, activation='relu'))\n",
        "  final_model.add(Dropout(dropout_rate))\n",
        "  final_model.add(Dense(num_of_class, activation='softmax'))\n",
        "\n",
        "  return final_model"
      ],
      "execution_count": 0,
      "outputs": []
    },
    {
      "cell_type": "code",
      "metadata": {
        "id": "KF0Q0DZRSYnj",
        "colab_type": "code",
        "colab": {}
      },
      "source": [
        "# We have to make our images in RGB format.\n",
        "# To do this we replicated each matrix representing the image 3 times.\n",
        "X_train_new_2D = X_train_new.reshape(X_train_new.shape[0], X_train_new.shape[1], X_train_new.shape[2])\n",
        "X_train_rgb = np.repeat(X_train_new_2D[..., np.newaxis], 3, -1)\n",
        "\n",
        "X_test_new_2D = X_test_new.reshape(X_test_new.shape[0], X_test_new.shape[1], X_test_new.shape[2])\n",
        "X_test_rgb = np.repeat(X_test_new_2D[..., np.newaxis], 3, -1)"
      ],
      "execution_count": 0,
      "outputs": []
    },
    {
      "cell_type": "markdown",
      "metadata": {
        "id": "Tw6wilJkiMXC",
        "colab_type": "text"
      },
      "source": [
        "###Pre-trained Model 1: VGG16 \n",
        "Let us first try just training the last layer of the pre-trained model. "
      ]
    },
    {
      "cell_type": "code",
      "metadata": {
        "id": "ZEx4Z03KiJc9",
        "colab_type": "code",
        "outputId": "357479cb-6abc-433c-bc87-9084753141c1",
        "colab": {
          "base_uri": "https://localhost:8080/",
          "height": 51
        }
      },
      "source": [
        "from keras.applications import VGG16\n",
        "# Fix the input image size\n",
        "image_size=64\n",
        "# Load the VGG model\n",
        "vgg_base = VGG16(weights='imagenet',include_top=False,\n",
        "                 input_shape=(image_size,image_size,3))\n",
        "vgg_base.trainable = False"
      ],
      "execution_count": 0,
      "outputs": [
        {
          "output_type": "stream",
          "text": [
            "Downloading data from https://github.com/fchollet/deep-learning-models/releases/download/v0.1/vgg16_weights_tf_dim_ordering_tf_kernels_notop.h5\n",
            "58892288/58889256 [==============================] - 3s 0us/step\n"
          ],
          "name": "stdout"
        }
      ]
    },
    {
      "cell_type": "code",
      "metadata": {
        "id": "v190htA7ifBl",
        "colab_type": "code",
        "colab": {}
      },
      "source": [
        "vgg_final = additional_layers(vgg_base, 1024,1024,10,0.5)"
      ],
      "execution_count": 0,
      "outputs": []
    },
    {
      "cell_type": "code",
      "metadata": {
        "id": "NiLi0RMOijS2",
        "colab_type": "code",
        "colab": {}
      },
      "source": [
        "from keras.optimizers import SGD\n",
        "# Compile \n",
        "sgd = SGD(lr=0.01)\n",
        "vgg_final.compile(loss='categorical_crossentropy', optimizer=sgd,    metrics=['accuracy'])\n",
        "#checkpoint = keras.callbacks.ModelCheckpoint(\"Checkpoints/weights.{epoch:02d}-{val_loss:.2f}.hdf5\", monitor='val_loss', verbose=0, save_best_only=False, save_weights_only=False, mode='auto', period=1)"
      ],
      "execution_count": 0,
      "outputs": []
    },
    {
      "cell_type": "code",
      "metadata": {
        "id": "EU0jLcgri26d",
        "colab_type": "code",
        "outputId": "535b1e6e-957f-41f5-fc89-d08318a2a0fc",
        "colab": {
          "base_uri": "https://localhost:8080/",
          "height": 1000
        }
      },
      "source": [
        "# Train\n",
        "#checkpoint_vgg16 = ModelCheckpoint(\"/content/drive/My Drive/Checkpoints/vgg16_weights.{epoch:02d}-{val_loss:.2f}.hdf5\", monitor='val_acc', verbose=0, save_best_only=True, save_weights_only=False, mode='auto', period=1)\n",
        "es = EarlyStopping(monitor='val_accuracy', mode='max', patience=3)\n",
        "callbacks_list = [es]\n",
        "fitted_vgg16 = vgg_final.fit(X_train_rgb, y=y_train_cat, validation_data=(X_test_rgb, y_test_cat), epochs = 150, batch_size = 128, callbacks=callbacks_list, shuffle=True)"
      ],
      "execution_count": 0,
      "outputs": [
        {
          "output_type": "stream",
          "text": [
            "Train on 3092 samples, validate on 516 samples\n",
            "Epoch 1/150\n",
            "3092/3092 [==============================] - 6s 2ms/step - loss: 2.3976 - acc: 0.1310 - val_loss: 2.1207 - val_acc: 0.3876\n",
            "Epoch 2/150\n",
            " 128/3092 [>.............................] - ETA: 2s - loss: 2.1760 - acc: 0.2266"
          ],
          "name": "stdout"
        },
        {
          "output_type": "stream",
          "text": [
            "/usr/local/lib/python3.6/dist-packages/keras/callbacks.py:842: RuntimeWarning: Early stopping conditioned on metric `val_accuracy` which is not available. Available metrics are: val_loss,val_acc,loss,acc\n",
            "  (self.monitor, ','.join(list(logs.keys()))), RuntimeWarning\n"
          ],
          "name": "stderr"
        },
        {
          "output_type": "stream",
          "text": [
            "3092/3092 [==============================] - 3s 962us/step - loss: 2.1604 - acc: 0.2128 - val_loss: 1.9065 - val_acc: 0.4690\n",
            "Epoch 3/150\n",
            "3092/3092 [==============================] - 3s 959us/step - loss: 2.0024 - acc: 0.3121 - val_loss: 1.7777 - val_acc: 0.5717\n",
            "Epoch 4/150\n",
            "3092/3092 [==============================] - 3s 955us/step - loss: 1.8575 - acc: 0.3900 - val_loss: 1.6279 - val_acc: 0.6512\n",
            "Epoch 5/150\n",
            "3092/3092 [==============================] - 3s 963us/step - loss: 1.7528 - acc: 0.4276 - val_loss: 1.5220 - val_acc: 0.6376\n",
            "Epoch 6/150\n",
            "3092/3092 [==============================] - 3s 965us/step - loss: 1.6406 - acc: 0.4799 - val_loss: 1.4222 - val_acc: 0.5891\n",
            "Epoch 7/150\n",
            "3092/3092 [==============================] - 3s 963us/step - loss: 1.5541 - acc: 0.4994 - val_loss: 1.3402 - val_acc: 0.6667\n",
            "Epoch 8/150\n",
            "3092/3092 [==============================] - 3s 958us/step - loss: 1.4684 - acc: 0.5213 - val_loss: 1.2608 - val_acc: 0.6570\n",
            "Epoch 9/150\n",
            "3092/3092 [==============================] - 3s 949us/step - loss: 1.3949 - acc: 0.5430 - val_loss: 1.1598 - val_acc: 0.6899\n",
            "Epoch 10/150\n",
            "3092/3092 [==============================] - 3s 963us/step - loss: 1.3277 - acc: 0.5708 - val_loss: 1.1098 - val_acc: 0.7074\n",
            "Epoch 11/150\n",
            "3092/3092 [==============================] - 3s 956us/step - loss: 1.2639 - acc: 0.5902 - val_loss: 1.1290 - val_acc: 0.6589\n",
            "Epoch 12/150\n",
            "3092/3092 [==============================] - 3s 958us/step - loss: 1.2150 - acc: 0.5961 - val_loss: 1.0154 - val_acc: 0.7151\n",
            "Epoch 13/150\n",
            "3092/3092 [==============================] - 3s 958us/step - loss: 1.1738 - acc: 0.6122 - val_loss: 0.9835 - val_acc: 0.7112\n",
            "Epoch 14/150\n",
            "3092/3092 [==============================] - 3s 958us/step - loss: 1.1271 - acc: 0.6265 - val_loss: 0.9542 - val_acc: 0.7035\n",
            "Epoch 15/150\n",
            "3092/3092 [==============================] - 3s 956us/step - loss: 1.1027 - acc: 0.6329 - val_loss: 0.9021 - val_acc: 0.7093\n",
            "Epoch 16/150\n",
            "3092/3092 [==============================] - 3s 953us/step - loss: 1.0407 - acc: 0.6575 - val_loss: 0.8882 - val_acc: 0.7171\n",
            "Epoch 17/150\n",
            "3092/3092 [==============================] - 3s 952us/step - loss: 0.9993 - acc: 0.6653 - val_loss: 0.8318 - val_acc: 0.7481\n",
            "Epoch 18/150\n",
            "3092/3092 [==============================] - 3s 953us/step - loss: 0.9664 - acc: 0.6837 - val_loss: 0.9025 - val_acc: 0.6957\n",
            "Epoch 19/150\n",
            "3092/3092 [==============================] - 3s 960us/step - loss: 0.9596 - acc: 0.6753 - val_loss: 0.7764 - val_acc: 0.7616\n",
            "Epoch 20/150\n",
            "3092/3092 [==============================] - 3s 954us/step - loss: 0.9242 - acc: 0.6853 - val_loss: 0.8143 - val_acc: 0.7287\n",
            "Epoch 21/150\n",
            "3092/3092 [==============================] - 3s 959us/step - loss: 0.9053 - acc: 0.6924 - val_loss: 0.7376 - val_acc: 0.7674\n",
            "Epoch 22/150\n",
            "3092/3092 [==============================] - 3s 953us/step - loss: 0.8652 - acc: 0.7125 - val_loss: 0.7161 - val_acc: 0.7849\n",
            "Epoch 23/150\n",
            "3092/3092 [==============================] - 3s 957us/step - loss: 0.8456 - acc: 0.7170 - val_loss: 0.7384 - val_acc: 0.7287\n",
            "Epoch 24/150\n",
            "3092/3092 [==============================] - 3s 958us/step - loss: 0.8234 - acc: 0.7293 - val_loss: 0.6593 - val_acc: 0.7946\n",
            "Epoch 25/150\n",
            "3092/3092 [==============================] - 3s 952us/step - loss: 0.8008 - acc: 0.7299 - val_loss: 0.7234 - val_acc: 0.7578\n",
            "Epoch 26/150\n",
            "3092/3092 [==============================] - 3s 956us/step - loss: 0.7945 - acc: 0.7303 - val_loss: 0.8354 - val_acc: 0.6899\n",
            "Epoch 27/150\n",
            "3092/3092 [==============================] - 3s 954us/step - loss: 0.7751 - acc: 0.7338 - val_loss: 0.7155 - val_acc: 0.7442\n",
            "Epoch 28/150\n",
            "3092/3092 [==============================] - 3s 956us/step - loss: 0.7463 - acc: 0.7422 - val_loss: 0.6527 - val_acc: 0.7849\n",
            "Epoch 29/150\n",
            "3092/3092 [==============================] - 3s 956us/step - loss: 0.7460 - acc: 0.7468 - val_loss: 0.6198 - val_acc: 0.7888\n",
            "Epoch 30/150\n",
            "3092/3092 [==============================] - 3s 953us/step - loss: 0.7136 - acc: 0.7603 - val_loss: 0.5858 - val_acc: 0.8140\n",
            "Epoch 31/150\n",
            "3092/3092 [==============================] - 3s 953us/step - loss: 0.6997 - acc: 0.7568 - val_loss: 0.5692 - val_acc: 0.8062\n",
            "Epoch 32/150\n",
            "3092/3092 [==============================] - 3s 960us/step - loss: 0.6860 - acc: 0.7668 - val_loss: 0.5977 - val_acc: 0.8198\n",
            "Epoch 33/150\n",
            "3092/3092 [==============================] - 3s 958us/step - loss: 0.6877 - acc: 0.7587 - val_loss: 0.6248 - val_acc: 0.7791\n",
            "Epoch 34/150\n",
            "3092/3092 [==============================] - 3s 958us/step - loss: 0.6607 - acc: 0.7746 - val_loss: 0.5530 - val_acc: 0.8159\n",
            "Epoch 35/150\n",
            "3092/3092 [==============================] - 3s 957us/step - loss: 0.6567 - acc: 0.7739 - val_loss: 0.5617 - val_acc: 0.8333\n",
            "Epoch 36/150\n",
            "3092/3092 [==============================] - 3s 962us/step - loss: 0.6313 - acc: 0.7927 - val_loss: 0.5302 - val_acc: 0.8295\n",
            "Epoch 37/150\n",
            "3092/3092 [==============================] - 3s 955us/step - loss: 0.6355 - acc: 0.7820 - val_loss: 0.6029 - val_acc: 0.7791\n",
            "Epoch 38/150\n",
            "3092/3092 [==============================] - 3s 959us/step - loss: 0.6153 - acc: 0.7911 - val_loss: 0.5236 - val_acc: 0.8081\n",
            "Epoch 39/150\n",
            "3092/3092 [==============================] - 3s 955us/step - loss: 0.6144 - acc: 0.7924 - val_loss: 0.5140 - val_acc: 0.8101\n",
            "Epoch 40/150\n",
            "3092/3092 [==============================] - 3s 954us/step - loss: 0.5932 - acc: 0.7995 - val_loss: 0.4824 - val_acc: 0.8488\n",
            "Epoch 41/150\n",
            "3092/3092 [==============================] - 3s 958us/step - loss: 0.5792 - acc: 0.8060 - val_loss: 0.4869 - val_acc: 0.8450\n",
            "Epoch 42/150\n",
            "3092/3092 [==============================] - 3s 950us/step - loss: 0.5719 - acc: 0.8040 - val_loss: 0.5232 - val_acc: 0.8353\n",
            "Epoch 43/150\n",
            "3092/3092 [==============================] - 3s 952us/step - loss: 0.5648 - acc: 0.8053 - val_loss: 0.5030 - val_acc: 0.8391\n",
            "Epoch 44/150\n",
            "3092/3092 [==============================] - 3s 955us/step - loss: 0.5557 - acc: 0.8030 - val_loss: 0.4890 - val_acc: 0.8198\n",
            "Epoch 45/150\n",
            "3092/3092 [==============================] - 3s 944us/step - loss: 0.5549 - acc: 0.8105 - val_loss: 0.4998 - val_acc: 0.8159\n",
            "Epoch 46/150\n",
            "3092/3092 [==============================] - 3s 946us/step - loss: 0.5552 - acc: 0.8089 - val_loss: 0.5013 - val_acc: 0.8178\n",
            "Epoch 47/150\n",
            "3092/3092 [==============================] - 3s 951us/step - loss: 0.5292 - acc: 0.8131 - val_loss: 0.5133 - val_acc: 0.8198\n",
            "Epoch 48/150\n",
            "3092/3092 [==============================] - 3s 962us/step - loss: 0.5329 - acc: 0.8228 - val_loss: 0.4679 - val_acc: 0.8566\n",
            "Epoch 49/150\n",
            "3092/3092 [==============================] - 3s 960us/step - loss: 0.5307 - acc: 0.8157 - val_loss: 0.5433 - val_acc: 0.8120\n",
            "Epoch 50/150\n",
            "3092/3092 [==============================] - 3s 952us/step - loss: 0.5095 - acc: 0.8263 - val_loss: 0.4681 - val_acc: 0.8450\n",
            "Epoch 51/150\n",
            "3092/3092 [==============================] - 3s 955us/step - loss: 0.5083 - acc: 0.8241 - val_loss: 0.4577 - val_acc: 0.8585\n",
            "Epoch 52/150\n",
            "3092/3092 [==============================] - 3s 953us/step - loss: 0.5008 - acc: 0.8218 - val_loss: 0.4169 - val_acc: 0.8624\n",
            "Epoch 53/150\n",
            "3092/3092 [==============================] - 3s 951us/step - loss: 0.5066 - acc: 0.8276 - val_loss: 0.5614 - val_acc: 0.7829\n",
            "Epoch 54/150\n",
            "3092/3092 [==============================] - 3s 959us/step - loss: 0.4982 - acc: 0.8309 - val_loss: 0.4239 - val_acc: 0.8682\n",
            "Epoch 55/150\n",
            "3092/3092 [==============================] - 3s 956us/step - loss: 0.4895 - acc: 0.8331 - val_loss: 0.5309 - val_acc: 0.8178\n",
            "Epoch 56/150\n",
            "3092/3092 [==============================] - 3s 952us/step - loss: 0.4808 - acc: 0.8383 - val_loss: 0.4555 - val_acc: 0.8469\n",
            "Epoch 57/150\n",
            "3092/3092 [==============================] - 3s 961us/step - loss: 0.4707 - acc: 0.8273 - val_loss: 0.4385 - val_acc: 0.8450\n",
            "Epoch 58/150\n",
            "3092/3092 [==============================] - 3s 962us/step - loss: 0.4757 - acc: 0.8321 - val_loss: 0.5373 - val_acc: 0.8120\n",
            "Epoch 59/150\n",
            "3092/3092 [==============================] - 3s 958us/step - loss: 0.4642 - acc: 0.8364 - val_loss: 0.4895 - val_acc: 0.8333\n",
            "Epoch 60/150\n",
            "3092/3092 [==============================] - 3s 953us/step - loss: 0.4751 - acc: 0.8328 - val_loss: 0.4806 - val_acc: 0.8178\n",
            "Epoch 61/150\n",
            "3092/3092 [==============================] - 3s 959us/step - loss: 0.4531 - acc: 0.8470 - val_loss: 0.4031 - val_acc: 0.8605\n",
            "Epoch 62/150\n",
            "3092/3092 [==============================] - 3s 960us/step - loss: 0.4638 - acc: 0.8451 - val_loss: 0.3974 - val_acc: 0.8585\n",
            "Epoch 63/150\n",
            "3092/3092 [==============================] - 3s 957us/step - loss: 0.4509 - acc: 0.8493 - val_loss: 0.3886 - val_acc: 0.8624\n",
            "Epoch 64/150\n",
            "3092/3092 [==============================] - 3s 961us/step - loss: 0.4385 - acc: 0.8522 - val_loss: 0.7496 - val_acc: 0.7403\n",
            "Epoch 65/150\n",
            "3092/3092 [==============================] - 3s 957us/step - loss: 0.4470 - acc: 0.8503 - val_loss: 0.3854 - val_acc: 0.8547\n",
            "Epoch 66/150\n",
            "3092/3092 [==============================] - 3s 958us/step - loss: 0.4318 - acc: 0.8593 - val_loss: 0.3843 - val_acc: 0.8798\n",
            "Epoch 67/150\n",
            "3092/3092 [==============================] - 3s 955us/step - loss: 0.4255 - acc: 0.8580 - val_loss: 0.3932 - val_acc: 0.8469\n",
            "Epoch 68/150\n",
            "3092/3092 [==============================] - 3s 960us/step - loss: 0.4282 - acc: 0.8519 - val_loss: 0.3852 - val_acc: 0.8702\n",
            "Epoch 69/150\n",
            "3092/3092 [==============================] - 3s 954us/step - loss: 0.4227 - acc: 0.8519 - val_loss: 0.3862 - val_acc: 0.8682\n",
            "Epoch 70/150\n",
            "3092/3092 [==============================] - 3s 963us/step - loss: 0.4091 - acc: 0.8590 - val_loss: 0.4011 - val_acc: 0.8643\n",
            "Epoch 71/150\n",
            "3092/3092 [==============================] - 3s 955us/step - loss: 0.4116 - acc: 0.8558 - val_loss: 0.3859 - val_acc: 0.8624\n",
            "Epoch 72/150\n",
            "3092/3092 [==============================] - 3s 958us/step - loss: 0.4017 - acc: 0.8651 - val_loss: 0.3908 - val_acc: 0.8643\n",
            "Epoch 73/150\n",
            "3092/3092 [==============================] - 3s 958us/step - loss: 0.4129 - acc: 0.8596 - val_loss: 0.4407 - val_acc: 0.8353\n",
            "Epoch 74/150\n",
            "3092/3092 [==============================] - 3s 961us/step - loss: 0.4063 - acc: 0.8596 - val_loss: 0.3517 - val_acc: 0.8798\n",
            "Epoch 75/150\n",
            "3092/3092 [==============================] - 3s 955us/step - loss: 0.3902 - acc: 0.8703 - val_loss: 0.3528 - val_acc: 0.8818\n",
            "Epoch 76/150\n",
            "3092/3092 [==============================] - 3s 952us/step - loss: 0.3926 - acc: 0.8613 - val_loss: 0.3728 - val_acc: 0.8818\n",
            "Epoch 77/150\n",
            "3092/3092 [==============================] - 3s 959us/step - loss: 0.3744 - acc: 0.8723 - val_loss: 0.3805 - val_acc: 0.8760\n",
            "Epoch 78/150\n",
            "3092/3092 [==============================] - 3s 957us/step - loss: 0.3896 - acc: 0.8674 - val_loss: 0.3665 - val_acc: 0.8702\n",
            "Epoch 79/150\n",
            "3092/3092 [==============================] - 3s 962us/step - loss: 0.3762 - acc: 0.8765 - val_loss: 0.4143 - val_acc: 0.8585\n",
            "Epoch 80/150\n",
            "3092/3092 [==============================] - 3s 958us/step - loss: 0.3845 - acc: 0.8680 - val_loss: 0.3515 - val_acc: 0.8915\n",
            "Epoch 81/150\n",
            "3092/3092 [==============================] - 3s 957us/step - loss: 0.3807 - acc: 0.8700 - val_loss: 0.3758 - val_acc: 0.8760\n",
            "Epoch 82/150\n",
            "3092/3092 [==============================] - 3s 957us/step - loss: 0.3787 - acc: 0.8693 - val_loss: 0.4574 - val_acc: 0.8391\n",
            "Epoch 83/150\n",
            "3092/3092 [==============================] - 3s 961us/step - loss: 0.3870 - acc: 0.8684 - val_loss: 0.4659 - val_acc: 0.8295\n",
            "Epoch 84/150\n",
            "3092/3092 [==============================] - 3s 960us/step - loss: 0.3712 - acc: 0.8758 - val_loss: 0.5101 - val_acc: 0.8062\n",
            "Epoch 85/150\n",
            "3092/3092 [==============================] - 3s 965us/step - loss: 0.3776 - acc: 0.8723 - val_loss: 0.3782 - val_acc: 0.8624\n",
            "Epoch 86/150\n",
            "3092/3092 [==============================] - 3s 959us/step - loss: 0.3616 - acc: 0.8784 - val_loss: 0.4908 - val_acc: 0.8120\n",
            "Epoch 87/150\n",
            "3092/3092 [==============================] - 3s 956us/step - loss: 0.3745 - acc: 0.8739 - val_loss: 0.4044 - val_acc: 0.8663\n",
            "Epoch 88/150\n",
            "3092/3092 [==============================] - 3s 957us/step - loss: 0.3582 - acc: 0.8781 - val_loss: 0.5475 - val_acc: 0.8178\n",
            "Epoch 89/150\n",
            "3092/3092 [==============================] - 3s 957us/step - loss: 0.3686 - acc: 0.8735 - val_loss: 0.4281 - val_acc: 0.8391\n",
            "Epoch 90/150\n",
            "3092/3092 [==============================] - 3s 956us/step - loss: 0.3548 - acc: 0.8765 - val_loss: 0.3203 - val_acc: 0.8934\n",
            "Epoch 91/150\n",
            "3092/3092 [==============================] - 3s 956us/step - loss: 0.3402 - acc: 0.8810 - val_loss: 0.3465 - val_acc: 0.8760\n",
            "Epoch 92/150\n",
            "3092/3092 [==============================] - 3s 959us/step - loss: 0.3453 - acc: 0.8913 - val_loss: 0.3724 - val_acc: 0.8547\n",
            "Epoch 93/150\n",
            "3092/3092 [==============================] - 3s 964us/step - loss: 0.3415 - acc: 0.8875 - val_loss: 0.3639 - val_acc: 0.8624\n",
            "Epoch 94/150\n",
            "3092/3092 [==============================] - 3s 960us/step - loss: 0.3389 - acc: 0.8842 - val_loss: 0.3130 - val_acc: 0.9070\n",
            "Epoch 95/150\n",
            "3092/3092 [==============================] - 3s 966us/step - loss: 0.3390 - acc: 0.8881 - val_loss: 0.4662 - val_acc: 0.8450\n",
            "Epoch 96/150\n",
            "3092/3092 [==============================] - 3s 972us/step - loss: 0.3424 - acc: 0.8826 - val_loss: 0.3212 - val_acc: 0.8915\n",
            "Epoch 97/150\n",
            "3092/3092 [==============================] - 3s 956us/step - loss: 0.3396 - acc: 0.8875 - val_loss: 0.3762 - val_acc: 0.8527\n",
            "Epoch 98/150\n",
            "3092/3092 [==============================] - 3s 959us/step - loss: 0.3264 - acc: 0.8855 - val_loss: 0.4379 - val_acc: 0.8333\n",
            "Epoch 99/150\n",
            "3092/3092 [==============================] - 3s 960us/step - loss: 0.3394 - acc: 0.8878 - val_loss: 0.3375 - val_acc: 0.8915\n",
            "Epoch 100/150\n",
            "3092/3092 [==============================] - 3s 956us/step - loss: 0.3231 - acc: 0.8946 - val_loss: 0.3055 - val_acc: 0.9012\n",
            "Epoch 101/150\n",
            "3092/3092 [==============================] - 3s 949us/step - loss: 0.3198 - acc: 0.8887 - val_loss: 0.3599 - val_acc: 0.8663\n",
            "Epoch 102/150\n",
            "3092/3092 [==============================] - 3s 952us/step - loss: 0.3308 - acc: 0.8849 - val_loss: 0.3225 - val_acc: 0.9031\n",
            "Epoch 103/150\n",
            "3092/3092 [==============================] - 3s 957us/step - loss: 0.3217 - acc: 0.8900 - val_loss: 0.3894 - val_acc: 0.8721\n",
            "Epoch 104/150\n",
            "3092/3092 [==============================] - 3s 956us/step - loss: 0.3212 - acc: 0.8862 - val_loss: 0.3064 - val_acc: 0.8934\n",
            "Epoch 105/150\n",
            "3092/3092 [==============================] - 3s 958us/step - loss: 0.3140 - acc: 0.8904 - val_loss: 0.3101 - val_acc: 0.8973\n",
            "Epoch 106/150\n",
            "3092/3092 [==============================] - 3s 961us/step - loss: 0.3021 - acc: 0.8933 - val_loss: 0.3161 - val_acc: 0.8915\n",
            "Epoch 107/150\n",
            "3092/3092 [==============================] - 3s 958us/step - loss: 0.3121 - acc: 0.8907 - val_loss: 0.2994 - val_acc: 0.9012\n",
            "Epoch 108/150\n",
            "3092/3092 [==============================] - 3s 959us/step - loss: 0.3065 - acc: 0.8984 - val_loss: 0.3096 - val_acc: 0.8895\n",
            "Epoch 109/150\n",
            "3092/3092 [==============================] - 3s 958us/step - loss: 0.3097 - acc: 0.8942 - val_loss: 0.3016 - val_acc: 0.9050\n",
            "Epoch 110/150\n",
            "3092/3092 [==============================] - 3s 958us/step - loss: 0.2968 - acc: 0.9001 - val_loss: 0.3206 - val_acc: 0.9012\n",
            "Epoch 111/150\n",
            "3092/3092 [==============================] - 3s 957us/step - loss: 0.3066 - acc: 0.8920 - val_loss: 0.3265 - val_acc: 0.8915\n",
            "Epoch 112/150\n",
            "3092/3092 [==============================] - 3s 955us/step - loss: 0.3008 - acc: 0.9017 - val_loss: 0.3638 - val_acc: 0.8740\n",
            "Epoch 113/150\n",
            "3092/3092 [==============================] - 3s 955us/step - loss: 0.2967 - acc: 0.9062 - val_loss: 0.3453 - val_acc: 0.8702\n",
            "Epoch 114/150\n",
            "3092/3092 [==============================] - 3s 961us/step - loss: 0.2962 - acc: 0.8994 - val_loss: 0.5791 - val_acc: 0.7849\n",
            "Epoch 115/150\n",
            "3092/3092 [==============================] - 3s 959us/step - loss: 0.2901 - acc: 0.9017 - val_loss: 0.3711 - val_acc: 0.8547\n",
            "Epoch 116/150\n",
            "3092/3092 [==============================] - 3s 966us/step - loss: 0.2907 - acc: 0.9043 - val_loss: 0.2872 - val_acc: 0.9031\n",
            "Epoch 117/150\n",
            "3092/3092 [==============================] - 3s 958us/step - loss: 0.2948 - acc: 0.9030 - val_loss: 0.2835 - val_acc: 0.9109\n",
            "Epoch 118/150\n",
            "3092/3092 [==============================] - 3s 954us/step - loss: 0.2855 - acc: 0.9056 - val_loss: 0.3108 - val_acc: 0.8973\n",
            "Epoch 119/150\n",
            "3092/3092 [==============================] - 3s 952us/step - loss: 0.2871 - acc: 0.9027 - val_loss: 0.3356 - val_acc: 0.8837\n",
            "Epoch 120/150\n",
            "3092/3092 [==============================] - 3s 961us/step - loss: 0.2828 - acc: 0.9065 - val_loss: 0.3266 - val_acc: 0.8895\n",
            "Epoch 121/150\n",
            "3092/3092 [==============================] - 3s 956us/step - loss: 0.2740 - acc: 0.9101 - val_loss: 0.3108 - val_acc: 0.8857\n",
            "Epoch 122/150\n",
            "3092/3092 [==============================] - 3s 955us/step - loss: 0.2775 - acc: 0.9043 - val_loss: 0.2947 - val_acc: 0.8992\n",
            "Epoch 123/150\n",
            "3092/3092 [==============================] - 3s 961us/step - loss: 0.2751 - acc: 0.9075 - val_loss: 0.3580 - val_acc: 0.8779\n",
            "Epoch 124/150\n",
            "3092/3092 [==============================] - 3s 956us/step - loss: 0.2710 - acc: 0.9117 - val_loss: 0.3970 - val_acc: 0.8527\n",
            "Epoch 125/150\n",
            "3092/3092 [==============================] - 3s 956us/step - loss: 0.2755 - acc: 0.9046 - val_loss: 0.2919 - val_acc: 0.9012\n",
            "Epoch 126/150\n",
            "3092/3092 [==============================] - 3s 949us/step - loss: 0.2705 - acc: 0.9127 - val_loss: 0.2811 - val_acc: 0.9012\n",
            "Epoch 127/150\n",
            "3092/3092 [==============================] - 3s 955us/step - loss: 0.2688 - acc: 0.9062 - val_loss: 0.3927 - val_acc: 0.8547\n",
            "Epoch 128/150\n",
            "3092/3092 [==============================] - 3s 955us/step - loss: 0.2686 - acc: 0.9146 - val_loss: 0.3076 - val_acc: 0.9031\n",
            "Epoch 129/150\n",
            "3092/3092 [==============================] - 3s 960us/step - loss: 0.2669 - acc: 0.9120 - val_loss: 0.3257 - val_acc: 0.8953\n",
            "Epoch 130/150\n",
            "3092/3092 [==============================] - 3s 958us/step - loss: 0.2653 - acc: 0.9091 - val_loss: 0.2818 - val_acc: 0.9012\n",
            "Epoch 131/150\n",
            "3092/3092 [==============================] - 3s 958us/step - loss: 0.2590 - acc: 0.9114 - val_loss: 0.3030 - val_acc: 0.9050\n",
            "Epoch 132/150\n",
            "3092/3092 [==============================] - 3s 961us/step - loss: 0.2676 - acc: 0.9062 - val_loss: 0.8145 - val_acc: 0.7500\n",
            "Epoch 133/150\n",
            "3092/3092 [==============================] - 3s 957us/step - loss: 0.3032 - acc: 0.8988 - val_loss: 0.2814 - val_acc: 0.9050\n",
            "Epoch 134/150\n",
            "3092/3092 [==============================] - 3s 964us/step - loss: 0.2718 - acc: 0.9085 - val_loss: 0.2969 - val_acc: 0.9012\n",
            "Epoch 135/150\n",
            "3092/3092 [==============================] - 3s 961us/step - loss: 0.2525 - acc: 0.9153 - val_loss: 0.2928 - val_acc: 0.9031\n",
            "Epoch 136/150\n",
            "3092/3092 [==============================] - 3s 961us/step - loss: 0.2622 - acc: 0.9166 - val_loss: 0.3198 - val_acc: 0.8857\n",
            "Epoch 137/150\n",
            "3092/3092 [==============================] - 3s 959us/step - loss: 0.2505 - acc: 0.9175 - val_loss: 0.3492 - val_acc: 0.8837\n",
            "Epoch 138/150\n",
            "3092/3092 [==============================] - 3s 960us/step - loss: 0.2606 - acc: 0.9175 - val_loss: 0.2884 - val_acc: 0.8992\n",
            "Epoch 139/150\n",
            "3092/3092 [==============================] - 3s 960us/step - loss: 0.2421 - acc: 0.9169 - val_loss: 0.2687 - val_acc: 0.9147\n",
            "Epoch 140/150\n",
            "3092/3092 [==============================] - 3s 950us/step - loss: 0.2475 - acc: 0.9188 - val_loss: 0.2852 - val_acc: 0.8915\n",
            "Epoch 141/150\n",
            "3092/3092 [==============================] - 3s 955us/step - loss: 0.2477 - acc: 0.9195 - val_loss: 0.2821 - val_acc: 0.9070\n",
            "Epoch 142/150\n",
            "3092/3092 [==============================] - 3s 962us/step - loss: 0.2352 - acc: 0.9221 - val_loss: 0.2700 - val_acc: 0.9128\n",
            "Epoch 143/150\n",
            "3092/3092 [==============================] - 3s 961us/step - loss: 0.2465 - acc: 0.9195 - val_loss: 0.2988 - val_acc: 0.8818\n",
            "Epoch 144/150\n",
            "3092/3092 [==============================] - 3s 953us/step - loss: 0.2371 - acc: 0.9201 - val_loss: 0.2913 - val_acc: 0.8973\n",
            "Epoch 145/150\n",
            "3092/3092 [==============================] - 3s 955us/step - loss: 0.2567 - acc: 0.9136 - val_loss: 0.4675 - val_acc: 0.8508\n",
            "Epoch 146/150\n",
            "3092/3092 [==============================] - 3s 959us/step - loss: 0.2575 - acc: 0.9085 - val_loss: 0.5392 - val_acc: 0.8101\n",
            "Epoch 147/150\n",
            "3092/3092 [==============================] - 3s 959us/step - loss: 0.2530 - acc: 0.9169 - val_loss: 0.3124 - val_acc: 0.8895\n",
            "Epoch 148/150\n",
            "3092/3092 [==============================] - 3s 947us/step - loss: 0.2321 - acc: 0.9230 - val_loss: 0.4650 - val_acc: 0.8527\n",
            "Epoch 149/150\n",
            "3092/3092 [==============================] - 3s 966us/step - loss: 0.2502 - acc: 0.9149 - val_loss: 0.5065 - val_acc: 0.8198\n",
            "Epoch 150/150\n",
            "3092/3092 [==============================] - 3s 956us/step - loss: 0.2405 - acc: 0.9224 - val_loss: 0.3812 - val_acc: 0.8682\n"
          ],
          "name": "stdout"
        }
      ]
    },
    {
      "cell_type": "code",
      "metadata": {
        "id": "NlAFUVTnu_Cl",
        "colab_type": "code",
        "outputId": "7050155a-3d66-47df-9ca1-d3f06c7f96d1",
        "colab": {
          "base_uri": "https://localhost:8080/",
          "height": 34
        }
      },
      "source": [
        "# Extracting the training accuaracy and validation accuracy of the last epoch.\n",
        "training_acc_vgg16 = fitted_vgg16.history['acc'][-1]\n",
        "validation_acc_vgg16 = fitted_vgg16.history['val_acc'][-1]\n",
        "print(f'The training accuracy is {training_acc_vgg16:.2f} and the validation accuracy is {validation_acc_vgg16:.2f}')"
      ],
      "execution_count": 0,
      "outputs": [
        {
          "output_type": "stream",
          "text": [
            "The training accuracy is 0.92 and the validation accuracy is 0.87\n"
          ],
          "name": "stdout"
        }
      ]
    },
    {
      "cell_type": "markdown",
      "metadata": {
        "id": "36MbsVxetFGl",
        "colab_type": "text"
      },
      "source": [
        "Now let us try unfreezing all layers of the pretrained model and retraining these layers. "
      ]
    },
    {
      "cell_type": "code",
      "metadata": {
        "id": "DQoeiK6M6d6U",
        "colab_type": "code",
        "colab": {}
      },
      "source": [
        "# Fix the input image size\n",
        "image_size=64\n",
        "# Load the VGG model\n",
        "vgg_base = VGG16(weights='imagenet',include_top=False,\n",
        "                 input_shape=(image_size,image_size,3))\n",
        "vgg_base.trainable = True"
      ],
      "execution_count": 0,
      "outputs": []
    },
    {
      "cell_type": "code",
      "metadata": {
        "id": "dzA-5v4YWCD-",
        "colab_type": "code",
        "colab": {}
      },
      "source": [
        "vgg_final = additional_layers(vgg_base, 1024,1024,10,0.5)"
      ],
      "execution_count": 0,
      "outputs": []
    },
    {
      "cell_type": "code",
      "metadata": {
        "id": "5UmK4cwH6d6Y",
        "colab_type": "code",
        "colab": {}
      },
      "source": [
        "# Compile \n",
        "sgd = SGD(lr=0.01)\n",
        "vgg_final.compile(loss='categorical_crossentropy', optimizer=sgd,    metrics=['accuracy'])\n",
        "#checkpoint = keras.callbacks.ModelCheckpoint(\"Checkpoints/weights.{epoch:02d}-{val_loss:.2f}.hdf5\", monitor='val_loss', verbose=0, save_best_only=False, save_weights_only=False, mode='auto', period=1)"
      ],
      "execution_count": 0,
      "outputs": []
    },
    {
      "cell_type": "code",
      "metadata": {
        "id": "k16xj4eV6d6a",
        "colab_type": "code",
        "outputId": "68cc145d-ca22-46bd-a8a8-bf889d8a1a14",
        "colab": {
          "base_uri": "https://localhost:8080/",
          "height": 1000
        }
      },
      "source": [
        "# Train\n",
        "#checkpoint_vgg16 = ModelCheckpoint(\"/content/drive/My Drive/Checkpoints/vgg16_weights.{epoch:02d}-{val_loss:.2f}.hdf5\", monitor='val_acc', verbose=0, save_best_only=True, save_weights_only=False, mode='auto', period=1)\n",
        "es = EarlyStopping(monitor='val_accuracy', mode='max', patience=3)\n",
        "callbacks_list = [es]\n",
        "fitted_vgg16 = vgg_final.fit(X_train_rgb, y=y_train_cat, validation_data=(X_test_rgb, y_test_cat), epochs = 150, batch_size = 128, callbacks=callbacks_list, shuffle=True)"
      ],
      "execution_count": 0,
      "outputs": [
        {
          "output_type": "stream",
          "text": [
            "Train on 3092 samples, validate on 516 samples\n",
            "Epoch 1/150\n",
            "3092/3092 [==============================] - 12s 4ms/step - loss: 2.1993 - acc: 0.2092 - val_loss: 1.5149 - val_acc: 0.5174\n",
            "Epoch 2/150\n"
          ],
          "name": "stdout"
        },
        {
          "output_type": "stream",
          "text": [
            "/usr/local/lib/python3.6/dist-packages/keras/callbacks.py:842: RuntimeWarning: Early stopping conditioned on metric `val_accuracy` which is not available. Available metrics are: val_loss,val_acc,loss,acc\n",
            "  (self.monitor, ','.join(list(logs.keys()))), RuntimeWarning\n"
          ],
          "name": "stderr"
        },
        {
          "output_type": "stream",
          "text": [
            "3092/3092 [==============================] - 8s 3ms/step - loss: 1.6328 - acc: 0.4392 - val_loss: 0.8262 - val_acc: 0.7054\n",
            "Epoch 3/150\n",
            "3092/3092 [==============================] - 8s 3ms/step - loss: 1.0211 - acc: 0.6407 - val_loss: 0.9838 - val_acc: 0.6609\n",
            "Epoch 4/150\n",
            "3092/3092 [==============================] - 8s 3ms/step - loss: 0.7459 - acc: 0.7506 - val_loss: 0.9674 - val_acc: 0.6453\n",
            "Epoch 5/150\n",
            "3092/3092 [==============================] - 8s 3ms/step - loss: 0.4596 - acc: 0.8435 - val_loss: 0.1509 - val_acc: 0.9574\n",
            "Epoch 6/150\n",
            "3092/3092 [==============================] - 8s 3ms/step - loss: 0.1697 - acc: 0.9534 - val_loss: 0.0689 - val_acc: 0.9709\n",
            "Epoch 7/150\n",
            "3092/3092 [==============================] - 8s 3ms/step - loss: 0.1148 - acc: 0.9651 - val_loss: 0.0837 - val_acc: 0.9709\n",
            "Epoch 8/150\n",
            "3092/3092 [==============================] - 8s 3ms/step - loss: 0.2939 - acc: 0.9175 - val_loss: 0.2474 - val_acc: 0.9128\n",
            "Epoch 9/150\n",
            "3092/3092 [==============================] - 8s 3ms/step - loss: 0.2443 - acc: 0.9350 - val_loss: 0.0353 - val_acc: 0.9864\n",
            "Epoch 10/150\n",
            "3092/3092 [==============================] - 8s 3ms/step - loss: 0.0582 - acc: 0.9874 - val_loss: 0.0533 - val_acc: 0.9826\n",
            "Epoch 11/150\n",
            "3092/3092 [==============================] - 8s 3ms/step - loss: 0.0453 - acc: 0.9880 - val_loss: 0.0597 - val_acc: 0.9826\n",
            "Epoch 12/150\n",
            "3092/3092 [==============================] - 8s 3ms/step - loss: 0.0374 - acc: 0.9922 - val_loss: 0.0221 - val_acc: 0.9884\n",
            "Epoch 13/150\n",
            "3092/3092 [==============================] - 8s 3ms/step - loss: 0.0311 - acc: 0.9955 - val_loss: 0.0229 - val_acc: 0.9884\n",
            "Epoch 14/150\n",
            "3092/3092 [==============================] - 8s 3ms/step - loss: 0.0234 - acc: 0.9939 - val_loss: 0.0186 - val_acc: 0.9961\n",
            "Epoch 15/150\n",
            "3092/3092 [==============================] - 8s 3ms/step - loss: 0.0216 - acc: 0.9971 - val_loss: 0.0240 - val_acc: 0.9903\n",
            "Epoch 16/150\n",
            "3092/3092 [==============================] - 8s 3ms/step - loss: 0.0225 - acc: 0.9948 - val_loss: 0.0442 - val_acc: 0.9845\n",
            "Epoch 17/150\n",
            "3092/3092 [==============================] - 8s 3ms/step - loss: 0.0162 - acc: 0.9958 - val_loss: 0.8193 - val_acc: 0.8837\n",
            "Epoch 18/150\n",
            "3092/3092 [==============================] - 8s 3ms/step - loss: 0.1739 - acc: 0.9599 - val_loss: 0.0223 - val_acc: 0.9884\n",
            "Epoch 19/150\n",
            "3092/3092 [==============================] - 8s 3ms/step - loss: 0.0168 - acc: 0.9974 - val_loss: 0.0202 - val_acc: 0.9942\n",
            "Epoch 20/150\n",
            "3092/3092 [==============================] - 8s 3ms/step - loss: 0.0146 - acc: 0.9977 - val_loss: 0.0340 - val_acc: 0.9884\n",
            "Epoch 21/150\n",
            "3092/3092 [==============================] - 8s 3ms/step - loss: 0.0134 - acc: 0.9977 - val_loss: 0.0337 - val_acc: 0.9903\n",
            "Epoch 22/150\n",
            "3092/3092 [==============================] - 8s 3ms/step - loss: 0.0132 - acc: 0.9984 - val_loss: 0.0296 - val_acc: 0.9903\n",
            "Epoch 23/150\n",
            "3092/3092 [==============================] - 8s 3ms/step - loss: 0.0150 - acc: 0.9971 - val_loss: 0.0173 - val_acc: 0.9942\n",
            "Epoch 24/150\n",
            "3092/3092 [==============================] - 8s 3ms/step - loss: 0.0129 - acc: 0.9964 - val_loss: 0.0211 - val_acc: 0.9922\n",
            "Epoch 25/150\n",
            "3092/3092 [==============================] - 8s 3ms/step - loss: 0.0090 - acc: 0.9984 - val_loss: 0.0352 - val_acc: 0.9903\n",
            "Epoch 26/150\n",
            "3092/3092 [==============================] - 8s 3ms/step - loss: 0.0084 - acc: 0.9974 - val_loss: 0.0147 - val_acc: 0.9981\n",
            "Epoch 27/150\n",
            "3092/3092 [==============================] - 8s 3ms/step - loss: 0.0076 - acc: 0.9984 - val_loss: 0.0210 - val_acc: 0.9922\n",
            "Epoch 28/150\n",
            "3092/3092 [==============================] - 8s 3ms/step - loss: 0.0078 - acc: 0.9981 - val_loss: 0.0297 - val_acc: 0.9903\n",
            "Epoch 29/150\n",
            "3092/3092 [==============================] - 8s 3ms/step - loss: 0.0097 - acc: 0.9974 - val_loss: 0.0203 - val_acc: 0.9961\n",
            "Epoch 30/150\n",
            "3092/3092 [==============================] - 8s 3ms/step - loss: 0.0048 - acc: 0.9994 - val_loss: 0.0186 - val_acc: 0.9961\n",
            "Epoch 31/150\n",
            "3092/3092 [==============================] - 8s 3ms/step - loss: 0.0062 - acc: 0.9981 - val_loss: 0.0185 - val_acc: 0.9922\n",
            "Epoch 32/150\n",
            "3092/3092 [==============================] - 8s 3ms/step - loss: 0.0046 - acc: 0.9994 - val_loss: 0.0201 - val_acc: 0.9942\n",
            "Epoch 33/150\n",
            "3092/3092 [==============================] - 8s 3ms/step - loss: 0.0040 - acc: 0.9994 - val_loss: 0.0218 - val_acc: 0.9942\n",
            "Epoch 34/150\n",
            "3092/3092 [==============================] - 8s 3ms/step - loss: 0.0052 - acc: 0.9990 - val_loss: 0.0287 - val_acc: 0.9922\n",
            "Epoch 35/150\n",
            "3092/3092 [==============================] - 8s 3ms/step - loss: 0.0039 - acc: 0.9997 - val_loss: 0.0251 - val_acc: 0.9922\n",
            "Epoch 36/150\n",
            "3092/3092 [==============================] - 8s 3ms/step - loss: 0.0034 - acc: 0.9987 - val_loss: 0.0257 - val_acc: 0.9942\n",
            "Epoch 37/150\n",
            "3092/3092 [==============================] - 8s 3ms/step - loss: 0.0047 - acc: 0.9987 - val_loss: 0.0497 - val_acc: 0.9884\n",
            "Epoch 38/150\n",
            "3092/3092 [==============================] - 8s 3ms/step - loss: 0.0041 - acc: 0.9984 - val_loss: 0.0284 - val_acc: 0.9922\n",
            "Epoch 39/150\n",
            "3092/3092 [==============================] - 8s 3ms/step - loss: 0.0069 - acc: 0.9981 - val_loss: 0.0266 - val_acc: 0.9922\n",
            "Epoch 40/150\n",
            "3092/3092 [==============================] - 8s 3ms/step - loss: 0.0037 - acc: 0.9981 - val_loss: 0.0182 - val_acc: 0.9961\n",
            "Epoch 41/150\n",
            "3092/3092 [==============================] - 8s 3ms/step - loss: 0.0035 - acc: 0.9990 - val_loss: 0.0377 - val_acc: 0.9903\n",
            "Epoch 42/150\n",
            "3092/3092 [==============================] - 8s 3ms/step - loss: 0.0027 - acc: 0.9994 - val_loss: 0.0310 - val_acc: 0.9922\n",
            "Epoch 43/150\n",
            "3092/3092 [==============================] - 8s 3ms/step - loss: 0.0016 - acc: 1.0000 - val_loss: 0.0266 - val_acc: 0.9922\n",
            "Epoch 44/150\n",
            "3092/3092 [==============================] - 8s 3ms/step - loss: 0.0043 - acc: 0.9984 - val_loss: 0.0201 - val_acc: 0.9961\n",
            "Epoch 45/150\n",
            "3092/3092 [==============================] - 8s 3ms/step - loss: 0.0013 - acc: 1.0000 - val_loss: 0.0180 - val_acc: 0.9942\n",
            "Epoch 46/150\n",
            "3092/3092 [==============================] - 8s 3ms/step - loss: 0.0012 - acc: 0.9997 - val_loss: 0.0231 - val_acc: 0.9942\n",
            "Epoch 47/150\n",
            "3092/3092 [==============================] - 8s 3ms/step - loss: 0.0012 - acc: 1.0000 - val_loss: 0.0146 - val_acc: 0.9942\n",
            "Epoch 48/150\n",
            "3092/3092 [==============================] - 8s 3ms/step - loss: 0.0030 - acc: 0.9987 - val_loss: 0.0162 - val_acc: 0.9942\n",
            "Epoch 49/150\n",
            "3092/3092 [==============================] - 8s 3ms/step - loss: 0.0016 - acc: 0.9997 - val_loss: 0.0290 - val_acc: 0.9922\n",
            "Epoch 50/150\n",
            "3092/3092 [==============================] - 8s 3ms/step - loss: 0.0021 - acc: 0.9997 - val_loss: 0.0235 - val_acc: 0.9922\n",
            "Epoch 51/150\n",
            "3092/3092 [==============================] - 8s 3ms/step - loss: 8.3287e-04 - acc: 1.0000 - val_loss: 0.0168 - val_acc: 0.9961\n",
            "Epoch 52/150\n",
            "3092/3092 [==============================] - 8s 3ms/step - loss: 6.8046e-04 - acc: 1.0000 - val_loss: 0.0172 - val_acc: 0.9961\n",
            "Epoch 53/150\n",
            "3092/3092 [==============================] - 8s 3ms/step - loss: 9.5988e-04 - acc: 1.0000 - val_loss: 0.0163 - val_acc: 0.9981\n",
            "Epoch 54/150\n",
            "3092/3092 [==============================] - 8s 3ms/step - loss: 9.5882e-04 - acc: 0.9997 - val_loss: 0.0190 - val_acc: 0.9942\n",
            "Epoch 55/150\n",
            "3092/3092 [==============================] - 8s 3ms/step - loss: 0.0013 - acc: 0.9994 - val_loss: 0.0142 - val_acc: 0.9942\n",
            "Epoch 56/150\n",
            "3092/3092 [==============================] - 8s 3ms/step - loss: 0.0011 - acc: 0.9997 - val_loss: 0.0181 - val_acc: 0.9981\n",
            "Epoch 57/150\n",
            "3092/3092 [==============================] - 8s 3ms/step - loss: 0.0012 - acc: 0.9997 - val_loss: 0.0211 - val_acc: 0.9942\n",
            "Epoch 58/150\n",
            "3092/3092 [==============================] - 8s 3ms/step - loss: 0.0010 - acc: 0.9994 - val_loss: 0.0238 - val_acc: 0.9922\n",
            "Epoch 59/150\n",
            "3092/3092 [==============================] - 8s 3ms/step - loss: 6.0159e-04 - acc: 1.0000 - val_loss: 0.0238 - val_acc: 0.9922\n",
            "Epoch 60/150\n",
            "3092/3092 [==============================] - 8s 3ms/step - loss: 0.0025 - acc: 0.9997 - val_loss: 0.0208 - val_acc: 0.9961\n",
            "Epoch 61/150\n",
            "3092/3092 [==============================] - 8s 3ms/step - loss: 4.5696e-04 - acc: 1.0000 - val_loss: 0.0202 - val_acc: 0.9942\n",
            "Epoch 62/150\n",
            "3092/3092 [==============================] - 8s 3ms/step - loss: 0.0029 - acc: 0.9994 - val_loss: 0.0161 - val_acc: 0.9981\n",
            "Epoch 63/150\n",
            "3092/3092 [==============================] - 8s 3ms/step - loss: 9.8112e-04 - acc: 1.0000 - val_loss: 0.0195 - val_acc: 0.9961\n",
            "Epoch 64/150\n",
            "3092/3092 [==============================] - 8s 3ms/step - loss: 3.6088e-04 - acc: 1.0000 - val_loss: 0.0174 - val_acc: 0.9961\n",
            "Epoch 65/150\n",
            "3092/3092 [==============================] - 8s 3ms/step - loss: 7.6147e-04 - acc: 1.0000 - val_loss: 0.0155 - val_acc: 0.9961\n",
            "Epoch 66/150\n",
            "3092/3092 [==============================] - 8s 3ms/step - loss: 4.5196e-04 - acc: 1.0000 - val_loss: 0.0204 - val_acc: 0.9922\n",
            "Epoch 67/150\n",
            "3092/3092 [==============================] - 8s 3ms/step - loss: 0.0011 - acc: 1.0000 - val_loss: 0.0264 - val_acc: 0.9922\n",
            "Epoch 68/150\n",
            "3092/3092 [==============================] - 8s 3ms/step - loss: 4.4389e-04 - acc: 1.0000 - val_loss: 0.0251 - val_acc: 0.9922\n",
            "Epoch 69/150\n",
            "3092/3092 [==============================] - 8s 3ms/step - loss: 2.3360e-04 - acc: 1.0000 - val_loss: 0.0243 - val_acc: 0.9942\n",
            "Epoch 70/150\n",
            "3092/3092 [==============================] - 8s 3ms/step - loss: 4.7511e-04 - acc: 1.0000 - val_loss: 0.0250 - val_acc: 0.9942\n",
            "Epoch 71/150\n",
            "3092/3092 [==============================] - 8s 3ms/step - loss: 5.2576e-04 - acc: 1.0000 - val_loss: 0.0254 - val_acc: 0.9942\n",
            "Epoch 72/150\n",
            "3092/3092 [==============================] - 8s 3ms/step - loss: 0.0013 - acc: 0.9997 - val_loss: 0.0189 - val_acc: 0.9942\n",
            "Epoch 73/150\n",
            "3092/3092 [==============================] - 8s 3ms/step - loss: 6.5612e-04 - acc: 1.0000 - val_loss: 0.0228 - val_acc: 0.9942\n",
            "Epoch 74/150\n",
            "3092/3092 [==============================] - 8s 3ms/step - loss: 8.0396e-04 - acc: 0.9997 - val_loss: 0.0191 - val_acc: 0.9903\n",
            "Epoch 75/150\n",
            "3092/3092 [==============================] - 8s 3ms/step - loss: 4.0222e-04 - acc: 1.0000 - val_loss: 0.0215 - val_acc: 0.9942\n",
            "Epoch 76/150\n",
            "3092/3092 [==============================] - 8s 3ms/step - loss: 0.0016 - acc: 0.9994 - val_loss: 0.0217 - val_acc: 0.9942\n",
            "Epoch 77/150\n",
            "3092/3092 [==============================] - 8s 3ms/step - loss: 0.0013 - acc: 0.9994 - val_loss: 0.0270 - val_acc: 0.9942\n",
            "Epoch 78/150\n",
            "3092/3092 [==============================] - 8s 3ms/step - loss: 0.0011 - acc: 0.9994 - val_loss: 0.0232 - val_acc: 0.9942\n",
            "Epoch 79/150\n",
            "3092/3092 [==============================] - 8s 3ms/step - loss: 6.4883e-04 - acc: 0.9997 - val_loss: 0.0135 - val_acc: 0.9961\n",
            "Epoch 80/150\n",
            "3092/3092 [==============================] - 8s 3ms/step - loss: 7.1289e-04 - acc: 1.0000 - val_loss: 0.0294 - val_acc: 0.9922\n",
            "Epoch 81/150\n",
            "3092/3092 [==============================] - 8s 3ms/step - loss: 8.8461e-04 - acc: 0.9997 - val_loss: 0.0221 - val_acc: 0.9942\n",
            "Epoch 82/150\n",
            "3092/3092 [==============================] - 8s 3ms/step - loss: 2.9112e-04 - acc: 1.0000 - val_loss: 0.0237 - val_acc: 0.9922\n",
            "Epoch 83/150\n",
            "3092/3092 [==============================] - 8s 3ms/step - loss: 6.5872e-04 - acc: 0.9997 - val_loss: 0.0266 - val_acc: 0.9922\n",
            "Epoch 84/150\n",
            "3092/3092 [==============================] - 8s 3ms/step - loss: 4.7686e-04 - acc: 1.0000 - val_loss: 0.0230 - val_acc: 0.9922\n",
            "Epoch 85/150\n",
            "3092/3092 [==============================] - 8s 3ms/step - loss: 4.0815e-04 - acc: 1.0000 - val_loss: 0.0266 - val_acc: 0.9922\n",
            "Epoch 86/150\n",
            "3092/3092 [==============================] - 8s 3ms/step - loss: 0.0010 - acc: 0.9997 - val_loss: 0.0347 - val_acc: 0.9942\n",
            "Epoch 87/150\n",
            "3092/3092 [==============================] - 8s 3ms/step - loss: 1.8231e-04 - acc: 1.0000 - val_loss: 0.0315 - val_acc: 0.9942\n",
            "Epoch 88/150\n",
            "3092/3092 [==============================] - 8s 3ms/step - loss: 3.3058e-04 - acc: 1.0000 - val_loss: 0.0249 - val_acc: 0.9942\n",
            "Epoch 89/150\n",
            "3092/3092 [==============================] - 8s 3ms/step - loss: 0.0010 - acc: 0.9997 - val_loss: 0.0231 - val_acc: 0.9942\n",
            "Epoch 90/150\n",
            "3092/3092 [==============================] - 8s 3ms/step - loss: 6.7015e-04 - acc: 0.9997 - val_loss: 0.0259 - val_acc: 0.9903\n",
            "Epoch 91/150\n",
            "3092/3092 [==============================] - 8s 3ms/step - loss: 3.4286e-04 - acc: 1.0000 - val_loss: 0.0215 - val_acc: 0.9942\n",
            "Epoch 92/150\n",
            "3092/3092 [==============================] - 8s 3ms/step - loss: 2.0623e-04 - acc: 1.0000 - val_loss: 0.0213 - val_acc: 0.9942\n",
            "Epoch 93/150\n",
            "3092/3092 [==============================] - 8s 3ms/step - loss: 3.5675e-04 - acc: 1.0000 - val_loss: 0.0223 - val_acc: 0.9942\n",
            "Epoch 94/150\n",
            "3092/3092 [==============================] - 8s 3ms/step - loss: 5.4126e-04 - acc: 1.0000 - val_loss: 0.0204 - val_acc: 0.9961\n",
            "Epoch 95/150\n",
            "3092/3092 [==============================] - 8s 3ms/step - loss: 5.2439e-04 - acc: 1.0000 - val_loss: 0.0235 - val_acc: 0.9942\n",
            "Epoch 96/150\n",
            "3092/3092 [==============================] - 8s 3ms/step - loss: 4.7983e-04 - acc: 0.9997 - val_loss: 0.0128 - val_acc: 0.9922\n",
            "Epoch 97/150\n",
            "3092/3092 [==============================] - 8s 3ms/step - loss: 4.2344e-04 - acc: 1.0000 - val_loss: 0.0105 - val_acc: 0.9981\n",
            "Epoch 98/150\n",
            "3092/3092 [==============================] - 8s 3ms/step - loss: 3.2017e-04 - acc: 1.0000 - val_loss: 0.0163 - val_acc: 0.9942\n",
            "Epoch 99/150\n",
            "3092/3092 [==============================] - 8s 3ms/step - loss: 2.0315e-04 - acc: 1.0000 - val_loss: 0.0171 - val_acc: 0.9942\n",
            "Epoch 100/150\n",
            "3092/3092 [==============================] - 8s 3ms/step - loss: 0.0015 - acc: 0.9994 - val_loss: 0.0193 - val_acc: 0.9942\n",
            "Epoch 101/150\n",
            "3092/3092 [==============================] - 8s 3ms/step - loss: 0.0023 - acc: 0.9990 - val_loss: 0.0224 - val_acc: 0.9922\n",
            "Epoch 102/150\n",
            "3092/3092 [==============================] - 8s 3ms/step - loss: 2.7774e-04 - acc: 1.0000 - val_loss: 0.0207 - val_acc: 0.9922\n",
            "Epoch 103/150\n",
            "3092/3092 [==============================] - 8s 3ms/step - loss: 2.4489e-04 - acc: 1.0000 - val_loss: 0.0226 - val_acc: 0.9942\n",
            "Epoch 104/150\n",
            "3092/3092 [==============================] - 8s 3ms/step - loss: 7.5267e-04 - acc: 0.9997 - val_loss: 0.0193 - val_acc: 0.9942\n",
            "Epoch 105/150\n",
            "3092/3092 [==============================] - 8s 3ms/step - loss: 1.2599e-04 - acc: 1.0000 - val_loss: 0.0179 - val_acc: 0.9961\n",
            "Epoch 106/150\n",
            "3092/3092 [==============================] - 8s 3ms/step - loss: 7.4596e-04 - acc: 0.9997 - val_loss: 0.0226 - val_acc: 0.9922\n",
            "Epoch 107/150\n",
            "3092/3092 [==============================] - 8s 3ms/step - loss: 3.7346e-04 - acc: 1.0000 - val_loss: 0.0273 - val_acc: 0.9922\n",
            "Epoch 108/150\n",
            "3092/3092 [==============================] - 8s 3ms/step - loss: 1.2029e-04 - acc: 1.0000 - val_loss: 0.0261 - val_acc: 0.9922\n",
            "Epoch 109/150\n",
            "3092/3092 [==============================] - 8s 3ms/step - loss: 5.0045e-04 - acc: 0.9997 - val_loss: 0.0319 - val_acc: 0.9942\n",
            "Epoch 110/150\n",
            "3092/3092 [==============================] - 8s 3ms/step - loss: 4.3065e-04 - acc: 1.0000 - val_loss: 0.0275 - val_acc: 0.9942\n",
            "Epoch 111/150\n",
            "3092/3092 [==============================] - 8s 3ms/step - loss: 2.4624e-04 - acc: 1.0000 - val_loss: 0.0263 - val_acc: 0.9942\n",
            "Epoch 112/150\n",
            "3092/3092 [==============================] - 8s 3ms/step - loss: 5.3163e-04 - acc: 0.9997 - val_loss: 0.0264 - val_acc: 0.9942\n",
            "Epoch 113/150\n",
            "3092/3092 [==============================] - 8s 3ms/step - loss: 1.8866e-04 - acc: 1.0000 - val_loss: 0.0220 - val_acc: 0.9961\n",
            "Epoch 114/150\n",
            "3092/3092 [==============================] - 8s 3ms/step - loss: 0.0012 - acc: 0.9997 - val_loss: 0.0268 - val_acc: 0.9922\n",
            "Epoch 115/150\n",
            "3092/3092 [==============================] - 8s 3ms/step - loss: 5.3500e-04 - acc: 1.0000 - val_loss: 0.0186 - val_acc: 0.9942\n",
            "Epoch 116/150\n",
            "3092/3092 [==============================] - 8s 3ms/step - loss: 5.2533e-04 - acc: 1.0000 - val_loss: 0.0143 - val_acc: 0.9961\n",
            "Epoch 117/150\n",
            "3092/3092 [==============================] - 8s 3ms/step - loss: 1.3763e-04 - acc: 1.0000 - val_loss: 0.0152 - val_acc: 0.9961\n",
            "Epoch 118/150\n",
            "3092/3092 [==============================] - 8s 3ms/step - loss: 1.4723e-04 - acc: 1.0000 - val_loss: 0.0155 - val_acc: 0.9961\n",
            "Epoch 119/150\n",
            "3092/3092 [==============================] - 8s 3ms/step - loss: 4.9463e-04 - acc: 1.0000 - val_loss: 0.0250 - val_acc: 0.9981\n",
            "Epoch 120/150\n",
            "3092/3092 [==============================] - 8s 3ms/step - loss: 1.4809e-04 - acc: 1.0000 - val_loss: 0.0254 - val_acc: 0.9981\n",
            "Epoch 121/150\n",
            "3092/3092 [==============================] - 8s 3ms/step - loss: 9.1223e-05 - acc: 1.0000 - val_loss: 0.0237 - val_acc: 0.9981\n",
            "Epoch 122/150\n",
            "3092/3092 [==============================] - 8s 3ms/step - loss: 2.6418e-04 - acc: 1.0000 - val_loss: 0.0310 - val_acc: 0.9942\n",
            "Epoch 123/150\n",
            "3092/3092 [==============================] - 8s 3ms/step - loss: 8.1568e-04 - acc: 0.9997 - val_loss: 0.0196 - val_acc: 0.9922\n",
            "Epoch 124/150\n",
            "3092/3092 [==============================] - 8s 3ms/step - loss: 0.0018 - acc: 0.9994 - val_loss: 0.0329 - val_acc: 0.9922\n",
            "Epoch 125/150\n",
            "3092/3092 [==============================] - 8s 3ms/step - loss: 6.2780e-04 - acc: 0.9997 - val_loss: 0.0345 - val_acc: 0.9922\n",
            "Epoch 126/150\n",
            "3092/3092 [==============================] - 8s 3ms/step - loss: 3.8508e-04 - acc: 1.0000 - val_loss: 0.0298 - val_acc: 0.9922\n",
            "Epoch 127/150\n",
            "3092/3092 [==============================] - 8s 3ms/step - loss: 1.4726e-04 - acc: 1.0000 - val_loss: 0.0309 - val_acc: 0.9922\n",
            "Epoch 128/150\n",
            "3092/3092 [==============================] - 8s 3ms/step - loss: 2.4660e-04 - acc: 1.0000 - val_loss: 0.0292 - val_acc: 0.9942\n",
            "Epoch 129/150\n",
            "3092/3092 [==============================] - 8s 3ms/step - loss: 2.8289e-04 - acc: 1.0000 - val_loss: 0.0242 - val_acc: 0.9922\n",
            "Epoch 130/150\n",
            "3092/3092 [==============================] - 8s 3ms/step - loss: 1.3462e-04 - acc: 1.0000 - val_loss: 0.0271 - val_acc: 0.9942\n",
            "Epoch 131/150\n",
            "3092/3092 [==============================] - 8s 3ms/step - loss: 1.5341e-04 - acc: 1.0000 - val_loss: 0.0298 - val_acc: 0.9942\n",
            "Epoch 132/150\n",
            "3092/3092 [==============================] - 8s 3ms/step - loss: 3.8616e-04 - acc: 1.0000 - val_loss: 0.0323 - val_acc: 0.9942\n",
            "Epoch 133/150\n",
            "3092/3092 [==============================] - 8s 3ms/step - loss: 1.6158e-04 - acc: 1.0000 - val_loss: 0.0286 - val_acc: 0.9961\n",
            "Epoch 134/150\n",
            "3092/3092 [==============================] - 8s 3ms/step - loss: 1.0140e-04 - acc: 1.0000 - val_loss: 0.0314 - val_acc: 0.9942\n",
            "Epoch 135/150\n",
            "3092/3092 [==============================] - 8s 3ms/step - loss: 1.2277e-04 - acc: 1.0000 - val_loss: 0.0307 - val_acc: 0.9942\n",
            "Epoch 136/150\n",
            "3092/3092 [==============================] - 8s 3ms/step - loss: 4.8977e-04 - acc: 0.9997 - val_loss: 0.0321 - val_acc: 0.9942\n",
            "Epoch 137/150\n",
            "3092/3092 [==============================] - 8s 3ms/step - loss: 5.7483e-04 - acc: 0.9997 - val_loss: 0.0410 - val_acc: 0.9942\n",
            "Epoch 138/150\n",
            "3092/3092 [==============================] - 8s 3ms/step - loss: 1.5127e-04 - acc: 1.0000 - val_loss: 0.0380 - val_acc: 0.9942\n",
            "Epoch 139/150\n",
            "3092/3092 [==============================] - 8s 3ms/step - loss: 0.0010 - acc: 0.9997 - val_loss: 0.0319 - val_acc: 0.9942\n",
            "Epoch 140/150\n",
            "3092/3092 [==============================] - 8s 3ms/step - loss: 2.3172e-04 - acc: 1.0000 - val_loss: 0.0251 - val_acc: 0.9942\n",
            "Epoch 141/150\n",
            "3092/3092 [==============================] - 8s 3ms/step - loss: 1.2820e-04 - acc: 1.0000 - val_loss: 0.0229 - val_acc: 0.9942\n",
            "Epoch 142/150\n",
            "3092/3092 [==============================] - 8s 3ms/step - loss: 2.5270e-04 - acc: 1.0000 - val_loss: 0.0222 - val_acc: 0.9961\n",
            "Epoch 143/150\n",
            "3092/3092 [==============================] - 8s 3ms/step - loss: 2.0557e-04 - acc: 1.0000 - val_loss: 0.0243 - val_acc: 0.9942\n",
            "Epoch 144/150\n",
            "3092/3092 [==============================] - 8s 3ms/step - loss: 1.1449e-04 - acc: 1.0000 - val_loss: 0.0237 - val_acc: 0.9942\n",
            "Epoch 145/150\n",
            "3092/3092 [==============================] - 8s 3ms/step - loss: 1.0282e-04 - acc: 1.0000 - val_loss: 0.0242 - val_acc: 0.9942\n",
            "Epoch 146/150\n",
            "3092/3092 [==============================] - 8s 3ms/step - loss: 1.5947e-04 - acc: 1.0000 - val_loss: 0.0199 - val_acc: 0.9961\n",
            "Epoch 147/150\n",
            "3092/3092 [==============================] - 8s 3ms/step - loss: 1.2403e-04 - acc: 1.0000 - val_loss: 0.0211 - val_acc: 0.9961\n",
            "Epoch 148/150\n",
            "3092/3092 [==============================] - 8s 3ms/step - loss: 8.7386e-05 - acc: 1.0000 - val_loss: 0.0199 - val_acc: 0.9961\n",
            "Epoch 149/150\n",
            "3092/3092 [==============================] - 8s 3ms/step - loss: 5.6500e-05 - acc: 1.0000 - val_loss: 0.0204 - val_acc: 0.9961\n",
            "Epoch 150/150\n",
            "3092/3092 [==============================] - 8s 3ms/step - loss: 1.2413e-04 - acc: 1.0000 - val_loss: 0.0215 - val_acc: 0.9961\n"
          ],
          "name": "stdout"
        }
      ]
    },
    {
      "cell_type": "code",
      "metadata": {
        "id": "JOIShmHpvSFB",
        "colab_type": "code",
        "outputId": "b745fbac-d8a2-43e8-c6b2-8ca9e96fc5db",
        "colab": {
          "base_uri": "https://localhost:8080/",
          "height": 34
        }
      },
      "source": [
        "# Extracting the training accuaracy and validation accuracy of the last epoch.\n",
        "training_acc_vgg16 = fitted_vgg16.history['acc'][-1]\n",
        "validation_acc_vgg16 = fitted_vgg16.history['val_acc'][-1]\n",
        "print(f'The training accuracy is {training_acc_vgg16:.2f} and the validation accuracy is {validation_acc_vgg16:.2f}')"
      ],
      "execution_count": 0,
      "outputs": [
        {
          "output_type": "stream",
          "text": [
            "The training accuracy is 1.00 and the validation accuracy is 1.00\n"
          ],
          "name": "stdout"
        }
      ]
    },
    {
      "cell_type": "markdown",
      "metadata": {
        "id": "ai2LThg7tfVo",
        "colab_type": "text"
      },
      "source": [
        "The training accuracy is 100% and the validation accuracy is 100% after unfreezing all layers and retraining them. This is a lot higher compared to when we just unfreeze the top layer. We suspect this is because our images are greyscale images while pre-trained models are usually trained on RGB images, hence there is perhaps a need to retrain all layers. ResNet50 and MobileNet have this problem (model trained on RGB images) as well, hence going forward, we decide to unfreeze all layers and retrain them. "
      ]
    },
    {
      "cell_type": "code",
      "metadata": {
        "id": "X13TmltSZXf-",
        "colab_type": "code",
        "outputId": "1e4cb794-dc9b-472d-abd4-a643f31829c4",
        "colab": {
          "base_uri": "https://localhost:8080/",
          "height": 295
        }
      },
      "source": [
        "plot_acc_vs_epoch(fitted_vgg16)"
      ],
      "execution_count": 0,
      "outputs": [
        {
          "output_type": "display_data",
          "data": {
            "image/png": "[encoded data removed]",
            "text/plain": [
              "<Figure size 432x288 with 1 Axes>"
            ]
          },
          "metadata": {
            "tags": []
          }
        }
      ]
    },
    {
      "cell_type": "markdown",
      "metadata": {
        "id": "hF0BKP4zVpEs",
        "colab_type": "text"
      },
      "source": [
        "###Pre-trained Model 2: MobileNet"
      ]
    },
    {
      "cell_type": "code",
      "metadata": {
        "id": "0prHTRPkaGit",
        "colab_type": "code",
        "outputId": "5069e7be-1f4a-42ee-a08a-1424ddf5c4fa",
        "colab": {
          "base_uri": "https://localhost:8080/",
          "height": 105
        }
      },
      "source": [
        "from keras.applications.mobilenet import MobileNet\n",
        "# to fix the input image size\n",
        "image_size=64\n",
        "# Load the VGG model\n",
        "mobile_base = MobileNet(include_top=False,\n",
        "                 input_shape=(image_size,image_size,3))\n",
        "mobile_base.trainable = True\n",
        "\n",
        "mobile_final = additional_layers(mobile_base, 1024,1024,10,0.5)\n",
        "\n",
        "sgd = SGD(lr=0.01)\n",
        "mobile_final.compile(loss='categorical_crossentropy', optimizer=sgd, metrics=['accuracy']) #optmizer can change to adam also\n"
      ],
      "execution_count": 0,
      "outputs": [
        {
          "output_type": "stream",
          "text": [
            "/usr/local/lib/python3.6/dist-packages/keras_applications/mobilenet.py:207: UserWarning: `input_shape` is undefined or non-square, or `rows` is not in [128, 160, 192, 224]. Weights for input shape (224, 224) will be loaded as the default.\n",
            "  warnings.warn('`input_shape` is undefined or non-square, '\n"
          ],
          "name": "stderr"
        },
        {
          "output_type": "stream",
          "text": [
            "Downloading data from https://github.com/fchollet/deep-learning-models/releases/download/v0.6/mobilenet_1_0_224_tf_no_top.h5\n",
            "17227776/17225924 [==============================] - 1s 0us/step\n"
          ],
          "name": "stdout"
        }
      ]
    },
    {
      "cell_type": "code",
      "metadata": {
        "id": "BG_6E3WdarQA",
        "colab_type": "code",
        "outputId": "c4eae327-c770-4025-af0b-d06d5b08dc91",
        "colab": {
          "base_uri": "https://localhost:8080/",
          "height": 1000
        }
      },
      "source": [
        "#checkpoint_mobilenet = ModelCheckpoint(\"/content/drive/My Drive/Checkpoints/mobile_weights.{epoch:02d}-{val_loss:.2f}.hdf5\", monitor='val_acc', verbose=0, save_best_only=True, save_weights_only=False, mode='auto', period=1)\n",
        "es = EarlyStopping(monitor='val_accuracy', mode='max', patience=3)\n",
        "callbacks_list = [es]\n",
        "fitted_mobile = mobile_final.fit(X_train_rgb, y=y_train_cat, validation_data=(X_test_rgb, y_test_cat), epochs = 150, batch_size = 32, callbacks=callbacks_list, shuffle=True)"
      ],
      "execution_count": 0,
      "outputs": [
        {
          "output_type": "stream",
          "text": [
            "Train on 3092 samples, validate on 516 samples\n",
            "Epoch 1/150\n",
            "3092/3092 [==============================] - 11s 4ms/step - loss: 1.9251 - acc: 0.4809 - val_loss: 0.4935 - val_acc: 0.8236\n",
            "Epoch 2/150\n",
            "  96/3092 [..............................] - ETA: 4s - loss: 0.9049 - acc: 0.6979"
          ],
          "name": "stdout"
        },
        {
          "output_type": "stream",
          "text": [
            "/usr/local/lib/python3.6/dist-packages/keras/callbacks.py:842: RuntimeWarning: Early stopping conditioned on metric `val_accuracy` which is not available. Available metrics are: val_loss,val_acc,loss,acc\n",
            "  (self.monitor, ','.join(list(logs.keys()))), RuntimeWarning\n"
          ],
          "name": "stderr"
        },
        {
          "output_type": "stream",
          "text": [
            "3092/3092 [==============================] - 5s 2ms/step - loss: 0.6308 - acc: 0.7878 - val_loss: 0.2204 - val_acc: 0.9419\n",
            "Epoch 3/150\n",
            "3092/3092 [==============================] - 5s 2ms/step - loss: 0.3447 - acc: 0.8862 - val_loss: 0.1643 - val_acc: 0.9341\n",
            "Epoch 4/150\n",
            "3092/3092 [==============================] - 5s 2ms/step - loss: 0.2274 - acc: 0.9272 - val_loss: 0.0880 - val_acc: 0.9632\n",
            "Epoch 5/150\n",
            "3092/3092 [==============================] - 5s 2ms/step - loss: 0.1753 - acc: 0.9434 - val_loss: 0.0744 - val_acc: 0.9729\n",
            "Epoch 6/150\n",
            "3092/3092 [==============================] - 5s 2ms/step - loss: 0.1169 - acc: 0.9644 - val_loss: 0.0800 - val_acc: 0.9729\n",
            "Epoch 7/150\n",
            "3092/3092 [==============================] - 5s 2ms/step - loss: 0.1100 - acc: 0.9654 - val_loss: 0.0777 - val_acc: 0.9729\n",
            "Epoch 8/150\n",
            "3092/3092 [==============================] - 5s 2ms/step - loss: 0.0822 - acc: 0.9715 - val_loss: 0.0625 - val_acc: 0.9767\n",
            "Epoch 9/150\n",
            "3092/3092 [==============================] - 5s 2ms/step - loss: 0.0559 - acc: 0.9842 - val_loss: 0.0548 - val_acc: 0.9864\n",
            "Epoch 10/150\n",
            "3092/3092 [==============================] - 5s 2ms/step - loss: 0.0492 - acc: 0.9835 - val_loss: 0.0266 - val_acc: 0.9903\n",
            "Epoch 11/150\n",
            "3092/3092 [==============================] - 5s 2ms/step - loss: 0.0461 - acc: 0.9845 - val_loss: 0.0522 - val_acc: 0.9826\n",
            "Epoch 12/150\n",
            "3092/3092 [==============================] - 5s 2ms/step - loss: 0.0425 - acc: 0.9845 - val_loss: 0.0119 - val_acc: 0.9981\n",
            "Epoch 13/150\n",
            "3092/3092 [==============================] - 5s 2ms/step - loss: 0.0402 - acc: 0.9880 - val_loss: 0.0448 - val_acc: 0.9845\n",
            "Epoch 14/150\n",
            "3092/3092 [==============================] - 5s 2ms/step - loss: 0.0291 - acc: 0.9926 - val_loss: 0.0217 - val_acc: 0.9903\n",
            "Epoch 15/150\n",
            "3092/3092 [==============================] - 5s 2ms/step - loss: 0.0283 - acc: 0.9909 - val_loss: 0.0456 - val_acc: 0.9884\n",
            "Epoch 16/150\n",
            "3092/3092 [==============================] - 5s 2ms/step - loss: 0.0266 - acc: 0.9926 - val_loss: 0.0438 - val_acc: 0.9884\n",
            "Epoch 17/150\n",
            "3092/3092 [==============================] - 5s 2ms/step - loss: 0.0215 - acc: 0.9932 - val_loss: 0.0238 - val_acc: 0.9942\n",
            "Epoch 18/150\n",
            "3092/3092 [==============================] - 5s 2ms/step - loss: 0.0179 - acc: 0.9929 - val_loss: 0.0185 - val_acc: 0.9903\n",
            "Epoch 19/150\n",
            "3092/3092 [==============================] - 5s 2ms/step - loss: 0.0230 - acc: 0.9929 - val_loss: 0.0218 - val_acc: 0.9903\n",
            "Epoch 20/150\n",
            "3092/3092 [==============================] - 5s 2ms/step - loss: 0.0116 - acc: 0.9968 - val_loss: 0.0218 - val_acc: 0.9922\n",
            "Epoch 21/150\n",
            "3092/3092 [==============================] - 5s 2ms/step - loss: 0.0149 - acc: 0.9964 - val_loss: 0.0455 - val_acc: 0.9845\n",
            "Epoch 22/150\n",
            "3092/3092 [==============================] - 5s 2ms/step - loss: 0.0326 - acc: 0.9916 - val_loss: 0.0388 - val_acc: 0.9922\n",
            "Epoch 23/150\n",
            "3092/3092 [==============================] - 5s 2ms/step - loss: 0.0149 - acc: 0.9961 - val_loss: 0.0995 - val_acc: 0.9806\n",
            "Epoch 24/150\n",
            "3092/3092 [==============================] - 5s 2ms/step - loss: 0.0270 - acc: 0.9913 - val_loss: 0.0305 - val_acc: 0.9942\n",
            "Epoch 25/150\n",
            "3092/3092 [==============================] - 5s 2ms/step - loss: 0.0248 - acc: 0.9919 - val_loss: 0.0352 - val_acc: 0.9884\n",
            "Epoch 26/150\n",
            "3092/3092 [==============================] - 5s 2ms/step - loss: 0.0162 - acc: 0.9942 - val_loss: 0.0547 - val_acc: 0.9884\n",
            "Epoch 27/150\n",
            "3092/3092 [==============================] - 6s 2ms/step - loss: 0.0187 - acc: 0.9951 - val_loss: 0.0331 - val_acc: 0.9884\n",
            "Epoch 28/150\n",
            "3092/3092 [==============================] - 6s 2ms/step - loss: 0.0231 - acc: 0.9932 - val_loss: 0.0290 - val_acc: 0.9942\n",
            "Epoch 29/150\n",
            "3092/3092 [==============================] - 5s 2ms/step - loss: 0.0206 - acc: 0.9919 - val_loss: 0.0251 - val_acc: 0.9922\n",
            "Epoch 30/150\n",
            "3092/3092 [==============================] - 5s 2ms/step - loss: 0.0123 - acc: 0.9971 - val_loss: 0.0178 - val_acc: 0.9961\n",
            "Epoch 31/150\n",
            "3092/3092 [==============================] - 5s 2ms/step - loss: 0.0120 - acc: 0.9971 - val_loss: 0.0077 - val_acc: 0.9942\n",
            "Epoch 32/150\n",
            "3092/3092 [==============================] - 5s 2ms/step - loss: 0.0109 - acc: 0.9968 - val_loss: 0.0266 - val_acc: 0.9922\n",
            "Epoch 33/150\n",
            "3092/3092 [==============================] - 5s 2ms/step - loss: 0.0081 - acc: 0.9968 - val_loss: 0.0114 - val_acc: 0.9961\n",
            "Epoch 34/150\n",
            "3092/3092 [==============================] - 5s 2ms/step - loss: 0.0080 - acc: 0.9971 - val_loss: 0.0432 - val_acc: 0.9864\n",
            "Epoch 35/150\n",
            "3092/3092 [==============================] - 5s 2ms/step - loss: 0.0090 - acc: 0.9977 - val_loss: 0.0231 - val_acc: 0.9922\n",
            "Epoch 36/150\n",
            "3092/3092 [==============================] - 5s 2ms/step - loss: 0.0040 - acc: 0.9987 - val_loss: 0.0258 - val_acc: 0.9903\n",
            "Epoch 37/150\n",
            "3092/3092 [==============================] - 5s 2ms/step - loss: 0.0068 - acc: 0.9987 - val_loss: 0.0239 - val_acc: 0.9942\n",
            "Epoch 38/150\n",
            "3092/3092 [==============================] - 5s 2ms/step - loss: 0.0044 - acc: 0.9994 - val_loss: 0.0314 - val_acc: 0.9884\n",
            "Epoch 39/150\n",
            "3092/3092 [==============================] - 5s 2ms/step - loss: 0.0052 - acc: 0.9981 - val_loss: 0.0243 - val_acc: 0.9922\n",
            "Epoch 40/150\n",
            "3092/3092 [==============================] - 5s 2ms/step - loss: 0.0026 - acc: 0.9990 - val_loss: 0.0211 - val_acc: 0.9903\n",
            "Epoch 41/150\n",
            "3092/3092 [==============================] - 6s 2ms/step - loss: 0.0066 - acc: 0.9974 - val_loss: 0.0441 - val_acc: 0.9903\n",
            "Epoch 42/150\n",
            "3092/3092 [==============================] - 6s 2ms/step - loss: 0.0028 - acc: 0.9994 - val_loss: 0.0388 - val_acc: 0.9922\n",
            "Epoch 43/150\n",
            "3092/3092 [==============================] - 6s 2ms/step - loss: 0.0047 - acc: 0.9987 - val_loss: 0.0340 - val_acc: 0.9922\n",
            "Epoch 44/150\n",
            "3092/3092 [==============================] - 6s 2ms/step - loss: 0.0081 - acc: 0.9981 - val_loss: 0.0361 - val_acc: 0.9884\n",
            "Epoch 45/150\n",
            "3092/3092 [==============================] - 6s 2ms/step - loss: 0.0126 - acc: 0.9961 - val_loss: 0.0291 - val_acc: 0.9845\n",
            "Epoch 46/150\n",
            "3092/3092 [==============================] - 6s 2ms/step - loss: 0.0106 - acc: 0.9971 - val_loss: 0.0524 - val_acc: 0.9845\n",
            "Epoch 47/150\n",
            "3092/3092 [==============================] - 6s 2ms/step - loss: 0.0084 - acc: 0.9971 - val_loss: 0.0210 - val_acc: 0.9903\n",
            "Epoch 48/150\n",
            "3092/3092 [==============================] - 6s 2ms/step - loss: 0.0033 - acc: 0.9994 - val_loss: 0.0287 - val_acc: 0.9884\n",
            "Epoch 49/150\n",
            "3092/3092 [==============================] - 6s 2ms/step - loss: 0.0019 - acc: 0.9994 - val_loss: 0.0231 - val_acc: 0.9922\n",
            "Epoch 50/150\n",
            "3092/3092 [==============================] - 6s 2ms/step - loss: 0.0034 - acc: 0.9994 - val_loss: 0.0204 - val_acc: 0.9922\n",
            "Epoch 51/150\n",
            "3092/3092 [==============================] - 6s 2ms/step - loss: 0.0042 - acc: 0.9987 - val_loss: 0.0358 - val_acc: 0.9884\n",
            "Epoch 52/150\n",
            "3092/3092 [==============================] - 6s 2ms/step - loss: 0.0040 - acc: 0.9984 - val_loss: 0.0428 - val_acc: 0.9864\n",
            "Epoch 53/150\n",
            "3092/3092 [==============================] - 6s 2ms/step - loss: 0.0059 - acc: 0.9977 - val_loss: 0.0310 - val_acc: 0.9922\n",
            "Epoch 54/150\n",
            "3092/3092 [==============================] - 6s 2ms/step - loss: 0.0031 - acc: 0.9987 - val_loss: 0.0400 - val_acc: 0.9884\n",
            "Epoch 55/150\n",
            "3092/3092 [==============================] - 5s 2ms/step - loss: 0.0074 - acc: 0.9974 - val_loss: 0.0239 - val_acc: 0.9903\n",
            "Epoch 56/150\n",
            "3092/3092 [==============================] - 6s 2ms/step - loss: 0.0042 - acc: 0.9984 - val_loss: 0.0305 - val_acc: 0.9942\n",
            "Epoch 57/150\n",
            "3092/3092 [==============================] - 6s 2ms/step - loss: 0.0060 - acc: 0.9981 - val_loss: 0.0239 - val_acc: 0.9942\n",
            "Epoch 58/150\n",
            "3092/3092 [==============================] - 6s 2ms/step - loss: 0.0050 - acc: 0.9990 - val_loss: 0.0180 - val_acc: 0.9903\n",
            "Epoch 59/150\n",
            "3092/3092 [==============================] - 6s 2ms/step - loss: 0.0019 - acc: 0.9994 - val_loss: 0.0158 - val_acc: 0.9922\n",
            "Epoch 60/150\n",
            "3092/3092 [==============================] - 6s 2ms/step - loss: 0.0026 - acc: 0.9994 - val_loss: 0.0277 - val_acc: 0.9903\n",
            "Epoch 61/150\n",
            "3092/3092 [==============================] - 6s 2ms/step - loss: 0.0018 - acc: 0.9994 - val_loss: 0.0225 - val_acc: 0.9903\n",
            "Epoch 62/150\n",
            "3092/3092 [==============================] - 6s 2ms/step - loss: 0.0015 - acc: 0.9994 - val_loss: 0.0211 - val_acc: 0.9903\n",
            "Epoch 63/150\n",
            "3092/3092 [==============================] - 6s 2ms/step - loss: 0.0039 - acc: 0.9987 - val_loss: 0.0265 - val_acc: 0.9922\n",
            "Epoch 64/150\n",
            "3092/3092 [==============================] - 5s 2ms/step - loss: 0.0033 - acc: 0.9994 - val_loss: 0.0256 - val_acc: 0.9922\n",
            "Epoch 65/150\n",
            "3092/3092 [==============================] - 6s 2ms/step - loss: 0.0021 - acc: 0.9990 - val_loss: 0.0236 - val_acc: 0.9942\n",
            "Epoch 66/150\n",
            "3092/3092 [==============================] - 6s 2ms/step - loss: 0.0020 - acc: 0.9990 - val_loss: 0.0328 - val_acc: 0.9903\n",
            "Epoch 67/150\n",
            "3092/3092 [==============================] - 6s 2ms/step - loss: 0.0032 - acc: 0.9994 - val_loss: 0.0350 - val_acc: 0.9884\n",
            "Epoch 68/150\n",
            "3092/3092 [==============================] - 6s 2ms/step - loss: 0.0050 - acc: 0.9977 - val_loss: 0.1173 - val_acc: 0.9767\n",
            "Epoch 69/150\n",
            "3092/3092 [==============================] - 6s 2ms/step - loss: 0.0074 - acc: 0.9977 - val_loss: 0.0405 - val_acc: 0.9884\n",
            "Epoch 70/150\n",
            "3092/3092 [==============================] - 6s 2ms/step - loss: 0.0082 - acc: 0.9990 - val_loss: 0.0405 - val_acc: 0.9884\n",
            "Epoch 71/150\n",
            "3092/3092 [==============================] - 6s 2ms/step - loss: 0.0032 - acc: 0.9994 - val_loss: 0.0346 - val_acc: 0.9903\n",
            "Epoch 72/150\n",
            "3092/3092 [==============================] - 6s 2ms/step - loss: 0.0022 - acc: 0.9994 - val_loss: 0.0308 - val_acc: 0.9922\n",
            "Epoch 73/150\n",
            "3092/3092 [==============================] - 6s 2ms/step - loss: 0.0039 - acc: 0.9994 - val_loss: 0.0178 - val_acc: 0.9942\n",
            "Epoch 74/150\n",
            "3092/3092 [==============================] - 6s 2ms/step - loss: 0.0026 - acc: 0.9994 - val_loss: 0.0173 - val_acc: 0.9942\n",
            "Epoch 75/150\n",
            "3092/3092 [==============================] - 6s 2ms/step - loss: 0.0027 - acc: 0.9987 - val_loss: 0.0197 - val_acc: 0.9942\n",
            "Epoch 76/150\n",
            "3092/3092 [==============================] - 5s 2ms/step - loss: 0.0013 - acc: 1.0000 - val_loss: 0.0141 - val_acc: 0.9942\n",
            "Epoch 77/150\n",
            "3092/3092 [==============================] - 5s 2ms/step - loss: 0.0010 - acc: 0.9997 - val_loss: 0.0174 - val_acc: 0.9942\n",
            "Epoch 78/150\n",
            "3092/3092 [==============================] - 5s 2ms/step - loss: 0.0027 - acc: 0.9994 - val_loss: 0.0132 - val_acc: 0.9922\n",
            "Epoch 79/150\n",
            "3092/3092 [==============================] - 5s 2ms/step - loss: 0.0078 - acc: 0.9977 - val_loss: 0.0185 - val_acc: 0.9942\n",
            "Epoch 80/150\n",
            "3092/3092 [==============================] - 6s 2ms/step - loss: 0.0051 - acc: 0.9984 - val_loss: 0.0151 - val_acc: 0.9942\n",
            "Epoch 81/150\n",
            "3092/3092 [==============================] - 6s 2ms/step - loss: 0.0020 - acc: 0.9997 - val_loss: 0.0163 - val_acc: 0.9961\n",
            "Epoch 82/150\n",
            "3092/3092 [==============================] - 6s 2ms/step - loss: 0.0030 - acc: 0.9987 - val_loss: 0.0121 - val_acc: 0.9942\n",
            "Epoch 83/150\n",
            "3092/3092 [==============================] - 6s 2ms/step - loss: 0.0074 - acc: 0.9981 - val_loss: 0.0147 - val_acc: 0.9922\n",
            "Epoch 84/150\n",
            "3092/3092 [==============================] - 6s 2ms/step - loss: 0.0018 - acc: 0.9990 - val_loss: 0.0131 - val_acc: 0.9942\n",
            "Epoch 85/150\n",
            "3092/3092 [==============================] - 6s 2ms/step - loss: 0.0037 - acc: 0.9990 - val_loss: 0.0068 - val_acc: 0.9981\n",
            "Epoch 86/150\n",
            "3092/3092 [==============================] - 6s 2ms/step - loss: 0.0062 - acc: 0.9981 - val_loss: 0.0083 - val_acc: 0.9961\n",
            "Epoch 87/150\n",
            "3092/3092 [==============================] - 6s 2ms/step - loss: 0.0026 - acc: 0.9997 - val_loss: 0.0233 - val_acc: 0.9942\n",
            "Epoch 88/150\n",
            "3092/3092 [==============================] - 6s 2ms/step - loss: 0.0025 - acc: 0.9994 - val_loss: 0.0100 - val_acc: 0.9961\n",
            "Epoch 89/150\n",
            "3092/3092 [==============================] - 6s 2ms/step - loss: 0.0053 - acc: 0.9984 - val_loss: 0.0112 - val_acc: 0.9961\n",
            "Epoch 90/150\n",
            "3092/3092 [==============================] - 6s 2ms/step - loss: 0.0034 - acc: 0.9984 - val_loss: 0.0156 - val_acc: 0.9942\n",
            "Epoch 91/150\n",
            "3092/3092 [==============================] - 6s 2ms/step - loss: 0.0037 - acc: 0.9987 - val_loss: 0.0158 - val_acc: 0.9942\n",
            "Epoch 92/150\n",
            "3092/3092 [==============================] - 6s 2ms/step - loss: 0.0020 - acc: 0.9994 - val_loss: 0.0131 - val_acc: 0.9942\n",
            "Epoch 93/150\n",
            "3092/3092 [==============================] - 6s 2ms/step - loss: 0.0021 - acc: 0.9994 - val_loss: 0.0122 - val_acc: 0.9942\n",
            "Epoch 94/150\n",
            "3092/3092 [==============================] - 5s 2ms/step - loss: 0.0054 - acc: 0.9990 - val_loss: 0.0149 - val_acc: 0.9961\n",
            "Epoch 95/150\n",
            "3092/3092 [==============================] - 6s 2ms/step - loss: 0.0040 - acc: 0.9990 - val_loss: 0.0075 - val_acc: 0.9981\n",
            "Epoch 96/150\n",
            "3092/3092 [==============================] - 6s 2ms/step - loss: 0.0033 - acc: 0.9990 - val_loss: 0.0024 - val_acc: 1.0000\n",
            "Epoch 97/150\n",
            "3092/3092 [==============================] - 5s 2ms/step - loss: 7.6795e-04 - acc: 1.0000 - val_loss: 0.0011 - val_acc: 1.0000\n",
            "Epoch 98/150\n",
            "3092/3092 [==============================] - 5s 2ms/step - loss: 0.0012 - acc: 1.0000 - val_loss: 0.0013 - val_acc: 1.0000\n",
            "Epoch 99/150\n",
            "3092/3092 [==============================] - 5s 2ms/step - loss: 0.0041 - acc: 0.9994 - val_loss: 0.0093 - val_acc: 0.9961\n",
            "Epoch 100/150\n",
            "3092/3092 [==============================] - 5s 2ms/step - loss: 0.0016 - acc: 0.9990 - val_loss: 0.0052 - val_acc: 0.9981\n",
            "Epoch 101/150\n",
            "3092/3092 [==============================] - 6s 2ms/step - loss: 0.0028 - acc: 0.9990 - val_loss: 0.0072 - val_acc: 0.9961\n",
            "Epoch 102/150\n",
            "3092/3092 [==============================] - 5s 2ms/step - loss: 0.0054 - acc: 0.9981 - val_loss: 0.0062 - val_acc: 0.9981\n",
            "Epoch 103/150\n",
            "3092/3092 [==============================] - 5s 2ms/step - loss: 0.0054 - acc: 0.9981 - val_loss: 0.0169 - val_acc: 0.9942\n",
            "Epoch 104/150\n",
            "3092/3092 [==============================] - 5s 2ms/step - loss: 0.0030 - acc: 0.9990 - val_loss: 0.0069 - val_acc: 0.9981\n",
            "Epoch 105/150\n",
            "3092/3092 [==============================] - 5s 2ms/step - loss: 0.0065 - acc: 0.9977 - val_loss: 0.0087 - val_acc: 0.9961\n",
            "Epoch 106/150\n",
            "3092/3092 [==============================] - 5s 2ms/step - loss: 0.0013 - acc: 0.9997 - val_loss: 0.0080 - val_acc: 0.9981\n",
            "Epoch 107/150\n",
            "3092/3092 [==============================] - 5s 2ms/step - loss: 0.0025 - acc: 0.9990 - val_loss: 0.0081 - val_acc: 0.9981\n",
            "Epoch 108/150\n",
            "3092/3092 [==============================] - 6s 2ms/step - loss: 0.0013 - acc: 0.9997 - val_loss: 0.0053 - val_acc: 0.9961\n",
            "Epoch 109/150\n",
            "3092/3092 [==============================] - 6s 2ms/step - loss: 0.0044 - acc: 0.9990 - val_loss: 0.0080 - val_acc: 0.9961\n",
            "Epoch 110/150\n",
            "3092/3092 [==============================] - 5s 2ms/step - loss: 0.0013 - acc: 0.9994 - val_loss: 0.0067 - val_acc: 0.9961\n",
            "Epoch 111/150\n",
            "3092/3092 [==============================] - 5s 2ms/step - loss: 0.0013 - acc: 0.9997 - val_loss: 0.0056 - val_acc: 0.9981\n",
            "Epoch 112/150\n",
            "3092/3092 [==============================] - 5s 2ms/step - loss: 0.0012 - acc: 0.9997 - val_loss: 0.0073 - val_acc: 0.9961\n",
            "Epoch 113/150\n",
            "3092/3092 [==============================] - 6s 2ms/step - loss: 0.0021 - acc: 0.9997 - val_loss: 0.0058 - val_acc: 0.9981\n",
            "Epoch 114/150\n",
            "3092/3092 [==============================] - 5s 2ms/step - loss: 0.0061 - acc: 0.9977 - val_loss: 0.0084 - val_acc: 0.9942\n",
            "Epoch 115/150\n",
            "3092/3092 [==============================] - 5s 2ms/step - loss: 0.0059 - acc: 0.9987 - val_loss: 0.0027 - val_acc: 0.9981\n",
            "Epoch 116/150\n",
            "3092/3092 [==============================] - 5s 2ms/step - loss: 0.0025 - acc: 0.9994 - val_loss: 0.0050 - val_acc: 0.9981\n",
            "Epoch 117/150\n",
            "3092/3092 [==============================] - 5s 2ms/step - loss: 4.9269e-04 - acc: 1.0000 - val_loss: 0.0036 - val_acc: 0.9981\n",
            "Epoch 118/150\n",
            "3092/3092 [==============================] - 5s 2ms/step - loss: 0.0025 - acc: 0.9997 - val_loss: 0.0016 - val_acc: 1.0000\n",
            "Epoch 119/150\n",
            "3092/3092 [==============================] - 6s 2ms/step - loss: 0.0021 - acc: 0.9994 - val_loss: 0.0094 - val_acc: 0.9961\n",
            "Epoch 120/150\n",
            "3092/3092 [==============================] - 5s 2ms/step - loss: 0.0031 - acc: 0.9990 - val_loss: 0.0031 - val_acc: 0.9981\n",
            "Epoch 121/150\n",
            "3092/3092 [==============================] - 5s 2ms/step - loss: 0.0046 - acc: 0.9977 - val_loss: 0.0041 - val_acc: 0.9961\n",
            "Epoch 122/150\n",
            "3092/3092 [==============================] - 5s 2ms/step - loss: 0.0044 - acc: 0.9990 - val_loss: 0.0028 - val_acc: 0.9981\n",
            "Epoch 123/150\n",
            "3092/3092 [==============================] - 6s 2ms/step - loss: 0.0020 - acc: 0.9990 - val_loss: 0.0033 - val_acc: 0.9981\n",
            "Epoch 124/150\n",
            "3092/3092 [==============================] - 6s 2ms/step - loss: 9.2889e-04 - acc: 1.0000 - val_loss: 0.0024 - val_acc: 1.0000\n",
            "Epoch 125/150\n",
            "3092/3092 [==============================] - 5s 2ms/step - loss: 5.7930e-04 - acc: 1.0000 - val_loss: 0.0012 - val_acc: 1.0000\n",
            "Epoch 126/150\n",
            "3092/3092 [==============================] - 6s 2ms/step - loss: 0.0020 - acc: 0.9997 - val_loss: 0.0025 - val_acc: 0.9981\n",
            "Epoch 127/150\n",
            "3092/3092 [==============================] - 5s 2ms/step - loss: 0.0018 - acc: 0.9997 - val_loss: 0.0069 - val_acc: 0.9981\n",
            "Epoch 128/150\n",
            "3092/3092 [==============================] - 6s 2ms/step - loss: 0.0056 - acc: 0.9990 - val_loss: 0.0411 - val_acc: 0.9903\n",
            "Epoch 129/150\n",
            "3092/3092 [==============================] - 5s 2ms/step - loss: 0.0035 - acc: 0.9984 - val_loss: 0.0417 - val_acc: 0.9845\n",
            "Epoch 130/150\n",
            "3092/3092 [==============================] - 5s 2ms/step - loss: 8.2416e-04 - acc: 1.0000 - val_loss: 0.0257 - val_acc: 0.9903\n",
            "Epoch 131/150\n",
            "3092/3092 [==============================] - 5s 2ms/step - loss: 0.0024 - acc: 0.9994 - val_loss: 0.0128 - val_acc: 0.9942\n",
            "Epoch 132/150\n",
            "3092/3092 [==============================] - 5s 2ms/step - loss: 0.0033 - acc: 0.9984 - val_loss: 0.0107 - val_acc: 0.9942\n",
            "Epoch 133/150\n",
            "3092/3092 [==============================] - 5s 2ms/step - loss: 0.0027 - acc: 0.9994 - val_loss: 0.0098 - val_acc: 0.9981\n",
            "Epoch 134/150\n",
            "3092/3092 [==============================] - 5s 2ms/step - loss: 3.9508e-04 - acc: 1.0000 - val_loss: 0.0112 - val_acc: 0.9961\n",
            "Epoch 135/150\n",
            "3092/3092 [==============================] - 5s 2ms/step - loss: 0.0015 - acc: 0.9994 - val_loss: 0.0109 - val_acc: 0.9961\n",
            "Epoch 136/150\n",
            "3092/3092 [==============================] - 6s 2ms/step - loss: 0.0018 - acc: 0.9994 - val_loss: 0.0110 - val_acc: 0.9961\n",
            "Epoch 137/150\n",
            "3092/3092 [==============================] - 5s 2ms/step - loss: 0.0019 - acc: 0.9994 - val_loss: 0.0067 - val_acc: 0.9961\n",
            "Epoch 138/150\n",
            "3092/3092 [==============================] - 5s 2ms/step - loss: 0.0016 - acc: 0.9990 - val_loss: 0.0054 - val_acc: 0.9981\n",
            "Epoch 139/150\n",
            "3092/3092 [==============================] - 5s 2ms/step - loss: 0.0029 - acc: 0.9997 - val_loss: 0.0043 - val_acc: 0.9981\n",
            "Epoch 140/150\n",
            "3092/3092 [==============================] - 6s 2ms/step - loss: 0.0068 - acc: 0.9984 - val_loss: 0.0164 - val_acc: 0.9942\n",
            "Epoch 141/150\n",
            "3092/3092 [==============================] - 6s 2ms/step - loss: 7.7009e-04 - acc: 0.9997 - val_loss: 0.0133 - val_acc: 0.9961\n",
            "Epoch 142/150\n",
            "3092/3092 [==============================] - 5s 2ms/step - loss: 5.6086e-04 - acc: 1.0000 - val_loss: 0.0075 - val_acc: 0.9961\n",
            "Epoch 143/150\n",
            "3092/3092 [==============================] - 5s 2ms/step - loss: 0.0016 - acc: 0.9997 - val_loss: 0.0061 - val_acc: 0.9981\n",
            "Epoch 144/150\n",
            "3092/3092 [==============================] - 5s 2ms/step - loss: 3.3974e-04 - acc: 1.0000 - val_loss: 0.0049 - val_acc: 0.9981\n",
            "Epoch 145/150\n",
            "3092/3092 [==============================] - 5s 2ms/step - loss: 0.0018 - acc: 0.9997 - val_loss: 0.0047 - val_acc: 0.9981\n",
            "Epoch 146/150\n",
            "3092/3092 [==============================] - 5s 2ms/step - loss: 1.4246e-04 - acc: 1.0000 - val_loss: 0.0047 - val_acc: 0.9981\n",
            "Epoch 147/150\n",
            "3092/3092 [==============================] - 5s 2ms/step - loss: 0.0022 - acc: 0.9994 - val_loss: 0.0080 - val_acc: 0.9981\n",
            "Epoch 148/150\n",
            "3092/3092 [==============================] - 5s 2ms/step - loss: 7.8392e-04 - acc: 0.9997 - val_loss: 0.0076 - val_acc: 0.9942\n",
            "Epoch 149/150\n",
            "3092/3092 [==============================] - 5s 2ms/step - loss: 8.3428e-04 - acc: 0.9997 - val_loss: 0.0084 - val_acc: 0.9942\n",
            "Epoch 150/150\n",
            "3092/3092 [==============================] - 5s 2ms/step - loss: 9.8689e-04 - acc: 0.9997 - val_loss: 0.0125 - val_acc: 0.9981\n"
          ],
          "name": "stdout"
        }
      ]
    },
    {
      "cell_type": "code",
      "metadata": {
        "id": "MWbHfs4Eaukt",
        "colab_type": "code",
        "outputId": "fb7a3d88-ef8e-42a4-8224-510405bca815",
        "colab": {
          "base_uri": "https://localhost:8080/",
          "height": 295
        }
      },
      "source": [
        "plot_acc_vs_epoch(fitted_mobile)"
      ],
      "execution_count": 0,
      "outputs": [
        {
          "output_type": "display_data",
          "data": {
            "image/png": "[encoded data removed]",
            "text/plain": [
              "<Figure size 432x288 with 1 Axes>"
            ]
          },
          "metadata": {
            "tags": []
          }
        }
      ]
    },
    {
      "cell_type": "code",
      "metadata": {
        "id": "Mz3uT6fEbXsm",
        "colab_type": "code",
        "outputId": "74d90099-57b2-4f4a-edf3-2b9e91942e7f",
        "colab": {
          "base_uri": "https://localhost:8080/",
          "height": 34
        }
      },
      "source": [
        "training_acc_mobile = fitted_mobile.history['acc'][-1]\n",
        "validation_acc_mobile = fitted_mobile.history['val_acc'][-1]\n",
        "print(f'The training accuracy is {training_acc_mobile:.2f} and the validation accuracy is {validation_acc_mobile:.2f}')"
      ],
      "execution_count": 0,
      "outputs": [
        {
          "output_type": "stream",
          "text": [
            "The training accuracy is 1.00 and the validation accuracy is 1.00\n"
          ],
          "name": "stdout"
        }
      ]
    },
    {
      "cell_type": "markdown",
      "metadata": {
        "id": "b8yeF6n4Hjfb",
        "colab_type": "text"
      },
      "source": [
        "###Pre-trained Model 3: ResNet50"
      ]
    },
    {
      "cell_type": "code",
      "metadata": {
        "id": "_TZ61kLMbm-Q",
        "colab_type": "code",
        "outputId": "bdc81315-7ae2-4499-973c-32bac6987016",
        "colab": {
          "base_uri": "https://localhost:8080/",
          "height": 51
        }
      },
      "source": [
        "from keras.applications.resnet import ResNet50\n",
        "image_size=64\n",
        "resnet50_base = ResNet50(include_top=False, input_shape=(image_size,image_size,3)) # Remove the first 3 fully connected layers from the pre-trained model.\n",
        "for layer in resnet50_base.layers:\n",
        "\tlayer.trainable = True\n",
        "\n",
        "resnet50_final = additional_layers(resnet50_base, 1024,1024,10,0.5)\n",
        "\n",
        "sgd = SGD(lr=0.01)\n",
        "resnet50_final.compile(loss='categorical_crossentropy', optimizer=sgd, metrics=['accuracy']) #optmizer can change to adam also"
      ],
      "execution_count": 0,
      "outputs": [
        {
          "output_type": "stream",
          "text": [
            "Downloading data from https://github.com/keras-team/keras-applications/releases/download/resnet/resnet50_weights_tf_dim_ordering_tf_kernels_notop.h5\n",
            "94773248/94765736 [==============================] - 4s 0us/step\n"
          ],
          "name": "stdout"
        }
      ]
    },
    {
      "cell_type": "code",
      "metadata": {
        "id": "4Aieh5_TcS2I",
        "colab_type": "code",
        "outputId": "1e92455a-e3ab-429d-e9a4-566ba1aa5799",
        "colab": {
          "base_uri": "https://localhost:8080/",
          "height": 1000
        }
      },
      "source": [
        "#checkpoint_resnet50 = ModelCheckpoint(\"/content/drive/My Drive/Checkpoints/resnet50_weights.{epoch:02d}-{val_loss:.2f}.hdf5\", monitor='val_acc', verbose=0, save_best_only=True, save_weights_only=False, mode='auto', period=1)\n",
        "es = EarlyStopping(monitor='val_accuracy', mode='max', patience=3)\n",
        "callbacks_list = [es]\n",
        "fitted_resnet50 = resnet50_final.fit(X_train_rgb, y=y_train_cat, validation_data=(X_test_rgb, y_test_cat), epochs = 150, batch_size = 32, callbacks=callbacks_list, shuffle=True)"
      ],
      "execution_count": 0,
      "outputs": [
        {
          "output_type": "stream",
          "text": [
            "Train on 3092 samples, validate on 516 samples\n",
            "Epoch 1/150\n",
            "3092/3092 [==============================] - 35s 11ms/step - loss: 1.9159 - acc: 0.4738 - val_loss: 0.7773 - val_acc: 0.7209\n",
            "Epoch 2/150\n"
          ],
          "name": "stdout"
        },
        {
          "output_type": "stream",
          "text": [
            "/usr/local/lib/python3.6/dist-packages/keras/callbacks.py:842: RuntimeWarning: Early stopping conditioned on metric `val_accuracy` which is not available. Available metrics are: val_loss,val_acc,loss,acc\n",
            "  (self.monitor, ','.join(list(logs.keys()))), RuntimeWarning\n"
          ],
          "name": "stderr"
        },
        {
          "output_type": "stream",
          "text": [
            "3092/3092 [==============================] - 21s 7ms/step - loss: 0.4631 - acc: 0.8600 - val_loss: 0.3061 - val_acc: 0.8992\n",
            "Epoch 3/150\n",
            "3092/3092 [==============================] - 21s 7ms/step - loss: 0.1996 - acc: 0.9405 - val_loss: 0.2298 - val_acc: 0.9205\n",
            "Epoch 4/150\n",
            "3092/3092 [==============================] - 21s 7ms/step - loss: 0.1199 - acc: 0.9638 - val_loss: 0.0401 - val_acc: 0.9845\n",
            "Epoch 5/150\n",
            "3092/3092 [==============================] - 21s 7ms/step - loss: 0.0833 - acc: 0.9777 - val_loss: 0.0688 - val_acc: 0.9845\n",
            "Epoch 6/150\n",
            "3092/3092 [==============================] - 21s 7ms/step - loss: 0.0551 - acc: 0.9838 - val_loss: 0.1357 - val_acc: 0.9651\n",
            "Epoch 7/150\n",
            "3092/3092 [==============================] - 21s 7ms/step - loss: 0.0505 - acc: 0.9861 - val_loss: 0.0323 - val_acc: 0.9884\n",
            "Epoch 8/150\n",
            "3092/3092 [==============================] - 21s 7ms/step - loss: 0.0267 - acc: 0.9942 - val_loss: 0.0295 - val_acc: 0.9922\n",
            "Epoch 9/150\n",
            "3092/3092 [==============================] - 21s 7ms/step - loss: 0.0393 - acc: 0.9890 - val_loss: 0.0534 - val_acc: 0.9845\n",
            "Epoch 10/150\n",
            "3092/3092 [==============================] - 21s 7ms/step - loss: 0.0249 - acc: 0.9929 - val_loss: 0.0379 - val_acc: 0.9903\n",
            "Epoch 11/150\n",
            "3092/3092 [==============================] - 21s 7ms/step - loss: 0.0294 - acc: 0.9919 - val_loss: 0.0174 - val_acc: 0.9922\n",
            "Epoch 12/150\n",
            "3092/3092 [==============================] - 21s 7ms/step - loss: 0.0182 - acc: 0.9945 - val_loss: 0.0385 - val_acc: 0.9884\n",
            "Epoch 13/150\n",
            "3092/3092 [==============================] - 21s 7ms/step - loss: 0.0092 - acc: 0.9977 - val_loss: 0.0486 - val_acc: 0.9845\n",
            "Epoch 14/150\n",
            "3092/3092 [==============================] - 21s 7ms/step - loss: 0.0110 - acc: 0.9968 - val_loss: 0.0267 - val_acc: 0.9884\n",
            "Epoch 15/150\n",
            "3092/3092 [==============================] - 21s 7ms/step - loss: 0.0206 - acc: 0.9955 - val_loss: 0.0321 - val_acc: 0.9884\n",
            "Epoch 16/150\n",
            "3092/3092 [==============================] - 21s 7ms/step - loss: 0.0063 - acc: 0.9981 - val_loss: 0.0408 - val_acc: 0.9903\n",
            "Epoch 17/150\n",
            "3092/3092 [==============================] - 21s 7ms/step - loss: 0.0099 - acc: 0.9958 - val_loss: 0.0296 - val_acc: 0.9922\n",
            "Epoch 18/150\n",
            "3092/3092 [==============================] - 21s 7ms/step - loss: 0.0119 - acc: 0.9974 - val_loss: 0.0405 - val_acc: 0.9903\n",
            "Epoch 19/150\n",
            "3092/3092 [==============================] - 21s 7ms/step - loss: 0.0082 - acc: 0.9984 - val_loss: 0.0192 - val_acc: 0.9942\n",
            "Epoch 20/150\n",
            "3092/3092 [==============================] - 21s 7ms/step - loss: 0.0031 - acc: 0.9990 - val_loss: 0.0144 - val_acc: 0.9903\n",
            "Epoch 21/150\n",
            "3092/3092 [==============================] - 21s 7ms/step - loss: 0.0039 - acc: 0.9984 - val_loss: 0.0179 - val_acc: 0.9922\n",
            "Epoch 22/150\n",
            "3092/3092 [==============================] - 21s 7ms/step - loss: 0.0011 - acc: 1.0000 - val_loss: 0.0076 - val_acc: 0.9981\n",
            "Epoch 23/150\n",
            "3092/3092 [==============================] - 21s 7ms/step - loss: 0.0013 - acc: 1.0000 - val_loss: 0.0132 - val_acc: 0.9942\n",
            "Epoch 24/150\n",
            "3092/3092 [==============================] - 21s 7ms/step - loss: 0.0034 - acc: 0.9994 - val_loss: 0.0190 - val_acc: 0.9903\n",
            "Epoch 25/150\n",
            "3092/3092 [==============================] - 21s 7ms/step - loss: 0.0035 - acc: 0.9990 - val_loss: 0.0495 - val_acc: 0.9864\n",
            "Epoch 26/150\n",
            "3092/3092 [==============================] - 21s 7ms/step - loss: 0.0075 - acc: 0.9971 - val_loss: 0.0227 - val_acc: 0.9922\n",
            "Epoch 27/150\n",
            "3092/3092 [==============================] - 21s 7ms/step - loss: 0.0035 - acc: 0.9987 - val_loss: 0.0209 - val_acc: 0.9903\n",
            "Epoch 28/150\n",
            "3092/3092 [==============================] - 21s 7ms/step - loss: 0.0031 - acc: 0.9987 - val_loss: 0.0257 - val_acc: 0.9903\n",
            "Epoch 29/150\n",
            "3092/3092 [==============================] - 21s 7ms/step - loss: 0.0021 - acc: 0.9994 - val_loss: 0.0180 - val_acc: 0.9961\n",
            "Epoch 30/150\n",
            "3092/3092 [==============================] - 21s 7ms/step - loss: 0.0024 - acc: 0.9994 - val_loss: 0.0132 - val_acc: 0.9961\n",
            "Epoch 31/150\n",
            "3092/3092 [==============================] - 21s 7ms/step - loss: 3.9646e-04 - acc: 1.0000 - val_loss: 0.0104 - val_acc: 0.9961\n",
            "Epoch 32/150\n",
            "3092/3092 [==============================] - 21s 7ms/step - loss: 0.0018 - acc: 0.9994 - val_loss: 0.0107 - val_acc: 0.9981\n",
            "Epoch 33/150\n",
            "3092/3092 [==============================] - 21s 7ms/step - loss: 9.5469e-04 - acc: 0.9997 - val_loss: 0.0319 - val_acc: 0.9903\n",
            "Epoch 34/150\n",
            "3092/3092 [==============================] - 21s 7ms/step - loss: 0.0014 - acc: 0.9997 - val_loss: 0.0029 - val_acc: 1.0000\n",
            "Epoch 35/150\n",
            "3092/3092 [==============================] - 21s 7ms/step - loss: 0.0022 - acc: 0.9994 - val_loss: 0.0030 - val_acc: 1.0000\n",
            "Epoch 36/150\n",
            "3092/3092 [==============================] - 21s 7ms/step - loss: 0.0019 - acc: 0.9997 - val_loss: 0.0032 - val_acc: 1.0000\n",
            "Epoch 37/150\n",
            "3092/3092 [==============================] - 21s 7ms/step - loss: 0.0073 - acc: 0.9994 - val_loss: 0.0087 - val_acc: 0.9961\n",
            "Epoch 38/150\n",
            "3092/3092 [==============================] - 21s 7ms/step - loss: 0.0070 - acc: 0.9994 - val_loss: 0.0058 - val_acc: 0.9961\n",
            "Epoch 39/150\n",
            "3092/3092 [==============================] - 21s 7ms/step - loss: 0.0066 - acc: 0.9994 - val_loss: 0.0115 - val_acc: 0.9981\n",
            "Epoch 40/150\n",
            "3092/3092 [==============================] - 21s 7ms/step - loss: 0.0034 - acc: 0.9984 - val_loss: 0.0131 - val_acc: 0.9942\n",
            "Epoch 41/150\n",
            "3092/3092 [==============================] - 21s 7ms/step - loss: 0.0065 - acc: 0.9977 - val_loss: 0.0051 - val_acc: 1.0000\n",
            "Epoch 42/150\n",
            "3092/3092 [==============================] - 21s 7ms/step - loss: 0.0024 - acc: 0.9990 - val_loss: 0.0117 - val_acc: 0.9942\n",
            "Epoch 43/150\n",
            "3092/3092 [==============================] - 21s 7ms/step - loss: 0.0013 - acc: 0.9997 - val_loss: 0.0164 - val_acc: 0.9961\n",
            "Epoch 44/150\n",
            "3092/3092 [==============================] - 21s 7ms/step - loss: 0.0015 - acc: 0.9997 - val_loss: 0.0128 - val_acc: 0.9961\n",
            "Epoch 45/150\n",
            "3092/3092 [==============================] - 21s 7ms/step - loss: 0.0036 - acc: 0.9990 - val_loss: 0.0052 - val_acc: 0.9981\n",
            "Epoch 46/150\n",
            "3092/3092 [==============================] - 21s 7ms/step - loss: 0.0013 - acc: 0.9990 - val_loss: 0.0152 - val_acc: 0.9981\n",
            "Epoch 47/150\n",
            "3092/3092 [==============================] - 21s 7ms/step - loss: 0.0015 - acc: 0.9997 - val_loss: 0.0109 - val_acc: 0.9981\n",
            "Epoch 48/150\n",
            "3092/3092 [==============================] - 21s 7ms/step - loss: 0.0017 - acc: 0.9994 - val_loss: 0.0089 - val_acc: 0.9981\n",
            "Epoch 49/150\n",
            "3092/3092 [==============================] - 21s 7ms/step - loss: 0.0042 - acc: 0.9994 - val_loss: 0.0142 - val_acc: 0.9961\n",
            "Epoch 50/150\n",
            "3092/3092 [==============================] - 21s 7ms/step - loss: 0.0021 - acc: 0.9994 - val_loss: 0.0072 - val_acc: 0.9981\n",
            "Epoch 51/150\n",
            "3092/3092 [==============================] - 21s 7ms/step - loss: 0.0046 - acc: 0.9990 - val_loss: 0.0113 - val_acc: 0.9942\n",
            "Epoch 52/150\n",
            "3092/3092 [==============================] - 21s 7ms/step - loss: 0.0011 - acc: 0.9997 - val_loss: 0.0066 - val_acc: 0.9981\n",
            "Epoch 53/150\n",
            "3092/3092 [==============================] - 21s 7ms/step - loss: 5.5144e-04 - acc: 1.0000 - val_loss: 0.0062 - val_acc: 0.9981\n",
            "Epoch 54/150\n",
            "3092/3092 [==============================] - 21s 7ms/step - loss: 2.1393e-04 - acc: 1.0000 - val_loss: 0.0064 - val_acc: 0.9981\n",
            "Epoch 55/150\n",
            "3092/3092 [==============================] - 21s 7ms/step - loss: 6.0003e-04 - acc: 0.9997 - val_loss: 0.0061 - val_acc: 1.0000\n",
            "Epoch 56/150\n",
            "3092/3092 [==============================] - 21s 7ms/step - loss: 0.0018 - acc: 0.9997 - val_loss: 0.0073 - val_acc: 0.9961\n",
            "Epoch 57/150\n",
            "3092/3092 [==============================] - 21s 7ms/step - loss: 0.0011 - acc: 0.9997 - val_loss: 0.0153 - val_acc: 0.9903\n",
            "Epoch 58/150\n",
            "3092/3092 [==============================] - 21s 7ms/step - loss: 0.0017 - acc: 0.9997 - val_loss: 0.0067 - val_acc: 0.9961\n",
            "Epoch 59/150\n",
            "3092/3092 [==============================] - 21s 7ms/step - loss: 0.0016 - acc: 0.9990 - val_loss: 0.0071 - val_acc: 0.9981\n",
            "Epoch 60/150\n",
            "3092/3092 [==============================] - 21s 7ms/step - loss: 0.0012 - acc: 0.9994 - val_loss: 0.0098 - val_acc: 0.9981\n",
            "Epoch 61/150\n",
            "3092/3092 [==============================] - 21s 7ms/step - loss: 0.0029 - acc: 0.9997 - val_loss: 0.0062 - val_acc: 0.9981\n",
            "Epoch 62/150\n",
            "3092/3092 [==============================] - 21s 7ms/step - loss: 7.7610e-04 - acc: 0.9997 - val_loss: 0.0094 - val_acc: 0.9961\n",
            "Epoch 63/150\n",
            "3092/3092 [==============================] - 21s 7ms/step - loss: 2.2071e-04 - acc: 1.0000 - val_loss: 0.0069 - val_acc: 0.9961\n",
            "Epoch 64/150\n",
            "3092/3092 [==============================] - 21s 7ms/step - loss: 2.1812e-04 - acc: 1.0000 - val_loss: 0.0084 - val_acc: 0.9961\n",
            "Epoch 65/150\n",
            "3092/3092 [==============================] - 21s 7ms/step - loss: 0.0110 - acc: 0.9981 - val_loss: 0.1449 - val_acc: 0.9632\n",
            "Epoch 66/150\n",
            "3092/3092 [==============================] - 21s 7ms/step - loss: 0.0066 - acc: 0.9977 - val_loss: 0.0180 - val_acc: 0.9922\n",
            "Epoch 67/150\n",
            "3092/3092 [==============================] - 21s 7ms/step - loss: 9.3510e-04 - acc: 0.9997 - val_loss: 0.0119 - val_acc: 0.9961\n",
            "Epoch 68/150\n",
            "3092/3092 [==============================] - 21s 7ms/step - loss: 3.6468e-04 - acc: 1.0000 - val_loss: 0.0100 - val_acc: 0.9961\n",
            "Epoch 69/150\n",
            "3092/3092 [==============================] - 21s 7ms/step - loss: 0.0024 - acc: 0.9997 - val_loss: 0.0197 - val_acc: 0.9961\n",
            "Epoch 70/150\n",
            "3092/3092 [==============================] - 21s 7ms/step - loss: 4.3158e-04 - acc: 1.0000 - val_loss: 0.0170 - val_acc: 0.9961\n",
            "Epoch 71/150\n",
            "3092/3092 [==============================] - 21s 7ms/step - loss: 7.2721e-04 - acc: 0.9997 - val_loss: 0.0120 - val_acc: 0.9961\n",
            "Epoch 72/150\n",
            "3092/3092 [==============================] - 21s 7ms/step - loss: 7.7595e-04 - acc: 0.9997 - val_loss: 0.0095 - val_acc: 0.9961\n",
            "Epoch 73/150\n",
            "3092/3092 [==============================] - 21s 7ms/step - loss: 8.5647e-04 - acc: 0.9997 - val_loss: 0.0126 - val_acc: 0.9961\n",
            "Epoch 74/150\n",
            "3092/3092 [==============================] - 21s 7ms/step - loss: 3.7950e-04 - acc: 1.0000 - val_loss: 0.0068 - val_acc: 0.9981\n",
            "Epoch 75/150\n",
            "3092/3092 [==============================] - 21s 7ms/step - loss: 4.2853e-04 - acc: 1.0000 - val_loss: 0.0099 - val_acc: 0.9942\n",
            "Epoch 76/150\n",
            "3092/3092 [==============================] - 21s 7ms/step - loss: 0.0074 - acc: 0.9987 - val_loss: 0.0071 - val_acc: 0.9961\n",
            "Epoch 77/150\n",
            "3092/3092 [==============================] - 21s 7ms/step - loss: 0.0010 - acc: 0.9997 - val_loss: 0.0036 - val_acc: 1.0000\n",
            "Epoch 78/150\n",
            "3092/3092 [==============================] - 21s 7ms/step - loss: 2.7717e-04 - acc: 1.0000 - val_loss: 0.0039 - val_acc: 1.0000\n",
            "Epoch 79/150\n",
            "3092/3092 [==============================] - 21s 7ms/step - loss: 1.5395e-04 - acc: 1.0000 - val_loss: 0.0035 - val_acc: 1.0000\n",
            "Epoch 80/150\n",
            "3092/3092 [==============================] - 21s 7ms/step - loss: 1.2815e-04 - acc: 1.0000 - val_loss: 0.0036 - val_acc: 1.0000\n",
            "Epoch 81/150\n",
            "3092/3092 [==============================] - 21s 7ms/step - loss: 4.5395e-04 - acc: 0.9997 - val_loss: 0.0068 - val_acc: 0.9961\n",
            "Epoch 82/150\n",
            "3092/3092 [==============================] - 21s 7ms/step - loss: 1.4592e-04 - acc: 1.0000 - val_loss: 0.0059 - val_acc: 0.9961\n",
            "Epoch 83/150\n",
            "3092/3092 [==============================] - 21s 7ms/step - loss: 4.7303e-04 - acc: 1.0000 - val_loss: 0.0036 - val_acc: 0.9981\n",
            "Epoch 84/150\n",
            "3092/3092 [==============================] - 21s 7ms/step - loss: 2.7366e-04 - acc: 1.0000 - val_loss: 0.0032 - val_acc: 1.0000\n",
            "Epoch 85/150\n",
            "3092/3092 [==============================] - 21s 7ms/step - loss: 1.7020e-04 - acc: 1.0000 - val_loss: 0.0045 - val_acc: 0.9981\n",
            "Epoch 86/150\n",
            "3092/3092 [==============================] - 21s 7ms/step - loss: 1.9937e-04 - acc: 1.0000 - val_loss: 0.0043 - val_acc: 0.9981\n",
            "Epoch 87/150\n",
            "3092/3092 [==============================] - 21s 7ms/step - loss: 1.1386e-04 - acc: 1.0000 - val_loss: 0.0047 - val_acc: 0.9981\n",
            "Epoch 88/150\n",
            "3092/3092 [==============================] - 21s 7ms/step - loss: 1.0906e-04 - acc: 1.0000 - val_loss: 0.0046 - val_acc: 0.9981\n",
            "Epoch 89/150\n",
            "3092/3092 [==============================] - 21s 7ms/step - loss: 2.3488e-04 - acc: 1.0000 - val_loss: 0.0041 - val_acc: 0.9981\n",
            "Epoch 90/150\n",
            "3092/3092 [==============================] - 21s 7ms/step - loss: 1.1632e-04 - acc: 1.0000 - val_loss: 0.0037 - val_acc: 1.0000\n",
            "Epoch 91/150\n",
            "3092/3092 [==============================] - 21s 7ms/step - loss: 1.4144e-04 - acc: 1.0000 - val_loss: 0.0035 - val_acc: 1.0000\n",
            "Epoch 92/150\n",
            "3092/3092 [==============================] - 21s 7ms/step - loss: 2.0812e-04 - acc: 1.0000 - val_loss: 0.0028 - val_acc: 1.0000\n",
            "Epoch 93/150\n",
            "3092/3092 [==============================] - 21s 7ms/step - loss: 6.6827e-04 - acc: 0.9997 - val_loss: 0.0025 - val_acc: 1.0000\n",
            "Epoch 94/150\n",
            "3092/3092 [==============================] - 21s 7ms/step - loss: 0.0023 - acc: 0.9994 - val_loss: 0.0062 - val_acc: 0.9961\n",
            "Epoch 95/150\n",
            "3092/3092 [==============================] - 21s 7ms/step - loss: 3.5569e-04 - acc: 1.0000 - val_loss: 0.0086 - val_acc: 0.9961\n",
            "Epoch 96/150\n",
            "3092/3092 [==============================] - 21s 7ms/step - loss: 6.6155e-05 - acc: 1.0000 - val_loss: 0.0068 - val_acc: 0.9961\n",
            "Epoch 97/150\n",
            "3092/3092 [==============================] - 21s 7ms/step - loss: 2.7581e-04 - acc: 1.0000 - val_loss: 0.0064 - val_acc: 0.9961\n",
            "Epoch 98/150\n",
            "3092/3092 [==============================] - 21s 7ms/step - loss: 4.4841e-04 - acc: 1.0000 - val_loss: 0.0101 - val_acc: 0.9981\n",
            "Epoch 99/150\n",
            "3092/3092 [==============================] - 21s 7ms/step - loss: 3.0371e-04 - acc: 1.0000 - val_loss: 0.0148 - val_acc: 0.9961\n",
            "Epoch 100/150\n",
            "3092/3092 [==============================] - 21s 7ms/step - loss: 3.0195e-04 - acc: 1.0000 - val_loss: 0.0140 - val_acc: 0.9961\n",
            "Epoch 101/150\n",
            "3092/3092 [==============================] - 21s 7ms/step - loss: 9.9758e-05 - acc: 1.0000 - val_loss: 0.0125 - val_acc: 0.9961\n",
            "Epoch 102/150\n",
            "3092/3092 [==============================] - 21s 7ms/step - loss: 1.4742e-04 - acc: 1.0000 - val_loss: 0.0189 - val_acc: 0.9961\n",
            "Epoch 103/150\n",
            "3092/3092 [==============================] - 21s 7ms/step - loss: 2.4240e-04 - acc: 1.0000 - val_loss: 0.0151 - val_acc: 0.9961\n",
            "Epoch 104/150\n",
            "3092/3092 [==============================] - 21s 7ms/step - loss: 1.0370e-04 - acc: 1.0000 - val_loss: 0.0164 - val_acc: 0.9961\n",
            "Epoch 105/150\n",
            "3092/3092 [==============================] - 21s 7ms/step - loss: 5.0856e-05 - acc: 1.0000 - val_loss: 0.0157 - val_acc: 0.9961\n",
            "Epoch 106/150\n",
            "3092/3092 [==============================] - 21s 7ms/step - loss: 1.1899e-04 - acc: 1.0000 - val_loss: 0.0129 - val_acc: 0.9961\n",
            "Epoch 107/150\n",
            "3092/3092 [==============================] - 21s 7ms/step - loss: 1.9981e-04 - acc: 1.0000 - val_loss: 0.0130 - val_acc: 0.9961\n",
            "Epoch 108/150\n",
            "3092/3092 [==============================] - 21s 7ms/step - loss: 4.1350e-04 - acc: 0.9997 - val_loss: 0.0182 - val_acc: 0.9942\n",
            "Epoch 109/150\n",
            "3092/3092 [==============================] - 21s 7ms/step - loss: 8.1667e-05 - acc: 1.0000 - val_loss: 0.0128 - val_acc: 0.9942\n",
            "Epoch 110/150\n",
            "3092/3092 [==============================] - 21s 7ms/step - loss: 2.3270e-04 - acc: 1.0000 - val_loss: 0.0145 - val_acc: 0.9942\n",
            "Epoch 111/150\n",
            "3092/3092 [==============================] - 21s 7ms/step - loss: 1.0255e-04 - acc: 1.0000 - val_loss: 0.0100 - val_acc: 0.9942\n",
            "Epoch 112/150\n",
            "3092/3092 [==============================] - 21s 7ms/step - loss: 9.1898e-05 - acc: 1.0000 - val_loss: 0.0106 - val_acc: 0.9942\n",
            "Epoch 113/150\n",
            "3092/3092 [==============================] - 21s 7ms/step - loss: 3.1201e-04 - acc: 1.0000 - val_loss: 0.0117 - val_acc: 0.9942\n",
            "Epoch 114/150\n",
            "3092/3092 [==============================] - 21s 7ms/step - loss: 1.0079e-04 - acc: 1.0000 - val_loss: 0.0088 - val_acc: 0.9961\n",
            "Epoch 115/150\n",
            "3092/3092 [==============================] - 21s 7ms/step - loss: 2.1171e-04 - acc: 1.0000 - val_loss: 0.0092 - val_acc: 0.9981\n",
            "Epoch 116/150\n",
            "3092/3092 [==============================] - 21s 7ms/step - loss: 6.8281e-05 - acc: 1.0000 - val_loss: 0.0095 - val_acc: 0.9961\n",
            "Epoch 117/150\n",
            "3092/3092 [==============================] - 21s 7ms/step - loss: 6.6955e-04 - acc: 0.9997 - val_loss: 0.0294 - val_acc: 0.9922\n",
            "Epoch 118/150\n",
            "3092/3092 [==============================] - 21s 7ms/step - loss: 0.0011 - acc: 0.9997 - val_loss: 0.0081 - val_acc: 0.9942\n",
            "Epoch 119/150\n",
            "3092/3092 [==============================] - 21s 7ms/step - loss: 5.8086e-04 - acc: 0.9997 - val_loss: 0.0116 - val_acc: 0.9981\n",
            "Epoch 120/150\n",
            "3092/3092 [==============================] - 21s 7ms/step - loss: 0.0018 - acc: 0.9994 - val_loss: 0.0105 - val_acc: 0.9961\n",
            "Epoch 121/150\n",
            "3092/3092 [==============================] - 21s 7ms/step - loss: 9.0437e-05 - acc: 1.0000 - val_loss: 0.0085 - val_acc: 0.9961\n",
            "Epoch 122/150\n",
            "3092/3092 [==============================] - 21s 7ms/step - loss: 1.7712e-04 - acc: 1.0000 - val_loss: 0.0114 - val_acc: 0.9961\n",
            "Epoch 123/150\n",
            "3092/3092 [==============================] - 21s 7ms/step - loss: 8.0065e-04 - acc: 0.9997 - val_loss: 0.0303 - val_acc: 0.9922\n",
            "Epoch 124/150\n",
            "3092/3092 [==============================] - 21s 7ms/step - loss: 2.6053e-04 - acc: 1.0000 - val_loss: 0.0160 - val_acc: 0.9922\n",
            "Epoch 125/150\n",
            "3092/3092 [==============================] - 21s 7ms/step - loss: 2.6934e-04 - acc: 1.0000 - val_loss: 0.0153 - val_acc: 0.9922\n",
            "Epoch 126/150\n",
            "3092/3092 [==============================] - 21s 7ms/step - loss: 1.9113e-04 - acc: 1.0000 - val_loss: 0.0150 - val_acc: 0.9961\n",
            "Epoch 127/150\n",
            "3092/3092 [==============================] - 21s 7ms/step - loss: 1.0435e-04 - acc: 1.0000 - val_loss: 0.0140 - val_acc: 0.9942\n",
            "Epoch 128/150\n",
            "3092/3092 [==============================] - 21s 7ms/step - loss: 1.8397e-04 - acc: 1.0000 - val_loss: 0.0126 - val_acc: 0.9942\n",
            "Epoch 129/150\n",
            "3092/3092 [==============================] - 21s 7ms/step - loss: 7.4026e-05 - acc: 1.0000 - val_loss: 0.0130 - val_acc: 0.9942\n",
            "Epoch 130/150\n",
            "3092/3092 [==============================] - 21s 7ms/step - loss: 1.7413e-04 - acc: 1.0000 - val_loss: 0.0102 - val_acc: 0.9961\n",
            "Epoch 131/150\n",
            "3092/3092 [==============================] - 21s 7ms/step - loss: 5.4953e-05 - acc: 1.0000 - val_loss: 0.0111 - val_acc: 0.9961\n",
            "Epoch 132/150\n",
            "3092/3092 [==============================] - 21s 7ms/step - loss: 2.5925e-04 - acc: 1.0000 - val_loss: 0.0101 - val_acc: 0.9961\n",
            "Epoch 133/150\n",
            "3092/3092 [==============================] - 21s 7ms/step - loss: 5.0517e-05 - acc: 1.0000 - val_loss: 0.0090 - val_acc: 0.9961\n",
            "Epoch 134/150\n",
            "3092/3092 [==============================] - 21s 7ms/step - loss: 5.6907e-05 - acc: 1.0000 - val_loss: 0.0083 - val_acc: 0.9961\n",
            "Epoch 135/150\n",
            "3092/3092 [==============================] - 21s 7ms/step - loss: 7.2220e-05 - acc: 1.0000 - val_loss: 0.0104 - val_acc: 0.9961\n",
            "Epoch 136/150\n",
            "3092/3092 [==============================] - 21s 7ms/step - loss: 4.9428e-05 - acc: 1.0000 - val_loss: 0.0120 - val_acc: 0.9961\n",
            "Epoch 137/150\n",
            "3092/3092 [==============================] - 21s 7ms/step - loss: 1.2007e-04 - acc: 1.0000 - val_loss: 0.0122 - val_acc: 0.9961\n",
            "Epoch 138/150\n",
            "3092/3092 [==============================] - 21s 7ms/step - loss: 5.6973e-05 - acc: 1.0000 - val_loss: 0.0123 - val_acc: 0.9961\n",
            "Epoch 139/150\n",
            "3092/3092 [==============================] - 21s 7ms/step - loss: 1.7502e-04 - acc: 1.0000 - val_loss: 0.0121 - val_acc: 0.9961\n",
            "Epoch 140/150\n",
            "3092/3092 [==============================] - 21s 7ms/step - loss: 1.0516e-04 - acc: 1.0000 - val_loss: 0.0126 - val_acc: 0.9961\n",
            "Epoch 141/150\n",
            "3092/3092 [==============================] - 21s 7ms/step - loss: 3.4952e-05 - acc: 1.0000 - val_loss: 0.0132 - val_acc: 0.9961\n",
            "Epoch 142/150\n",
            "3092/3092 [==============================] - 21s 7ms/step - loss: 1.5930e-04 - acc: 1.0000 - val_loss: 0.0123 - val_acc: 0.9961\n",
            "Epoch 143/150\n",
            "3092/3092 [==============================] - 21s 7ms/step - loss: 3.8711e-05 - acc: 1.0000 - val_loss: 0.0116 - val_acc: 0.9961\n",
            "Epoch 144/150\n",
            "3092/3092 [==============================] - 21s 7ms/step - loss: 2.8799e-05 - acc: 1.0000 - val_loss: 0.0119 - val_acc: 0.9961\n",
            "Epoch 145/150\n",
            "3092/3092 [==============================] - 21s 7ms/step - loss: 2.7034e-04 - acc: 0.9997 - val_loss: 0.0135 - val_acc: 0.9961\n",
            "Epoch 146/150\n",
            "3092/3092 [==============================] - 21s 7ms/step - loss: 5.8641e-05 - acc: 1.0000 - val_loss: 0.0136 - val_acc: 0.9961\n",
            "Epoch 147/150\n",
            "3092/3092 [==============================] - 21s 7ms/step - loss: 1.2886e-04 - acc: 1.0000 - val_loss: 0.0123 - val_acc: 0.9961\n",
            "Epoch 148/150\n",
            "3092/3092 [==============================] - 21s 7ms/step - loss: 8.4357e-04 - acc: 0.9994 - val_loss: 0.0047 - val_acc: 0.9981\n",
            "Epoch 149/150\n",
            "3092/3092 [==============================] - 21s 7ms/step - loss: 4.1061e-05 - acc: 1.0000 - val_loss: 0.0050 - val_acc: 0.9981\n",
            "Epoch 150/150\n",
            "3092/3092 [==============================] - 21s 7ms/step - loss: 1.5760e-04 - acc: 1.0000 - val_loss: 0.0049 - val_acc: 0.9981\n"
          ],
          "name": "stdout"
        }
      ]
    },
    {
      "cell_type": "code",
      "metadata": {
        "id": "IWBeA0ULcpc-",
        "colab_type": "code",
        "outputId": "70fd7cfc-7144-40b1-cfe9-6e2280c3badb",
        "colab": {
          "base_uri": "https://localhost:8080/",
          "height": 295
        }
      },
      "source": [
        "plot_acc_vs_epoch(fitted_resnet50)"
      ],
      "execution_count": 0,
      "outputs": [
        {
          "output_type": "display_data",
          "data": {
            "image/png": "[encoded data removed]",
            "text/plain": [
              "<Figure size 432x288 with 1 Axes>"
            ]
          },
          "metadata": {
            "tags": []
          }
        }
      ]
    },
    {
      "cell_type": "code",
      "metadata": {
        "id": "2NfM4xSgcthR",
        "colab_type": "code",
        "outputId": "3abd50cd-25d8-48df-f4db-3ccb4b72e037",
        "colab": {
          "base_uri": "https://localhost:8080/",
          "height": 34
        }
      },
      "source": [
        "# Extracting the training accuaracy and validation accuracy of the last epoch.\n",
        "training_acc_resnet50 = fitted_resnet50.history['acc'][-1]\n",
        "validation_acc_resnet50 = fitted_resnet50.history['val_acc'][-1]\n",
        "print(f'The training accuracy is {training_acc_resnet50:.2f} and the validation accuracy is {validation_acc_resnet50:.2f}')"
      ],
      "execution_count": 0,
      "outputs": [
        {
          "output_type": "stream",
          "text": [
            "The training accuracy is 1.00 and the validation accuracy is 1.00\n"
          ],
          "name": "stdout"
        }
      ]
    },
    {
      "cell_type": "markdown",
      "metadata": {
        "id": "zt3xLIlHZQHf",
        "colab_type": "text"
      },
      "source": [
        "#Model 4. Gradient Boosting\n",
        "\n",
        "Gradient boosting, which is an **ensemble** model that creates a strong classifier from several weak classifiers, relies on the fact that the best possible next model, when combined with the previous models, minimizes the overall prediction error. \n",
        "The key idea here is to set the target outcomes for this next model to minimize the error. The target outcomes for each case are set based on the gradient of the error concerning the prediction. Each new model will take a step in the direction that minimizes the prediction error, in the space of possible predictions for each training case.\n",
        "\n",
        "There are three elements in Gradient Boosting (*Brownlee, 2019*):\n",
        "- Loss function\n",
        "- Weak learner\n",
        "- Additive model\n",
        "\n",
        "Gradient boosting identifies shortcomings by using gradients in the loss function. The loss function is a measure to indicate how good are the model’s coefficients at fitting the underlying data. The loss function will depend on what we are trying to optimize. \n",
        "\n",
        "Decision trees are used as the weak learner in gradient boosting. \n",
        "\n",
        "For the in built gradient boosting model, the loss function to be optimized is the 'deviance'. The learning rate by default is 0.01\n",
        "\n",
        "Loss function *(Holmes, 2002)*:\n",
        "\\begin{equation*}\n",
        "D_{i} = -2\\sum_{k}n_{ik}log(p_{ik})\n",
        "\\end{equation*}\n",
        "\n",
        "For the $k$ - component of the gradient *(Hastie, 2009)*:\n",
        "\\begin{equation*}\n",
        "  -\\frac{\\partial L(y_{i}, f(x_{i}))}{\\partial f(x_{i})} = I(y_{i} = G_{k}) - p_{k}(x_{i})\n",
        "\\end{equation*}\n",
        "\n",
        "For tree parametrization we use the default settings in the in built model. \n",
        "\n",
        "There are a few ways in which Gradient Boosting deals with over-fitting. One such way is to control the tree depth. Tree depth controls the depth of the individual trees. Smaller depth trees are computationally efficient but require more trees, whereas higher depth trees allow the algorithm to take note of unique interations but it increases the risk of over-fitting. (*Greenwell, 2019*) \n",
        "\n",
        "However, based from our validation curve, we decided to tune the max_depth to 2, even though the default max_depth is 3. **Cross-validation** allows us to tune hyperparameters (max depth) to reduce over-fitting.\n",
        "The remaining tree parameters are as follows : \n",
        "\n",
        "max_features=None, </br>max_leaf_nodes=None, </br>\n",
        "min_impurity_decrease=0.0, </br>\n",
        "min_impurity_split=None, </br>\n",
        "min_samples_leaf=1, </br> min_samples_split=2, </br>\n",
        "min_weight_fraction_leaf=0.0 </br>\n",
        "\n",
        "Trees are added one at a time, and existing trees in the model are not changed. A gradient descent procedure will be used to minimize the loss when trees are being added. After calculating the loss, we add a tree to the model that reduces the loss (ie. follow the gradient). We can do this by parameterizing the tree and then modify the parameters of the tree and move in the direction that reduces the residual loss. \n",
        "\n",
        "The output for the new tree is then added to the output of the existing sequence of trees to improve the final output of the model. \n",
        "\n",
        "A fixed number of trees are added or training will stop once the loss reaches an acceptable level or it no longer improves on an external validation dataset. \n",
        "\n",
        "Gradient boosting trains many models in an additive and sequential manner. \n",
        "\n",
        "\n",
        "Illustration of Gradient Boost (*Zhang, Mayer & Dauvilliers, 2018*):\n",
        "\n",
        "![Picture](https://www.researchgate.net/profile/Maria_Peraita-Adrados/publication/326379229/figure/fig5/AS:647978477948928@1531501516288/A-simple-example-of-visualizing-gradient-boosting.png)\n",
        "\n",
        "## Comparing Gradient Boost and Random Forest\n",
        "\n",
        "The difference between Gradient Boosting and Random Forest can be seen as follows in the given table (*Grover, 2019*):\n",
        "\n",
        "![Picture](https://drive.google.com/uc?id=1kWbpkUVHZ-zIJ4D721OmLj59ylGvHeHu)\n",
        "\n",
        "The two main differences between Random Forest and Gradient Boosting are:\n",
        "\n",
        "How trees are built: Random Forests builds each tree independently while Gradient Boosting builds one tree at a time. This additive model (ensemble) works in a forward stage-wise manner, introducing a weak learner to improve the shortcomings of existing weak learners. \n",
        "\n",
        "Combining results: Random Forests combine results at the end of the process (by averaging or \"majority rules\") while Gradient Boosting combines results along the way.\n"
      ]
    },
    {
      "cell_type": "code",
      "metadata": {
        "id": "UosUi0NIpy99",
        "colab_type": "code",
        "colab": {}
      },
      "source": [
        "# This function calls the validation_curve functions and plots out the curve.\n",
        "from sklearn.model_selection import validation_curve\n",
        "def plot_validation_curve(my_classifier, X, y, param_name, param_range, cv, title, X_label, y_label):\n",
        "  # Calculate accuracy on training and test set using range of parameter values\n",
        "  train_scores, test_scores = validation_curve(my_classifier, \n",
        "                                              X = X, \n",
        "                                              y = y, \n",
        "                                              param_name = param_name, \n",
        "                                              param_range = param_range,\n",
        "                                              cv = cv, \n",
        "                                              scoring = \"accuracy\", \n",
        "                                              n_jobs = -1)\n",
        "\n",
        "\n",
        "  # Calculate mean and standard deviation for training set scores\n",
        "  train_mean = np.mean(train_scores, axis=1)\n",
        "  train_std = np.std(train_scores, axis=1)\n",
        "\n",
        "  # Calculate mean and standard deviation for test set scores\n",
        "  test_mean = np.mean(test_scores, axis=1)\n",
        "  test_std = np.std(test_scores, axis=1)\n",
        "\n",
        "  # Plot mean accuracy scores for training and test sets\n",
        "  plt.plot(param_range, train_mean, label=\"Training score\", color=\"black\")\n",
        "  plt.plot(param_range, test_mean, label=\"Cross-validation score\", color=\"dimgrey\")\n",
        "\n",
        "  # Plot accurancy bands for training and test sets\n",
        "  plt.fill_between(param_range, train_mean - train_std, train_mean + train_std, color=\"gray\")\n",
        "  plt.fill_between(param_range, test_mean - test_std, test_mean + test_std, color=\"gainsboro\")\n",
        "\n",
        "  # Create plot\n",
        "  plt.title(title)\n",
        "  plt.xlabel(X_label)\n",
        "  plt.ylabel(y_label)\n",
        "  plt.tight_layout()\n",
        "  plt.legend(loc=\"best\")\n",
        "  plt.show()"
      ],
      "execution_count": 0,
      "outputs": []
    },
    {
      "cell_type": "markdown",
      "metadata": {
        "id": "E74VZVOKdWjm",
        "colab_type": "text"
      },
      "source": [
        "#### We fit a random forest classifier and compare it with Gradient Boost model.\n",
        "We use 3-fold cross vaildation to select the max depth to prevent over-fitting."
      ]
    },
    {
      "cell_type": "code",
      "metadata": {
        "id": "-I1iOX_ytDR4",
        "colab_type": "code",
        "outputId": "e33fc92a-d991-4daa-961e-a1a0e478d633",
        "colab": {
          "base_uri": "https://localhost:8080/",
          "height": 297
        }
      },
      "source": [
        "from sklearn.ensemble import RandomForestClassifier\n",
        "plot_validation_curve(RandomForestClassifier(n_estimators=10, random_state=0),\n",
        "                      X=data_reshaped_new, \n",
        "                      y=y_reshaped, \n",
        "                      param_name='max_depth', \n",
        "                      param_range=range(1,10),\n",
        "                      cv=3,\n",
        "                      title = 'Validation Curve With Random Forest',\n",
        "                      X_label = 'Max_Depth',\n",
        "                      y_label = 'Accuracy Score')"
      ],
      "execution_count": 0,
      "outputs": [
        {
          "output_type": "display_data",
          "data": {
            "image/png": "[encoded data removed]",
            "text/plain": [
              "<Figure size 432x288 with 1 Axes>"
            ]
          },
          "metadata": {
            "tags": []
          }
        }
      ]
    },
    {
      "cell_type": "code",
      "metadata": {
        "id": "VIF7dRnJmVAL",
        "colab_type": "code",
        "outputId": "5626fd55-571e-4c9c-ef4b-f5c21b58b32f",
        "colab": {
          "base_uri": "https://localhost:8080/",
          "height": 136
        }
      },
      "source": [
        "random_clf = RandomForestClassifier(n_estimators=10, max_depth=5)\n",
        "random_clf.fit(X_train, y_train)"
      ],
      "execution_count": 0,
      "outputs": [
        {
          "output_type": "execute_result",
          "data": {
            "text/plain": [
              "RandomForestClassifier(bootstrap=True, class_weight=None, criterion='gini',\n",
              "                       max_depth=5, max_features='auto', max_leaf_nodes=None,\n",
              "                       min_impurity_decrease=0.0, min_impurity_split=None,\n",
              "                       min_samples_leaf=1, min_samples_split=2,\n",
              "                       min_weight_fraction_leaf=0.0, n_estimators=10,\n",
              "                       n_jobs=None, oob_score=False, random_state=None,\n",
              "                       verbose=0, warm_start=False)"
            ]
          },
          "metadata": {
            "tags": []
          },
          "execution_count": 48
        }
      ]
    },
    {
      "cell_type": "code",
      "metadata": {
        "id": "mtFB9LWFntPL",
        "colab_type": "code",
        "outputId": "0dd12278-69b9-4735-e0d6-3bf1f8a4f8dd",
        "colab": {
          "base_uri": "https://localhost:8080/",
          "height": 34
        }
      },
      "source": [
        "y_train_pred_random = random_clf.predict(X_train)\n",
        "y_test_pred_random = random_clf.predict(X_test)\n",
        "\n",
        "from sklearn.metrics import accuracy_score\n",
        "training_acc_RF = accuracy_score(y_train, y_train_pred_random)\n",
        "validation_acc_RF = accuracy_score(y_test, y_test_pred_random)\n",
        "\n",
        "print(f'The training accuracy is {training_acc_RF:.2f} and the validation accuracy is {validation_acc_RF:.2f}')"
      ],
      "execution_count": 0,
      "outputs": [
        {
          "output_type": "stream",
          "text": [
            "The training accuracy is 0.62 and the validation accuracy is 0.62\n"
          ],
          "name": "stdout"
        }
      ]
    },
    {
      "cell_type": "markdown",
      "metadata": {
        "id": "Akyb4I6-d3wd",
        "colab_type": "text"
      },
      "source": [
        "###Now we fit the Gradient Boost model.\n",
        "We use 3-fold cross vaildation to select the max depth to prevent over-fitting.\n",
        "\n"
      ]
    },
    {
      "cell_type": "code",
      "metadata": {
        "id": "cflCmHAiefWD",
        "colab_type": "code",
        "outputId": "c8e53931-1a0f-4e27-9470-705fd811596c",
        "colab": {
          "base_uri": "https://localhost:8080/",
          "height": 297
        }
      },
      "source": [
        "from sklearn.ensemble import GradientBoostingClassifier\n",
        "plot_validation_curve(GradientBoostingClassifier(),\n",
        "                      X=data_reshaped_new, \n",
        "                      y=y_reshaped, \n",
        "                      param_name='max_depth', \n",
        "                      param_range=range(1,5),\n",
        "                      cv=3,\n",
        "                      title='Validation Curve with Gradient Boost',\n",
        "                      X_label='Max_Depth',\n",
        "                      y_label='Accuarcy Score')"
      ],
      "execution_count": 0,
      "outputs": [
        {
          "output_type": "display_data",
          "data": {
            "image/png": "[encoded data removed]",
            "text/plain": [
              "<Figure size 432x288 with 1 Axes>"
            ]
          },
          "metadata": {
            "tags": []
          }
        }
      ]
    },
    {
      "cell_type": "code",
      "metadata": {
        "id": "otC1ZCZBm9-k",
        "colab_type": "code",
        "outputId": "f9149fc6-4bde-4fbb-9f83-787b07eae25d",
        "colab": {
          "base_uri": "https://localhost:8080/",
          "height": 187
        }
      },
      "source": [
        "gb_clf = GradientBoostingClassifier(max_depth=2)\n",
        "gb_clf.fit(X_train, y_train)"
      ],
      "execution_count": 0,
      "outputs": [
        {
          "output_type": "execute_result",
          "data": {
            "text/plain": [
              "GradientBoostingClassifier(criterion='friedman_mse', init=None,\n",
              "                           learning_rate=0.1, loss='deviance', max_depth=2,\n",
              "                           max_features=None, max_leaf_nodes=None,\n",
              "                           min_impurity_decrease=0.0, min_impurity_split=None,\n",
              "                           min_samples_leaf=1, min_samples_split=2,\n",
              "                           min_weight_fraction_leaf=0.0, n_estimators=100,\n",
              "                           n_iter_no_change=None, presort='auto',\n",
              "                           random_state=None, subsample=1.0, tol=0.0001,\n",
              "                           validation_fraction=0.1, verbose=0,\n",
              "                           warm_start=False)"
            ]
          },
          "metadata": {
            "tags": []
          },
          "execution_count": 52
        }
      ]
    },
    {
      "cell_type": "code",
      "metadata": {
        "id": "0q7JSqjOnU9-",
        "colab_type": "code",
        "outputId": "ecdeae33-94f2-43a1-d9ca-fe8648c98e25",
        "colab": {
          "base_uri": "https://localhost:8080/",
          "height": 34
        }
      },
      "source": [
        "y_train_predgb = gb_clf.predict(X_train)\n",
        "y_test_predgb = gb_clf.predict(X_test)\n",
        "\n",
        "from sklearn.metrics import accuracy_score\n",
        "training_acc_boost = accuracy_score(y_train, y_train_predgb)\n",
        "validation_acc_boost = accuracy_score(y_test, y_test_predgb)\n",
        "\n",
        "print(f'The training accuracy is {training_acc_boost:.2f} and the validation accuracy is {validation_acc_boost:.2f}')"
      ],
      "execution_count": 0,
      "outputs": [
        {
          "output_type": "stream",
          "text": [
            "The training accuracy is 0.96 and the validation accuracy is 0.72\n"
          ],
          "name": "stdout"
        }
      ]
    },
    {
      "cell_type": "markdown",
      "metadata": {
        "id": "JfK1gzAbQYIM",
        "colab_type": "text"
      },
      "source": [
        "###Comparing the performance of the newly fitted CNN and the 3 pre-trained models"
      ]
    },
    {
      "cell_type": "code",
      "metadata": {
        "id": "lO8NALBdc04l",
        "colab_type": "code",
        "colab": {}
      },
      "source": [
        "import pandas as pd\n",
        "model_name = ['Logistic Regression', 'KNN','New CNN','VGG16', 'MobileNet','ResNet50', 'Random Forest', 'Gradient Boosting']\n",
        "training_accuracy = np.array([train_log_score, knn_train_score, training_acc_cnn_main,training_acc_vgg16, training_acc_mobile, training_acc_resnet50, training_acc_RF, training_acc_boost])\n",
        "validation_accuracy = np.array([logit_score, knn_score, validation_acc_cnn_main,validation_acc_vgg16, validation_acc_mobile, validation_acc_resnet50, validation_acc_RF, validation_acc_boost])\n",
        "\n",
        "training_validation_accuracy = np.vstack((training_accuracy, validation_accuracy)) # Stack the 2 arrays vertically\n",
        "summary_accuracy = pd.DataFrame(data = training_validation_accuracy, index = ['Training Accuracy', 'Validation Accuracy'], columns = model_name)\n"
      ],
      "execution_count": 0,
      "outputs": []
    },
    {
      "cell_type": "code",
      "metadata": {
        "id": "_CtKCwJNCX5D",
        "colab_type": "code",
        "outputId": "a6d50782-be53-4ee1-f8e6-a286e1aeec68",
        "colab": {
          "base_uri": "https://localhost:8080/",
          "height": 111
        }
      },
      "source": [
        "summary_accuracy"
      ],
      "execution_count": 0,
      "outputs": [
        {
          "output_type": "execute_result",
          "data": {
            "text/html": [
              "<div>\n",
              "<style scoped>\n",
              "    .dataframe tbody tr th:only-of-type {\n",
              "        vertical-align: middle;\n",
              "    }\n",
              "\n",
              "    .dataframe tbody tr th {\n",
              "        vertical-align: top;\n",
              "    }\n",
              "\n",
              "    .dataframe thead th {\n",
              "        text-align: right;\n",
              "    }\n",
              "</style>\n",
              "<table border=\"1\" class=\"dataframe\">\n",
              "  <thead>\n",
              "    <tr style=\"text-align: right;\">\n",
              "      <th></th>\n",
              "      <th>Logistic Regression</th>\n",
              "      <th>KNN</th>\n",
              "      <th>New CNN</th>\n",
              "      <th>VGG16</th>\n",
              "      <th>MobileNet</th>\n",
              "      <th>ResNet50</th>\n",
              "      <th>Random Forest</th>\n",
              "      <th>Gradient Boosting</th>\n",
              "    </tr>\n",
              "  </thead>\n",
              "  <tbody>\n",
              "    <tr>\n",
              "      <th>Training Accuracy</th>\n",
              "      <td>0.970893</td>\n",
              "      <td>0.809185</td>\n",
              "      <td>0.901035</td>\n",
              "      <td>1.000000</td>\n",
              "      <td>0.999677</td>\n",
              "      <td>1.000000</td>\n",
              "      <td>0.622898</td>\n",
              "      <td>0.956339</td>\n",
              "    </tr>\n",
              "    <tr>\n",
              "      <th>Validation Accuracy</th>\n",
              "      <td>0.715116</td>\n",
              "      <td>0.730620</td>\n",
              "      <td>0.800388</td>\n",
              "      <td>0.996124</td>\n",
              "      <td>0.998062</td>\n",
              "      <td>0.998062</td>\n",
              "      <td>0.616279</td>\n",
              "      <td>0.715116</td>\n",
              "    </tr>\n",
              "  </tbody>\n",
              "</table>\n",
              "</div>"
            ],
            "text/plain": [
              "                     Logistic Regression  ...  Gradient Boosting\n",
              "Training Accuracy               0.970893  ...           0.956339\n",
              "Validation Accuracy             0.715116  ...           0.715116\n",
              "\n",
              "[2 rows x 8 columns]"
            ]
          },
          "metadata": {
            "tags": []
          },
          "execution_count": 55
        }
      ]
    },
    {
      "cell_type": "markdown",
      "metadata": {
        "id": "LkI9pHXiDxTt",
        "colab_type": "text"
      },
      "source": [
        "From the above results, there seems to be a problem of overfitting in both logistic regression and gradient boosting models, judging from how the training accuracy greatly exceeds the validation accuracy. This is to be expected for both models. Logistic regression tend to overfit when there are many features for the model, and in our case, each of the pixels of the image is considered to be an individual features, hence for the logistic model, we will have 64*64 = 4096 features which will lead to overfitting issues. For gradient boosting models, it is mentioned above that it is prone to overfitting, hence the result is no surprise. \n",
        "\n",
        "Also, in line with our expectations, CNN models performed the best, especially the transfer learning models. This may be because our dataset is relatively small hence it will perform much better on transfer learning models as they are already trained on a large data set compared to the CNN we trained from scratch. "
      ]
    },
    {
      "cell_type": "markdown",
      "metadata": {
        "id": "tFWjX1uerPzT",
        "colab_type": "text"
      },
      "source": [
        "# Conclusion \n",
        "We have shown that it is possible to train a model to successfully recognize digits of sign language, and we believe this can be extrapolated to other areas of sign languages as well, such as alphabets or even words. This is significant because it can potentially bridge the gap between people who do not know sign language and people who can only communicate in sign languages. We hope that further research can be done in this area.  "
      ]
    },
    {
      "cell_type": "markdown",
      "metadata": {
        "id": "t7v1exH_Aebe",
        "colab_type": "text"
      },
      "source": [
        "# References\n",
        "Albon, C. (2017, December 20). Neural Network Early Stopping. Retrieved from https://chrisalbon.com/deep_learning/keras/neural_network_early_stopping/\n",
        "\n",
        "Brownlee, J. (2019). A Gentle Introduction to the Gradient Boosting Algorithm for Machine Learning. [online] Machine Learning Mastery. Available at: https://machinelearningmastery.com/gentle-introduction-gradient-boosting-algorithm-machine-learning/ [Accessed 17 Nov. 2019].\n",
        "\n",
        "Brownlee, J. (2019, October 3). Understand the Impact of Learning Rate on Neural Network Performance. Retrieved from https://machinelearningmastery.com/understand-the-dynamics-of-learning-rate-on-deep-learning-neural-networks/\n",
        "\n",
        "Chris, O. (2015, February 11). 5 Ways Sign Language Benefits the Hearing: How ASL Improves Communication. Retrieved from https://www.speechbuddy.com/blog/language-development/5-ways-sign-language-benefits-the-hearing/\n",
        "\n",
        "Culfaz, F. (2018). Transfer Learning using Mobilenet and Keras. Retrieved from: https://towardsdatascience.com/transfer-learning-using-mobilenet-and-keras-c75daf7ff299\n",
        "\n",
        "Doukkali, F. (2018, June). Batch Normalization in Neural Networks. Retrieved from: https://www.kdnuggets.com/2018/06/batch-normalization-neural-networks.html\n",
        "\n",
        "Dwidevi, P. (2019). Understanding and Coding a ResNet in Keras. Retrieved from:https://towardsdatascience.com/understanding-and-coding-a-resnet-in-keras-446d7ff84d33\n",
        "\n",
        "Goy, P. (2017, February 2). Building bridges with sign language. Retrieved from https://www.straitstimes.com/singapore/building-bridges-with-sign-language.\n",
        "\n",
        "Greenwell, B. (2019, October 19). Hands-On Machine Learning with R. Retrieved from https://bradleyboehmke.github.io/HOML/gbm.html#ref-esl.\n",
        "\n",
        "Grover, P. (2019, August 1). Gradient Boosting from scratch. Retrieved from https://medium.com/mlreview/gradient-boosting-from-scratch-1e317ae4587d\n",
        "\n",
        "Hastie, T., Tibshirani, R., & Friedman, J. (2009). Boosting and additive trees. In The elements of statistical learning (pp. 337-387). Springer, New York, NY. https://www.stat.auckland.ac.nz/~yee/784/files/ch10BoostingAdditiveTrees.pdf\n",
        "\n",
        "He, K., Zhang, X., Ren, S., & Sun, J. (2016). Deep residual learning for image recognition. In Proceedings of the IEEE conference on computer vision and pattern recognition (pp. 770-778). Retrieved from: https://arxiv.org/pdf/1512.03385.pdf\n",
        "\n",
        "Holmes, S. (2002, January 12). Classification trees. Retrieved from http://statweb.stanford.edu/~susan/courses/b494/index/node45.html\n",
        "\n",
        "Howard, A. G., Zhu, M., Chen, B., Kalenichenko, D., Wang, W., Weyand, T., Andreetto, M. & Adam, H. (2017). Mobilenets: Efficient convolutional neural networks for mobile vision applications. arXiv preprint arXiv:1704.04861. Retrieved from: https://arxiv.org/pdf/1704.04861.pdf\n",
        "\n",
        "National Aphasia Association. (2017, August 13). Sign Language and Aphasia. Retrieved from https://www.aphasia.org/stories/sign-language-aphasia/\n",
        "\n",
        "Ramesh, S. (2018, May 26). A guide to an efficient way to build neural network architectures- Part II: Hyper-parameter? Retrieved from https://towardsdatascience.com/a-guide-to-an-efficient-way-to-build-neural-network-architectures-part-ii-hyper-parameter-42efca01e5d7\n",
        "\n",
        "Rogers, K. (2018, March 27). Augmented Reality App Can Translate Sign Language Into Spoken English, and Vice Versa. Retrieved from https://www.vice.com/en_us/article/zmgnd9/app-to-translate-sign-language.\n",
        "\n",
        "Rosebrock, A. (2017). ImageNet: VGGNet, ResNet, Inception, and Xception with Keras. Retrieved from https://www.pyimagesearch.com/2017/03/20/imagenet-vggnet-resnet-inception-xception-keras/\n",
        "\n",
        "Sarkar, D. (2018, November 17). A Comprehensive Hands-on Guide to Transfer Learning with Real-World Applications in Deep Learning. Retrieved from https://towardsdatascience.com/a-comprehensive-hands-on-guide-to-transfer-learning-with-real-world-applications-in-deep-learning-212bf3b2f27a\n",
        "\n",
        "Saxena, A. (2016, June 29). Convolutional Neural Networks (CNNs): An Illustrated Explanation. Retrieved from https://blog.xrds.acm.org/2016/06/convolutional-neural-networks-cnns-illustrated-explanation/\n",
        "\n",
        "Simonyan, K., & Zisserman, A. (2014). Very deep convolutional networks for large-scale image recognition. arXiv preprint arXiv:1409.1556. Retrieved from: http://www.robots.ox.ac.uk/~vgg/publications/2015/Simonyan15/simonyan15.pdf\n",
        "\n",
        "Snook, M. (2018, November 13). Why hearing aids and sign language are a happy pair. Retrieved from https://www.hearinglikeme.com/why-hearing-aids-and-sign-language-are-a-happy-pair/\n",
        "\n",
        "Srivastava, H. (2018, April 25). Convolutional Neural Networks Explained. Retrieved from https://magoosh.com/data-science/convolutional-neural-networks-explained/.\n",
        "\n",
        "Srivastava, N., Hinton, G., Krizhevsky, A., Sutskever, I., & Salakhutdinov, R. (2014). Dropout: a simple way to prevent neural networks from overfitting. The journal of machine learning research, 15(1), 1929-1958. http://jmlr.org/papers/v15/srivastava14a.html\n",
        "\n",
        "Teng, A. (2017, September 16). Mayflower Primary to take in deaf pupils. Retrieved from https://www.straitstimes.com/singapore/education/mayflower-primary-to-take-in-deaf-pupils.\n",
        "\n",
        "Udofia, U. (2019, September 20). Basic Overview of Convolutional Neural Network (CNN). Retrieved from https://medium.com/dataseries/basic-overview-of-convolutional-neural-network-cnn-4fcc7dbb4f17\n",
        "\n",
        "World Health Organization. (2019, March 20). Deafness and hearing loss. Retrieved from https://www.who.int/news-room/fact-sheets/detail/deafness-and-hearing-loss\n",
        "\n",
        "Zhang, Z., Mayer, G., Dauvilliers, Y., Plazzi, G., Pizza, F., Fronczek, R., ... & Da Silva, A. M. (2018). Exploring the clinical features of narcolepsy type 1 versus narcolepsy type 2 from European Narcolepsy Network database with machine learning. Scientific reports, 8(1), 10628.  https://doi.org/10.1038/s41598-018-28840-w"
      ]
    }
  ]
}