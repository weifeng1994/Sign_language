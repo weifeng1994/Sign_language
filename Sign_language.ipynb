{
  "cells": [
    {
      "cell_type": "code",
      "execution_count": null,
      "metadata": {
        "colab": {
          "base_uri": "https://localhost:8080/",
          "height": 122
        },
        "colab_type": "code",
        "id": "M35kij8uWIXI",
        "outputId": "dd9c0eda-b27b-478c-fc2b-25df9e0a329e"
      },
      "outputs": [],
      "source": [
        "# For Google Colab only! Remove when downloading to Jupyter Notebook!!!!!\n",
        "from google.colab import drive\n",
        "drive.mount('/content/drive')"
      ]
    },
    {
      "cell_type": "code",
      "execution_count": null,
      "metadata": {
        "colab": {},
        "colab_type": "code",
        "id": "Sm-ReW1AvUFi"
      },
      "outputs": [],
      "source": []
    },
    {
      "attachments": {},
      "cell_type": "markdown",
      "metadata": {
        "colab_type": "text",
        "id": "MkDtfjGLQjXX"
      },
      "source": [
        "# Abstract \n",
        "\n",
        "Sign language is a way to effectively communicate with people with hearing and speaking disability. In this project, we trained models to help us recognize sign language. The main focus of our project will be the numerical digits (0-9) in sign language, thus there are 10 classes in our dataset and the features of an image is represented by its pixels. To increase the number of images in our dataset, we applied Image Augmentation to the original dataset and concatenate the augmented images with the original dataset. Hence, we trained different models to classify the images to their corresponding numbers. This new dataset was then used to train these models: Logistic Regression, K-Nearest Neighbours (KNN), Convolutional Neural Network (CNN), Transfer Learning models and Gradient Boosting. According to our results, the Transfer learning model (VGG16) is the best to predict our dataset with the highest training and validation accuracy, while Logistic Regression and Gradient Boosting display signs of overfitting. We hope that our project would serve as a baseline for future research to use this technology to improve the daily lives of people with disabilities. "
      ]
    },
    {
      "attachments": {},
      "cell_type": "markdown",
      "metadata": {
        "colab_type": "text",
        "id": "sRHAyhZeah6i"
      },
      "source": [
        "# Introduction\n",
        "\n",
        "Sign languages (also known as signed languages) are languages that use manual communication to convey meaning. This can include simultaneously employing hand gestures, movement, the orientation of the fingers, arms or body, and facial expressions to convey a speaker's ideas. It is primarily used by people with hearing and speaking disabilities to communicate.\n",
        "\n",
        "Sign language has many benefits in the holistic development of children*(Chris, 2015)* and other areas other than using it to communicate with the deaf.\n",
        "\n",
        "\n",
        "1.   It enriches and enhances children's cognitive ability, speech development, and emotional control.\n",
        "\n",
        "2.   People with aphasia (neurological trauma) are unable to communicate coherently, hence with the use of sign language, they can get their message across *(NAA, 2017)*.\n",
        "\n",
        "\n",
        "There are around 466 million people worldwide who have listening disabilities and 34 million of these are children *(WHO, 2019)*.\n",
        "\n",
        "Though the benefits of hearing aids are undeniable, not everyone with a hearing disability can afford one. Hearing aids may be more convenient than using sign language as it doesn’t require much effort on both the speaker and listener to learn an entirely new language. However, if the hearing aid is damaged, the user will be unable to communicate, hence this is where sign language comes in handy. As per this article, why hearing aids and sign language are a happy pair, sign language and hearing aids are both essential tools for the hearing impaired, thus it is beneficial for the user to learn sign language *(Snook, 2018)*.\n",
        "\n",
        "It would be interesting to find out if we can train a model to recognize sign language. For scale, we will only be focusing on digits of sign language. However, if the model can accurately predict the meaning of the sign language, it would be possible to extrapolate to other areas of sign language.\n",
        "\n",
        "The reason we chose this topic is to bridge the gap between people who cannot understand sign language and want to communicate with those who can only communicate through sign language.\n",
        "\n",
        "One way to help bridge the gap is to create a smartphone application that reads sign language and translates it in real-time for maximum efficiency. This has already been achieved by students from New York University *(Rogers, 2018)* where they created an augmented reality smartphone application for real-time sign language translation. However, as sign language is not universal, their application only caters to those who use the American Sign Language (ASL). In Singapore,we have our sign language called the Singapore Sign Language (SgSL) which is slightly different from ASL *(Goy, 2017)*. Hence, the augmented reality application will not be able to translate SgSL properly. Therefore, we can build on their idea and create an application that translates SgSL in real-time for the user.\n",
        "\n",
        "This will also be extremely useful to students who are enrolled in mainstream post-secondary schools. For deaf students who are enrolled in mainstream elementary schools, there will be teachers trained in special needs posted to the schools to co-teach and provide extra help when needed *(Teng, 2017)*. However, at the post-secondary level and above, this help will no longer be easily available. Therefore, with the use of the application, we are thus able to help bridge the gap between the deaf and the hearing community.\n",
        "\n",
        "\n"
      ]
    },
    {
      "cell_type": "code",
      "execution_count": null,
      "metadata": {
        "colab": {},
        "colab_type": "code",
        "id": "P8z8gxleYDuc"
      },
      "outputs": [],
      "source": [
        "import matplotlib.pyplot as plt\n",
        "import numpy as np\n",
        "data = np.load(\"/content/drive/My Drive/MH4510/X.npy\")\n",
        "datay = np.load(\"/content/drive/My Drive/MH4510/Y.npy\")"
      ]
    },
    {
      "attachments": {},
      "cell_type": "markdown",
      "metadata": {
        "colab_type": "text",
        "id": "J4oaXowWpnRH"
      },
      "source": [
        "#Exploratory Data Analysis\n",
        "\n",
        "- From Kaggle: Sign Language (from numbers 0 to 9) (https://www.kaggle.com/datasets/ardamavi/sign-language-digits-dataset)\n",
        "- Image size: 64x64\n",
        "- Color space: Grayscale\n",
        "- File format: npy\n",
        "- Number of classes: 10 (Digits: 0-9)\n",
        "- Number of participant students: 218\n",
        "- Number of samples per student: 10\n",
        "\n",
        "\n",
        "\n",
        "Our datasets are in 2 separate npy files. In the first npy file, our images are stored as a $2062$x$64$x$64$ matrix. Each row of the matrix corresponds to each of the images which are stored as a 64x64 matrix. The second npy file is a matrix with each column representing a digit. For any row, there will be only one entry with “1” and the rest of the entries are “0”. A “1” in a particular column means that the row is representing the digit that the column represents. This is the digit which the image in the same row in the first dataset is representing.\n",
        "\n",
        "\n",
        "The table below shows a summary of our dataset.\n",
        "\n",
        "![Picture](https://drive.google.com/uc?id=1wXltF9NURflzkZq4N4pxcWLmiPozjHNS)\n",
        "\n"
      ]
    },
    {
      "cell_type": "code",
      "execution_count": null,
      "metadata": {
        "colab": {
          "base_uri": "https://localhost:8080/",
          "height": 153
        },
        "colab_type": "code",
        "id": "VA7kQLE3Wh7m",
        "outputId": "076060d0-a92a-4eef-d752-398c35d39e89"
      },
      "outputs": [
        {
          "name": "stdout",
          "output_type": "stream",
          "text": [
            "[[0.46666667 0.4745098  0.47843137 ... 0.5176471  0.5137255  0.5019608 ]\n",
            " [0.49803922 0.4862745  0.4862745  ... 0.5254902  0.5176471  0.50980395]\n",
            " [0.54509807 0.49411765 0.49019608 ... 0.5294118  0.5254902  0.5137255 ]\n",
            " ...\n",
            " [0.5019608  0.5137255  0.5176471  ... 0.5529412  0.54509807 0.53333336]\n",
            " [0.49803922 0.5058824  0.5137255  ... 0.54509807 0.53333336 0.52156866]\n",
            " [0.49019608 0.49803922 0.5019608  ... 0.5294118  0.52156866 0.50980395]]\n",
            "(2062, 64, 64)\n"
          ]
        }
      ],
      "source": [
        "# Observe the structure of the dataset\n",
        "print(data[0])\n",
        "print(data.shape)"
      ]
    },
    {
      "attachments": {},
      "cell_type": "markdown",
      "metadata": {
        "colab_type": "text",
        "id": "kiN0SGaU8YbT"
      },
      "source": [
        "Here is a sample of how our data looks like. "
      ]
    },
    {
      "cell_type": "code",
      "execution_count": null,
      "metadata": {
        "colab": {
          "base_uri": "https://localhost:8080/",
          "height": 285
        },
        "colab_type": "code",
        "id": "yZ-qlX80W4ok",
        "outputId": "49d91750-3166-4cbb-858f-39716d77178c"
      },
      "outputs": [
        {
          "data": {
            "text/plain": [
              "<matplotlib.image.AxesImage at 0x7fbe2e325a58>"
            ]
          },
          "execution_count": 4,
          "metadata": {
            "tags": []
          },
          "output_type": "execute_result"
        },
        {
          "data": {
            "image/png": "[encoded data removed]",
            "text/plain": [
              "<Figure size 432x288 with 1 Axes>"
            ]
          },
          "metadata": {
            "tags": []
          },
          "output_type": "display_data"
        }
      ],
      "source": [
        "# # Take a look at some of the images in the dataset\n",
        "plt.imshow(data[0], cmap='gray')"
      ]
    },
    {
      "attachments": {},
      "cell_type": "markdown",
      "metadata": {
        "colab_type": "text",
        "id": "WSJj-TebLfg6"
      },
      "source": [
        "# Feature Engineering"
      ]
    },
    {
      "attachments": {},
      "cell_type": "markdown",
      "metadata": {
        "colab_type": "text",
        "id": "ki1xgYcSMKZ7"
      },
      "source": [
        "As our datasets consists of images, our only feature is the pixels. Therefore we will be using the individual pixels as our feature."
      ]
    },
    {
      "attachments": {},
      "cell_type": "markdown",
      "metadata": {
        "colab_type": "text",
        "id": "ZNTxLRUF-4aY"
      },
      "source": [
        "#Data Cleaning\n",
        "Our dataset is relatively clean, hence there is not much cleaning to do. We notice that the the y-value does not correspond to the actual number (i.e, digit 9's output value is 0), hence we change the output value to corresponse to the actual digit that the image represent for easier viewing. Also, as some of our models only accept input data in 3-dimension form (RGB), we have to reshape the dataset in order to fit the dataset into the models. Similarly, we do the same for the output values. "
      ]
    },
    {
      "cell_type": "code",
      "execution_count": null,
      "metadata": {
        "colab": {
          "base_uri": "https://localhost:8080/",
          "height": 114
        },
        "colab_type": "code",
        "id": "Sry57yUy_5b6",
        "outputId": "09f2e711-b255-4821-a446-055162696374"
      },
      "outputs": [
        {
          "name": "stderr",
          "output_type": "stream",
          "text": [
            "Using TensorFlow backend.\n"
          ]
        },
        {
          "data": {
            "text/html": [
              "<p style=\"color: red;\">\n",
              "The default version of TensorFlow in Colab will soon switch to TensorFlow 2.x.<br>\n",
              "We recommend you <a href=\"https://www.tensorflow.org/guide/migrate\" target=\"_blank\">upgrade</a> now \n",
              "or ensure your notebook will continue to use TensorFlow 1.x via the <code>%tensorflow_version 1.x</code> magic:\n",
              "<a href=\"https://colab.research.google.com/notebooks/tensorflow_version.ipynb\" target=\"_blank\">more info</a>.</p>\n"
            ],
            "text/plain": [
              "<IPython.core.display.HTML object>"
            ]
          },
          "metadata": {
            "tags": []
          },
          "output_type": "display_data"
        },
        {
          "name": "stdout",
          "output_type": "stream",
          "text": [
            "(2062, 64, 64, 1)\n",
            "[9 9 9 ... 5 5 5]\n"
          ]
        }
      ],
      "source": [
        "from keras.datasets import mnist\n",
        "from keras.preprocessing.image import ImageDataGenerator\n",
        "from matplotlib import pyplot\n",
        "import numpy as np\n",
        "import matplotlib.pyplot as plt\n",
        "\n",
        "#Order the image according to what they represent\n",
        "columnx_digit = {0: 9,\n",
        "                1: 0,\n",
        "                2: 7,\n",
        "                3: 6,\n",
        "                4: 1,\n",
        "                5: 8,\n",
        "                6: 4,\n",
        "                7: 3,\n",
        "                8: 2,\n",
        "                9: 5}\n",
        "\n",
        "\n",
        "#digit-column index relationship dictionary\n",
        "relation_bw_digit_and_column = {v:k for k, v in columnx_digit.items()}\n",
        "\n",
        "Y_ordered = np.zeros(datay.shape)\n",
        "\n",
        "#fill the matrix so that the columns index also corresponds to the digit \n",
        "for i in range(datay.shape[1]):\n",
        "    Y_ordered[:,i] = datay[:,relation_bw_digit_and_column[i]]\n",
        "    \n",
        "#set the number of classes that our model have\n",
        "no_of_classes = 10\n",
        "\n",
        "#Reshaping the dimension of the data so that we can put it into the model\n",
        "data_reshaped = data.reshape(data.shape[0],data.shape[1],data.shape[2],1)\n",
        "print(data_reshaped.shape)\n",
        "\n",
        "\n",
        "#Reshaping the y ordered data\n",
        "y_reshaped=[]\n",
        "for i in Y_ordered:\n",
        "    arr = i.tolist()\n",
        "    index = arr.index(1)\n",
        "    y_reshaped.append(index)  \n",
        "    \n",
        "    \n",
        "y_reshaped = np.asarray(y_reshaped)\n",
        "print(y_reshaped)\n"
      ]
    },
    {
      "cell_type": "code",
      "execution_count": null,
      "metadata": {
        "colab": {
          "base_uri": "https://localhost:8080/",
          "height": 34
        },
        "colab_type": "code",
        "id": "J88DsbbUSMqF",
        "outputId": "d39af22f-3b13-4621-e7ac-ffc2f64542e0"
      },
      "outputs": [
        {
          "data": {
            "text/plain": [
              "array([205., 206., 206., 206., 207., 207., 207., 206., 208., 204.])"
            ]
          },
          "execution_count": 6,
          "metadata": {
            "tags": []
          },
          "output_type": "execute_result"
        }
      ],
      "source": [
        "# Check how many samples are there for each digit.\n",
        "Y_ordered.sum(axis=0)"
      ]
    },
    {
      "attachments": {},
      "cell_type": "markdown",
      "metadata": {
        "colab_type": "text",
        "id": "x0JbpUxNK7g6"
      },
      "source": [
        "### Application of Image Data Augmentation\n",
        "\n",
        "Since our data set consists of 2062 images, we feel that it may a bit too small which might cause underfitting when we run them through the prediction models. Hence we apply Image Data Augmentation to expand our data set to achieve a better fitting. Also, we notice that most of the images are taken from the same angle, so to increase the accuracy of our model, we decide to randomly rotate some of the images in the dataset. \n",
        "\n",
        "The main idea is to rotate the training set and then concatenate the rotated set to the training data. We choose 30 degrees to be the rotation range which means that an image will be rotated at most 30 degrees clockwise or anti-clockwise. This new training set will be used in all of our prediction models. "
      ]
    },
    {
      "cell_type": "code",
      "execution_count": null,
      "metadata": {
        "colab": {
          "base_uri": "https://localhost:8080/",
          "height": 269
        },
        "colab_type": "code",
        "id": "EQm-rbfqa5I9",
        "outputId": "df47f561-9b48-477b-93e5-83a8f25fb531"
      },
      "outputs": [
        {
          "data": {
            "image/png": "[encoded data removed]",
            "text/plain": [
              "<Figure size 432x288 with 9 Axes>"
            ]
          },
          "metadata": {
            "tags": []
          },
          "output_type": "display_data"
        }
      ],
      "source": [
        "#Splitting the data into the training set and the test set\n",
        "from sklearn.model_selection import train_test_split\n",
        "x_train, X_test_new, y_train_new, y_test = train_test_split(data_reshaped,y_reshaped,test_size=0.25,random_state=0)\n",
        "\n",
        "\n",
        "#We apply Image Data Augmention to expand our data set, so that we can acheive a better fit.\n",
        "# convert from int to float\n",
        "x_train_new = x_train.astype('float32')\n",
        "#We rotate the images within 30 degrees clockwise and 30 degrees anti clockwise\n",
        "datagen = ImageDataGenerator(rotation_range=30)\n",
        "# fit parameters from data\n",
        "datagen.fit(x_train_new)\n",
        "# configure batch size and retrieve augmented images: x_batch and its corresponding labels: y_batch\n",
        "\n",
        "dg = datagen.flow(x_train_new, y_train_new, batch_size= x_train.shape[0])\n",
        "x_batch, y_batch = dg.next()\n",
        "\n",
        "for i in range(0, 9):\n",
        "\tpyplot.subplot(330 + 1 + i)\n",
        "\tpyplot.imshow(x_batch[i].reshape(64, 64), cmap=pyplot.get_cmap('gray'))\n",
        "# show the plot\n",
        "pyplot.show()"
      ]
    },
    {
      "cell_type": "code",
      "execution_count": null,
      "metadata": {
        "colab": {},
        "colab_type": "code",
        "id": "JdqITynrE524"
      },
      "outputs": [],
      "source": [
        "#We now concatenate our original data with the new expanded data\n",
        "X_train_new = np.concatenate((x_train, x_batch), axis = 0)\n",
        "\n",
        "#Reshaping the train set dimension \n",
        "X_train = X_train_new.reshape(X_train_new.shape[0], X_train_new.shape[1]*X_train_new.shape[2])\n",
        "\n",
        "\n",
        "\n",
        "#Reshaping the test set dimension\n",
        "X_test = X_test_new.reshape(X_test_new.shape[0], X_test_new.shape[1]*X_test_new.shape[2])\n",
        "\n",
        "\n",
        "#Concatenate our original y train data with the augmented y data\n",
        "y_train = np.concatenate((y_train_new, y_batch), axis = 0)\n"
      ]
    },
    {
      "attachments": {},
      "cell_type": "markdown",
      "metadata": {
        "colab_type": "text",
        "id": "QvmlbVkf07Hg"
      },
      "source": [
        "#Model 1: Logistic Regression"
      ]
    },
    {
      "attachments": {},
      "cell_type": "markdown",
      "metadata": {
        "colab_type": "text",
        "id": "qwDFrfvNh2Ye"
      },
      "source": [
        "We first fit a Logistic Regression model and observe its performance."
      ]
    },
    {
      "cell_type": "code",
      "execution_count": null,
      "metadata": {
        "colab": {
          "base_uri": "https://localhost:8080/",
          "height": 190
        },
        "colab_type": "code",
        "id": "SN6es52zkSGL",
        "outputId": "746ac77b-46bb-488c-e67a-c2672303d0ab"
      },
      "outputs": [
        {
          "name": "stderr",
          "output_type": "stream",
          "text": [
            "/usr/local/lib/python3.6/dist-packages/sklearn/linear_model/logistic.py:432: FutureWarning: Default solver will be changed to 'lbfgs' in 0.22. Specify a solver to silence this warning.\n",
            "  FutureWarning)\n",
            "/usr/local/lib/python3.6/dist-packages/sklearn/linear_model/logistic.py:469: FutureWarning: Default multi_class will be changed to 'auto' in 0.22. Specify the multi_class option to silence this warning.\n",
            "  \"this warning.\", FutureWarning)\n"
          ]
        },
        {
          "data": {
            "text/plain": [
              "LogisticRegression(C=1.0, class_weight=None, dual=False, fit_intercept=True,\n",
              "                   intercept_scaling=1, l1_ratio=None, max_iter=100,\n",
              "                   multi_class='warn', n_jobs=None, penalty='l2',\n",
              "                   random_state=None, solver='warn', tol=0.0001, verbose=0,\n",
              "                   warm_start=False)"
            ]
          },
          "execution_count": 9,
          "metadata": {
            "tags": []
          },
          "output_type": "execute_result"
        }
      ],
      "source": [
        "from sklearn.linear_model import LogisticRegression\n",
        "logit = LogisticRegression()\n",
        "\n",
        "logit.fit(X_train, y_train)"
      ]
    },
    {
      "cell_type": "code",
      "execution_count": null,
      "metadata": {
        "colab": {
          "base_uri": "https://localhost:8080/",
          "height": 51
        },
        "colab_type": "code",
        "id": "z5UREVPlmkVr",
        "outputId": "b3c0e3de-373b-4230-fe17-df7842789179"
      },
      "outputs": [
        {
          "name": "stdout",
          "output_type": "stream",
          "text": [
            "0.7151162790697675\n",
            "0.9708926261319534\n"
          ]
        }
      ],
      "source": [
        "y_pred = logit.predict(X_test)\n",
        "from sklearn.metrics import accuracy_score\n",
        "logit_score = accuracy_score(y_test, y_pred, normalize = True)\n",
        "y_pred_train = logit.predict(X_train)\n",
        "from sklearn.metrics import accuracy_score\n",
        "train_log_score = accuracy_score(y_train, y_pred_train, normalize = True)\n",
        "print(logit_score)\n",
        "print(train_log_score)"
      ]
    },
    {
      "cell_type": "code",
      "execution_count": null,
      "metadata": {
        "colab": {
          "base_uri": "https://localhost:8080/",
          "height": 696
        },
        "colab_type": "code",
        "id": "5JaKia_zsVgJ",
        "outputId": "e86198c6-6ffd-487a-9146-9b455cc71ecb"
      },
      "outputs": [
        {
          "name": "stdout",
          "output_type": "stream",
          "text": [
            "[[41  0  0  0  8  1  3  0  1  1]\n",
            " [ 0 42  4  1  0  0  0  3  2  0]\n",
            " [ 4  2 23  2  1  0  4  3  3  0]\n",
            " [ 1  3  2 43  1  4  0  1  0  0]\n",
            " [ 1  1  0  1 27  0 10  3  7  1]\n",
            " [ 1  0  0  5  0 44  0  0  1  3]\n",
            " [ 1  1  4  0  4  0 34  1  1  1]\n",
            " [ 1  2  5  0  5  1  3 33  5  0]\n",
            " [ 2  1  1  1  3  0  1  1 38  3]\n",
            " [ 0  1  1  0  1  4  0  0  3 44]]\n"
          ]
        },
        {
          "data": {
            "image/png": "[encoded data removed]",
            "text/plain": [
              "<Figure size 648x648 with 2 Axes>"
            ]
          },
          "metadata": {
            "tags": []
          },
          "output_type": "display_data"
        }
      ],
      "source": [
        "import matplotlib.pyplot as plt\n",
        "import seaborn as sns\n",
        "from sklearn import metrics\n",
        "\n",
        "#confusion matrix\n",
        "confusionmatrix = metrics.confusion_matrix(y_test, y_pred)\n",
        "print(confusionmatrix)\n",
        "\n",
        "plt.figure(figsize=(9,9))\n",
        "sns.heatmap(confusionmatrix, annot=True, fmt=\".3f\", linewidths=.5, square = True, cmap = 'Pastel1_r');\n",
        "plt.ylabel('Actual label');\n",
        "plt.xlabel('Predicted label');\n",
        "all_sample_title = 'Accuracy Score: {0}'.format(logit_score)\n",
        "plt.title(all_sample_title, size = 15);\n"
      ]
    },
    {
      "attachments": {},
      "cell_type": "markdown",
      "metadata": {
        "colab_type": "text",
        "id": "MUI3Ekn-0sjF"
      },
      "source": [
        "#Model 2: K - Nearest Neighbors"
      ]
    },
    {
      "attachments": {},
      "cell_type": "markdown",
      "metadata": {
        "colab_type": "text",
        "id": "FOrdtmSHiC-1"
      },
      "source": [
        "Next we train a KNN model and observe its performance. We will do cross-validation to select the value of K."
      ]
    },
    {
      "cell_type": "code",
      "execution_count": null,
      "metadata": {
        "colab": {
          "base_uri": "https://localhost:8080/",
          "height": 34
        },
        "colab_type": "code",
        "id": "oCDsueGzkoJg",
        "outputId": "e4bb8205-ccb4-47d2-d69f-e9d48328e451"
      },
      "outputs": [
        {
          "name": "stdout",
          "output_type": "stream",
          "text": [
            "(2062, 4096)\n"
          ]
        }
      ],
      "source": [
        "#Reshape the original data to fit in the KNN classifier\n",
        "from sklearn.neighbors import KNeighborsClassifier\n",
        "data_reshaped_new = data_reshaped.reshape(data_reshaped.shape[0], data_reshaped.shape[1]*data_reshaped.shape[2])\n",
        "print(data_reshaped_new.shape)"
      ]
    },
    {
      "cell_type": "code",
      "execution_count": null,
      "metadata": {
        "colab": {
          "base_uri": "https://localhost:8080/",
          "height": 351
        },
        "colab_type": "code",
        "id": "rFlne5gp0diq",
        "outputId": "8e108042-05bf-49ac-9324-41f55fbadd0f"
      },
      "outputs": [
        {
          "name": "stderr",
          "output_type": "stream",
          "text": [
            "/usr/local/lib/python3.6/dist-packages/joblib/externals/loky/process_executor.py:706: UserWarning: A worker stopped while some jobs were given to the executor. This can be caused by a too short worker timeout or by a memory leak.\n",
            "  \"timeout or by a memory leak.\", UserWarning\n"
          ]
        },
        {
          "data": {
            "image/png": "[encoded data removed]",
            "text/plain": [
              "<Figure size 432x288 with 1 Axes>"
            ]
          },
          "metadata": {
            "tags": []
          },
          "output_type": "display_data"
        }
      ],
      "source": [
        "from sklearn.model_selection import validation_curve\n",
        "# Create range of values for parameter\n",
        "param_range = np.arange(5, 12)\n",
        "\n",
        "# Calculate accuracy on training and test set using range of parameter values\n",
        "train_scores, test_scores = validation_curve(KNeighborsClassifier(), \n",
        "                                             data_reshaped_new, \n",
        "                                             y_reshaped, \n",
        "                                             param_name=\"n_neighbors\", \n",
        "                                             param_range=param_range,\n",
        "                                              cv=3, \n",
        "                                             scoring=\"accuracy\", \n",
        "                                             n_jobs=-1)\n",
        "\n",
        "\n",
        "# Calculate mean and standard deviation for training set scores\n",
        "train_mean = np.mean(train_scores, axis=1)\n",
        "train_std = np.std(train_scores, axis=1)\n",
        "\n",
        "# Calculate mean and standard deviation for test set scores\n",
        "test_mean = np.mean(test_scores, axis=1)\n",
        "test_std = np.std(test_scores, axis=1)\n",
        "\n",
        "# Plot mean accuracy scores for training and test sets\n",
        "plt.plot(param_range, train_mean, label=\"Training score\", color=\"black\")\n",
        "plt.plot(param_range, test_mean, label=\"Cross-validation score\", color=\"dimgrey\")\n",
        "\n",
        "# Plot accurancy bands for training and test sets\n",
        "plt.fill_between(param_range, train_mean - train_std, train_mean + train_std, color=\"gray\")\n",
        "plt.fill_between(param_range, test_mean - test_std, test_mean + test_std, color=\"gainsboro\")\n",
        "\n",
        "# Create plot\n",
        "plt.title(\"Validation Curve With KNN\")\n",
        "plt.xlabel(\"Number Of Neignbors\")\n",
        "plt.ylabel(\"Accuracy Score\")\n",
        "plt.tight_layout()\n",
        "plt.legend(loc=\"best\")\n",
        "plt.show()"
      ]
    },
    {
      "attachments": {},
      "cell_type": "markdown",
      "metadata": {
        "colab_type": "text",
        "id": "XvqlqoL8BVdp"
      },
      "source": [
        "From the validation curve, the model has the highest test accuracy when K=9, therefore we use this model as our KNN model for classification of digits."
      ]
    },
    {
      "cell_type": "code",
      "execution_count": null,
      "metadata": {
        "colab": {
          "base_uri": "https://localhost:8080/",
          "height": 51
        },
        "colab_type": "code",
        "id": "bMbJL20wz_qu",
        "outputId": "9035874c-221f-4b3a-f1d4-6d926c830ad9"
      },
      "outputs": [
        {
          "name": "stdout",
          "output_type": "stream",
          "text": [
            "0.7306201550387597\n",
            "0.8091849935316947\n"
          ]
        }
      ],
      "source": [
        "from sklearn.neighbors import KNeighborsClassifier\n",
        "knn = KNeighborsClassifier(n_neighbors=9)\n",
        "knn.fit(X_train, y_train)\n",
        "\n",
        "y_pred_knn = knn.predict(X_test)\n",
        "\n",
        "knn_score = accuracy_score(y_test, y_pred_knn)\n",
        "print(knn_score)\n",
        "\n",
        "y_pred_knn_train = knn.predict(X_train)\n",
        "knn_train_score = accuracy_score(y_train, y_pred_knn_train)\n",
        "print(knn_train_score)"
      ]
    },
    {
      "attachments": {},
      "cell_type": "markdown",
      "metadata": {
        "colab_type": "text",
        "id": "qNzxDEBz9lTx"
      },
      "source": [
        "#Model 3.1.Convolutional Neural Network\n",
        "It is a network used specifically for image recognition and classification. Below are the four main operations that the model does:\n",
        "<cite data-cite=\"Srivastava, H. (2018, April 25)\">(Srivastava, 2018)</cite>\n",
        "\n",
        "*   Convolution\n",
        "*   Non-Linearity (ReLu)\n",
        "*   Pooling\n",
        "*   Classification \n",
        " \n",
        "\n"
      ]
    },
    {
      "attachments": {},
      "cell_type": "markdown",
      "metadata": {
        "colab_type": "text",
        "id": "EQpWg8oz0V8o"
      },
      "source": [
        "### How does a Convolutional Neural Nework works?\n",
        "\n",
        "![Picture](https://www.cc.gatech.edu/~san37/img/dl/conv.gif)\n",
        "\n",
        "The first step is none other than **Convolution** which is the sliding of the matrix in yellow is to extract the features of the input image. By using small squares of input data, Convolution learns image features and works in coordination with pixels.\n",
        "\n",
        "\\begin{equation*}\n",
        "\\begin{pmatrix}\n",
        "{1} & {0} & {1} \\\\\n",
        "0 &  1 & 0 \\\\\n",
        "1& 0 & 1\n",
        "\\end{pmatrix}\n",
        "\\end{equation*}\n",
        "\n",
        "According to the gif above, the filter is in the form of a $33$x$33$ matrix. The yellow matrix will slide over the green image by 1 pixel each time. For each position, element multiplication will occur between the filter and the green image. The sum of the outputs would be transferred into a new matrix which is labeled as the **Convolved Feature**. After covering every single pixel in the image, the Convolved Feature will be completed. \n",
        "\n",
        "\n",
        "\n",
        "In CNN, several different filters/kernels are consisting of trainable parameters which can convolve on a given image spatially to detect features like edges and shapes. Through backpropagation, these high numbers of filters essentially learn to capture spatial features from the image based on the learned weights. Stacked filter layers can be used at each successive stage to detect complex spatial shapes from the spatial characteristics. Consequently, they can effectively simplify a given image into a highly abstract representation that is easy to predict *(Ramesh, 2018)*.\n",
        "\n",
        "For our first layer, we used 20 independent filters. Hence we will obtain 20 Convolved Feature which would be stacked back to back forming a 3D matrix. The dimension this stack of Convolved features would then be $64$x$64$x$10$.\n",
        "\n",
        "\n",
        "![Picture](https://developers.google.com/machine-learning/practica/image-classification/images/maxpool_animation.gif)\n",
        "\n",
        "The second step is **Pooling**, for our model, we used Maxpooling which is a function that reduces the spatial size of the Convolved Features to reduce the number of parameters and computation in the network. A $22$x$22$ window is placed over the image and it slides along the image by 2 cells. As it covers a region, it takes the largest number in that region and transfers it into a new output matrix *(Udofia, 2019)*.\n",
        "\n",
        "The third step will be the **Dropout** feature, it refers to dropping out units in the neural network. A new hyperparameter is introduced that specifies the probability at which outputs of the layer are dropped out, or inversely, the probability at which outputs of the layer are retained. A common value is a probability of 0.5 for retaining the output of each node in a hidden layer, thus it is a regularization method that ignores 50% of pixels to reduce overfitting *(Srivastava, 2014)*.\n",
        "\n",
        "Between the hidden layers, we perform **batch normalization** to increase speed, performance, and stability by adjusting and scaling the activations. It complements regularization as well to reduce overfitting *(Doukkali, 2018)*. \n",
        "\n",
        "For the Convoluted features, we apply **Zero Padding** which looks like the matrix below: \n",
        "\n",
        "\n",
        "\\begin{equation*}\n",
        "\\begin{pmatrix}\n",
        "0 & 0 & 0 & 0 & 0\\\\\n",
        "{0}&{4} & {3} & {4} & 0\\\\\n",
        "0& 2 &  4 & 3 & 0\\\\\n",
        "0& 2& 3 & 4 & 0 \\\\\n",
        "0 & 0& 0 & 0 & 0\n",
        "\\end{pmatrix}\n",
        "\\end{equation*}\n",
        "\n",
        "It is a process that systematically adds zeroes to the outer layer of the input matrix. It allows the size of the input to be adjusted to our requirements *(Saxena, 2016)*. \n",
        "\n",
        "After **Convolution --> Pooling --> Convolution --> Pooling --> Output Vector**\n",
        "\n",
        "We proceed to **Flatten** the resulting Convolved features and passed it through the fully connected neural network (ANN). \n",
        "\n",
        "Keras provides the SGD class that implements the stochastic gradient descent optimizer with a learning rate and momentum. The default learning rate is 0.01 and no momentum is used by default *(Brownlee, 2019)*.\n",
        "\n",
        "We apply **early stopping** to reduce overfitting. Specifically, in our solution, we included EarlyStopping(monitor='val_accuracy', mode = 'max' patience=3) to define that we wanted to monitor the validation accuracy at each epoch and after the validation accuracy has not improved after three epochs, training is interrupted *(Albon, 2017)*. In max mode, it will stop when the validation accuracy has stopped increasing. \n",
        "\n"
      ]
    },
    {
      "cell_type": "code",
      "execution_count": null,
      "metadata": {
        "colab": {},
        "colab_type": "code",
        "id": "zk1W0q0rK8oU"
      },
      "outputs": [],
      "source": [
        "from keras.models import Sequential\n",
        "from keras.callbacks import ModelCheckpoint, EarlyStopping\n",
        "from keras.utils import to_categorical\n",
        "from keras.layers import Conv2D, BatchNormalization, MaxPooling2D, ZeroPadding2D, Dropout, Flatten, Dense, Activation"
      ]
    },
    {
      "cell_type": "code",
      "execution_count": null,
      "metadata": {
        "colab": {},
        "colab_type": "code",
        "id": "1ZTZkudYLqVF"
      },
      "outputs": [],
      "source": [
        "y_train_cat = to_categorical(y_train)\n",
        "y_test_cat = to_categorical(y_test)"
      ]
    },
    {
      "cell_type": "code",
      "execution_count": null,
      "metadata": {
        "colab": {},
        "colab_type": "code",
        "id": "XCPld3Ib_Qfp"
      },
      "outputs": [],
      "source": [
        "def cnn_model(input_shape):\n",
        "  cnn_model = Sequential()\n",
        "  # Add a layer of convolutional blocks with 10 filters with size 5x5, then perform batch normalization (which helps in regularization) and run the Relu function.\n",
        "  cnn_model.add(Conv2D(10, kernel_size=(5,5), input_shape=input_shape))\n",
        "  cnn_model.add(BatchNormalization(axis=3))\n",
        "  cnn_model.add(Activation('relu'))\n",
        "\n",
        "  # Add a max pooling layer with filter of size 2x2. We perform dropout at 0.5 to reduce overfitting. Zero padding is used to retain the information on the edge of the images.\n",
        "  cnn_model.add(MaxPooling2D(pool_size=(2,2)))\n",
        "  cnn_model.add(Dropout(0.5))\n",
        "  cnn_model.add(ZeroPadding2D(padding=(1,1)))\n",
        "\n",
        "  cnn_model.add(Conv2D(20, kernel_size=(3,3)))\n",
        "  cnn_model.add(BatchNormalization(axis=3))\n",
        "  cnn_model.add(Activation('relu'))\n",
        "\n",
        "  cnn_model.add(MaxPooling2D(pool_size=(2,2)))\n",
        "  cnn_model.add(Dropout(0.5))\n",
        "\n",
        "  cnn_model.add(Conv2D(20, kernel_size=(3,3)))\n",
        "  cnn_model.add(BatchNormalization(axis=3))\n",
        "  cnn_model.add(Activation('relu'))\n",
        "\n",
        "  cnn_model.add(MaxPooling2D(pool_size=(2,2)))\n",
        "  cnn_model.add(Dropout(0.5))\n",
        "\n",
        "  # Unroll the matrix into a vector and pass into the fully connected layer with 10 units to get our predicted class.\n",
        "  cnn_model.add(Flatten())\n",
        "  cnn_model.add(Dense(10, activation=\"softmax\"))\n",
        "\n",
        "  return cnn_model"
      ]
    },
    {
      "cell_type": "code",
      "execution_count": null,
      "metadata": {
        "colab": {
          "base_uri": "https://localhost:8080/",
          "height": 496
        },
        "colab_type": "code",
        "id": "I14ub1uVBZo_",
        "outputId": "2eddeea8-9056-42c3-d3ff-a97642eba37d"
      },
      "outputs": [],
      "source": [
        "image_size = 64\n",
        "cnn_model_main = cnn_model((image_size, image_size, 1))"
      ]
    },
    {
      "cell_type": "code",
      "execution_count": null,
      "metadata": {
        "colab": {
          "base_uri": "https://localhost:8080/",
          "height": 1000
        },
        "colab_type": "code",
        "id": "mtht--GMC0TY",
        "outputId": "39d9a00d-73ee-49de-cd64-bc9c0f6c2569"
      },
      "outputs": [],
      "source": [
        "from keras.optimizers import SGD\n",
        "sgd = SGD(lr=0.01)\n",
        "cnn_model_main.compile(optimizer = sgd, loss = \"categorical_crossentropy\", metrics = [\"accuracy\"])\n",
        "checkpoint_main = ModelCheckpoint(\"main_weights.{epoch:02d}-{val_loss:.2f}.hdf5\", monitor='val_acc', verbose=0, save_best_only=True, save_weights_only=False, mode='auto', period=1)\n",
        "# Stops training when validation accuracy decreases for 3 consecutive epoch.\n",
        "es = EarlyStopping(monitor='val_accuracy', mode='max', patience=3)\n",
        "callbacks_list = [checkpoint_main, es]\n",
        "fitted_cnn_main = cnn_model_main.fit(X_train_new, y=y_train_cat, validation_data=(X_test_new, y_test_cat), epochs = 150, \n",
        "                                     batch_size = 32, callbacks=callbacks_list, shuffle=True)"
      ]
    },
    {
      "cell_type": "code",
      "execution_count": null,
      "metadata": {
        "colab": {},
        "colab_type": "code",
        "id": "D937UZHcRqMH"
      },
      "outputs": [],
      "source": [
        "#show the train-test accuracy depending on the epoch\n",
        "def plot_acc_vs_epoch(fit_history):\n",
        "    plt.plot(fit_history.history['acc'])\n",
        "    plt.plot(fit_history.history['val_acc'])\n",
        "    plt.title('Model accuracy')\n",
        "    plt.ylabel('accuracy')\n",
        "    plt.xlabel('epoch')\n",
        "    plt.yticks([0, 0.2, 0.4, 0.6, 0.8, 1.0])\n",
        "    plt.legend(['train', 'test'], loc='lower right')\n",
        "    plt.show()"
      ]
    },
    {
      "cell_type": "code",
      "execution_count": null,
      "metadata": {
        "colab": {
          "base_uri": "https://localhost:8080/",
          "height": 295
        },
        "colab_type": "code",
        "id": "LyTpWvroRvhu",
        "outputId": "685e4c7f-5947-49aa-98c2-3187a4356c75"
      },
      "outputs": [
        {
          "data": {
            "image/png": "[encoded data removed]",
            "text/plain": [
              "<Figure size 432x288 with 1 Axes>"
            ]
          },
          "metadata": {
            "tags": []
          },
          "output_type": "display_data"
        }
      ],
      "source": [
        "plot_acc_vs_epoch(fitted_cnn_main)"
      ]
    },
    {
      "cell_type": "code",
      "execution_count": null,
      "metadata": {
        "colab": {
          "base_uri": "https://localhost:8080/",
          "height": 34
        },
        "colab_type": "code",
        "id": "85zAWkLJQU0B",
        "outputId": "28fd732d-7bf2-484a-8490-493d49ac9b9e"
      },
      "outputs": [
        {
          "name": "stdout",
          "output_type": "stream",
          "text": [
            "The training accuracy is 0.90 and the validation accuracy is 0.80\n"
          ]
        }
      ],
      "source": [
        "# Extracting the training accuaracy and validation accuracy of the last epoch.\n",
        "training_acc_cnn_main = fitted_cnn_main.history['acc'][-1]\n",
        "validation_acc_cnn_main = fitted_cnn_main.history['val_acc'][-1]\n",
        "print(f'The training accuracy is {training_acc_cnn_main:.2f} and the validation accuracy is {validation_acc_cnn_main:.2f}')"
      ]
    },
    {
      "attachments": {},
      "cell_type": "markdown",
      "metadata": {
        "colab_type": "text",
        "id": "vd3DURAOR2zE"
      },
      "source": [
        "## 3.2. Transfer Learning\n",
        "Another method of classifying images is through the process of transfer learning. In transfer learning, the features and weights from the pretrained models are used to train newer models and even handle problems such as having too little datasets, which is the case for our project. This is in contrast to traditional CNN in which the models are built for specific tasks without considering the current available knowledge. <cite>(Sarkar, 2018)</cite>\n",
        "\n",
        "We will be testing out the following pretrained models available in Keras library:\n",
        "1. VGG16 *(Simonyan & Zisserman, 2014)*\n",
        "2. ResNet50 *(He, Zhang, Ren & Sun, 2016)*\n",
        "3. MobileNet *(Howard et al., 2017)*\n",
        "\n",
        "All the 3 transfer learning models that we used were pre-trained on the ImageNet dataset as part of the ImageNet Large Scale Visual Recognition Challenge in which the goal is to train a model to classify an image into 1000 possible categories. These models were shown to have a strong ability to generalize well to images that are not in the ImageNet dataset by transfer learning *(Rosebrock, 2017)*. \n",
        "\n",
        "VGG16 is known to have **3x3 filters in all the convolution layers** coupled with max pooling which makes it a simple architecture. However, there are 2 drawbacks of VGG16. Firstly, it is slow to train the weights and secondly, the model is over 500MB due to a large number of fully connected nodes and its depth. The first problem is due to the vanishing gradient problem in which the gradients computed via backpropagation are very small, causing the weights update to be slow *(Rosebrock, 2017)*.\n",
        "\n",
        "Resnet50 is a model that utilizes the concept of skip connection to build deeper models. This allows it to overcome the vanishing gradient problem which is prominent in VGG16 and other deeper models. In addition to the usual convolution layers, the **skip connection** was added from the input layer to the output layer *(Rosebrock, 2019)*. This connection performs identity mapping which allows the model to learn an identity function which ensures that the higher layers will learn at least the same ability of the lower layers *(Dwivedi, 2019)*. Rosebrock (2019) also noted that the usage of global average pooling over the fully-connected layers reduced the model size to 102MB as compared to VGG16. The figure below shows the architecture of ResNet50, with the skip connection.\n",
        "\n",
        "![Picture](https://www.pyimagesearch.com/wp-content/uploads/2017/03/imagenet_resnet_residual.png)\n",
        "\n",
        "\n",
        "Mobilenet was introduced by Howard, et.al. (2017) to be used in mobile and embedded vision applications. Mobilenet utilizes the **depthwise separable convolutions** which perform a single convolution on each of the 3 colour channels instead of combining all 3 of them and flattening it. This has the effect of greatly reducing the computation and size of the model as compared to VGG16 and ResNet50 *(Howard, et.al., 2017)*. \n"
      ]
    },
    {
      "cell_type": "code",
      "execution_count": null,
      "metadata": {
        "colab": {},
        "colab_type": "code",
        "id": "Lrwzxu3CWE7N"
      },
      "outputs": [],
      "source": [
        "# For each pre_trained models, it will be flattened and 2 hidden layers, dropout and 1 output layer will be added. \n",
        "# The arguments first and second are the number of units in each hidden layer respectively. The unit in the output layer is represented by num_of_class\n",
        "# The probability of Dropout is represented by dropout_rate \n",
        "def additional_layers(pre_trained_model, first, second, num_of_class, dropout_rate=0):\n",
        "  final_model = Sequential()\n",
        "  final_model.add(pre_trained_model)\n",
        "  final_model.add(Flatten())\n",
        "  final_model.add(Dense(first, activation='relu'))\n",
        "  final_model.add(Dropout(dropout_rate))\n",
        "  final_model.add(Dense(second, activation='relu'))\n",
        "  final_model.add(Dropout(dropout_rate))\n",
        "  final_model.add(Dense(num_of_class, activation='softmax'))\n",
        "\n",
        "  return final_model"
      ]
    },
    {
      "cell_type": "code",
      "execution_count": null,
      "metadata": {
        "colab": {},
        "colab_type": "code",
        "id": "KF0Q0DZRSYnj"
      },
      "outputs": [],
      "source": [
        "# We have to make our images in RGB format.\n",
        "# To do this we replicated each matrix representing the image 3 times.\n",
        "X_train_new_2D = X_train_new.reshape(X_train_new.shape[0], X_train_new.shape[1], X_train_new.shape[2])\n",
        "X_train_rgb = np.repeat(X_train_new_2D[..., np.newaxis], 3, -1)\n",
        "\n",
        "X_test_new_2D = X_test_new.reshape(X_test_new.shape[0], X_test_new.shape[1], X_test_new.shape[2])\n",
        "X_test_rgb = np.repeat(X_test_new_2D[..., np.newaxis], 3, -1)"
      ]
    },
    {
      "attachments": {},
      "cell_type": "markdown",
      "metadata": {
        "colab_type": "text",
        "id": "Tw6wilJkiMXC"
      },
      "source": [
        "###Pre-trained Model 1: VGG16 \n",
        "Let us first try just training the last layer of the pre-trained model. "
      ]
    },
    {
      "cell_type": "code",
      "execution_count": null,
      "metadata": {
        "colab": {
          "base_uri": "https://localhost:8080/",
          "height": 51
        },
        "colab_type": "code",
        "id": "ZEx4Z03KiJc9",
        "outputId": "357479cb-6abc-433c-bc87-9084753141c1"
      },
      "outputs": [
        {
          "name": "stdout",
          "output_type": "stream",
          "text": [
            "Downloading data from https://github.com/fchollet/deep-learning-models/releases/download/v0.1/vgg16_weights_tf_dim_ordering_tf_kernels_notop.h5\n",
            "58892288/58889256 [==============================] - 3s 0us/step\n"
          ]
        }
      ],
      "source": [
        "from keras.applications import VGG16\n",
        "# Fix the input image size\n",
        "image_size=64\n",
        "# Load the VGG model\n",
        "vgg_base = VGG16(weights='imagenet',include_top=False,\n",
        "                 input_shape=(image_size,image_size,3))\n",
        "vgg_base.trainable = False"
      ]
    },
    {
      "cell_type": "code",
      "execution_count": null,
      "metadata": {
        "colab": {},
        "colab_type": "code",
        "id": "v190htA7ifBl"
      },
      "outputs": [],
      "source": [
        "vgg_final = additional_layers(vgg_base, 1024,1024,10,0.5)"
      ]
    },
    {
      "cell_type": "code",
      "execution_count": null,
      "metadata": {
        "colab": {},
        "colab_type": "code",
        "id": "NiLi0RMOijS2"
      },
      "outputs": [],
      "source": [
        "from keras.optimizers import SGD\n",
        "# Compile \n",
        "sgd = SGD(lr=0.01)\n",
        "vgg_final.compile(loss='categorical_crossentropy', optimizer=sgd,    metrics=['accuracy'])\n",
        "#checkpoint = keras.callbacks.ModelCheckpoint(\"Checkpoints/weights.{epoch:02d}-{val_loss:.2f}.hdf5\", monitor='val_loss', verbose=0, save_best_only=False, save_weights_only=False, mode='auto', period=1)"
      ]
    },
    {
      "cell_type": "code",
      "execution_count": null,
      "metadata": {
        "colab": {
          "base_uri": "https://localhost:8080/",
          "height": 1000
        },
        "colab_type": "code",
        "id": "EU0jLcgri26d",
        "outputId": "535b1e6e-957f-41f5-fc89-d08318a2a0fc"
      },
      "outputs": [],
      "source": [
        "# Train\n",
        "#checkpoint_vgg16 = ModelCheckpoint(\"/content/drive/My Drive/Checkpoints/vgg16_weights.{epoch:02d}-{val_loss:.2f}.hdf5\", monitor='val_acc', verbose=0, save_best_only=True, save_weights_only=False, mode='auto', period=1)\n",
        "es = EarlyStopping(monitor='val_accuracy', mode='max', patience=3)\n",
        "callbacks_list = [es]\n",
        "fitted_vgg16 = vgg_final.fit(X_train_rgb, y=y_train_cat, validation_data=(X_test_rgb, y_test_cat), epochs = 150, batch_size = 128, callbacks=callbacks_list, shuffle=True)"
      ]
    },
    {
      "cell_type": "code",
      "execution_count": null,
      "metadata": {
        "colab": {
          "base_uri": "https://localhost:8080/",
          "height": 34
        },
        "colab_type": "code",
        "id": "NlAFUVTnu_Cl",
        "outputId": "7050155a-3d66-47df-9ca1-d3f06c7f96d1"
      },
      "outputs": [
        {
          "name": "stdout",
          "output_type": "stream",
          "text": [
            "The training accuracy is 0.92 and the validation accuracy is 0.87\n"
          ]
        }
      ],
      "source": [
        "# Extracting the training accuaracy and validation accuracy of the last epoch.\n",
        "training_acc_vgg16 = fitted_vgg16.history['acc'][-1]\n",
        "validation_acc_vgg16 = fitted_vgg16.history['val_acc'][-1]\n",
        "print(f'The training accuracy is {training_acc_vgg16:.2f} and the validation accuracy is {validation_acc_vgg16:.2f}')"
      ]
    },
    {
      "attachments": {},
      "cell_type": "markdown",
      "metadata": {
        "colab_type": "text",
        "id": "36MbsVxetFGl"
      },
      "source": [
        "Now let us try unfreezing all layers of the pretrained model and retraining these layers. "
      ]
    },
    {
      "cell_type": "code",
      "execution_count": null,
      "metadata": {
        "colab": {},
        "colab_type": "code",
        "id": "DQoeiK6M6d6U"
      },
      "outputs": [],
      "source": [
        "# Fix the input image size\n",
        "image_size=64\n",
        "# Load the VGG model\n",
        "vgg_base = VGG16(weights='imagenet',include_top=False,\n",
        "                 input_shape=(image_size,image_size,3))\n",
        "vgg_base.trainable = True"
      ]
    },
    {
      "cell_type": "code",
      "execution_count": null,
      "metadata": {
        "colab": {},
        "colab_type": "code",
        "id": "dzA-5v4YWCD-"
      },
      "outputs": [],
      "source": [
        "vgg_final = additional_layers(vgg_base, 1024,1024,10,0.5)"
      ]
    },
    {
      "cell_type": "code",
      "execution_count": null,
      "metadata": {
        "colab": {},
        "colab_type": "code",
        "id": "5UmK4cwH6d6Y"
      },
      "outputs": [],
      "source": [
        "# Compile \n",
        "sgd = SGD(lr=0.01)\n",
        "vgg_final.compile(loss='categorical_crossentropy', optimizer=sgd,    metrics=['accuracy'])\n",
        "#checkpoint = keras.callbacks.ModelCheckpoint(\"Checkpoints/weights.{epoch:02d}-{val_loss:.2f}.hdf5\", monitor='val_loss', verbose=0, save_best_only=False, save_weights_only=False, mode='auto', period=1)"
      ]
    },
    {
      "cell_type": "code",
      "execution_count": null,
      "metadata": {
        "colab": {
          "base_uri": "https://localhost:8080/",
          "height": 1000
        },
        "colab_type": "code",
        "id": "k16xj4eV6d6a",
        "outputId": "68cc145d-ca22-46bd-a8a8-bf889d8a1a14"
      },
      "outputs": [],
      "source": [
        "# Train\n",
        "#checkpoint_vgg16 = ModelCheckpoint(\"/content/drive/My Drive/Checkpoints/vgg16_weights.{epoch:02d}-{val_loss:.2f}.hdf5\", monitor='val_acc', verbose=0, save_best_only=True, save_weights_only=False, mode='auto', period=1)\n",
        "es = EarlyStopping(monitor='val_accuracy', mode='max', patience=3)\n",
        "callbacks_list = [es]\n",
        "fitted_vgg16 = vgg_final.fit(X_train_rgb, y=y_train_cat, validation_data=(X_test_rgb, y_test_cat), epochs = 150, batch_size = 128, callbacks=callbacks_list, shuffle=True)"
      ]
    },
    {
      "cell_type": "code",
      "execution_count": null,
      "metadata": {
        "colab": {
          "base_uri": "https://localhost:8080/",
          "height": 34
        },
        "colab_type": "code",
        "id": "JOIShmHpvSFB",
        "outputId": "b745fbac-d8a2-43e8-c6b2-8ca9e96fc5db"
      },
      "outputs": [
        {
          "name": "stdout",
          "output_type": "stream",
          "text": [
            "The training accuracy is 1.00 and the validation accuracy is 1.00\n"
          ]
        }
      ],
      "source": [
        "# Extracting the training accuaracy and validation accuracy of the last epoch.\n",
        "training_acc_vgg16 = fitted_vgg16.history['acc'][-1]\n",
        "validation_acc_vgg16 = fitted_vgg16.history['val_acc'][-1]\n",
        "print(f'The training accuracy is {training_acc_vgg16:.2f} and the validation accuracy is {validation_acc_vgg16:.2f}')"
      ]
    },
    {
      "attachments": {},
      "cell_type": "markdown",
      "metadata": {
        "colab_type": "text",
        "id": "ai2LThg7tfVo"
      },
      "source": [
        "The training accuracy is 100% and the validation accuracy is 100% after unfreezing all layers and retraining them. This is a lot higher compared to when we just unfreeze the top layer. We suspect this is because our images are greyscale images while pre-trained models are usually trained on RGB images, hence there is perhaps a need to retrain all layers. ResNet50 and MobileNet have this problem (model trained on RGB images) as well, hence going forward, we decide to unfreeze all layers and retrain them. "
      ]
    },
    {
      "cell_type": "code",
      "execution_count": null,
      "metadata": {
        "colab": {
          "base_uri": "https://localhost:8080/",
          "height": 295
        },
        "colab_type": "code",
        "id": "X13TmltSZXf-",
        "outputId": "1e4cb794-dc9b-472d-abd4-a643f31829c4"
      },
      "outputs": [
        {
          "data": {
            "image/png": "[encoded data removed]",
            "text/plain": [
              "<Figure size 432x288 with 1 Axes>"
            ]
          },
          "metadata": {
            "tags": []
          },
          "output_type": "display_data"
        }
      ],
      "source": [
        "plot_acc_vs_epoch(fitted_vgg16)"
      ]
    },
    {
      "attachments": {},
      "cell_type": "markdown",
      "metadata": {
        "colab_type": "text",
        "id": "hF0BKP4zVpEs"
      },
      "source": [
        "###Pre-trained Model 2: MobileNet"
      ]
    },
    {
      "cell_type": "code",
      "execution_count": null,
      "metadata": {
        "colab": {
          "base_uri": "https://localhost:8080/",
          "height": 105
        },
        "colab_type": "code",
        "id": "0prHTRPkaGit",
        "outputId": "5069e7be-1f4a-42ee-a08a-1424ddf5c4fa"
      },
      "outputs": [
        {
          "name": "stderr",
          "output_type": "stream",
          "text": [
            "/usr/local/lib/python3.6/dist-packages/keras_applications/mobilenet.py:207: UserWarning: `input_shape` is undefined or non-square, or `rows` is not in [128, 160, 192, 224]. Weights for input shape (224, 224) will be loaded as the default.\n",
            "  warnings.warn('`input_shape` is undefined or non-square, '\n"
          ]
        },
        {
          "name": "stdout",
          "output_type": "stream",
          "text": [
            "Downloading data from https://github.com/fchollet/deep-learning-models/releases/download/v0.6/mobilenet_1_0_224_tf_no_top.h5\n",
            "17227776/17225924 [==============================] - 1s 0us/step\n"
          ]
        }
      ],
      "source": [
        "from keras.applications.mobilenet import MobileNet\n",
        "# to fix the input image size\n",
        "image_size=64\n",
        "# Load the VGG model\n",
        "mobile_base = MobileNet(include_top=False,\n",
        "                 input_shape=(image_size,image_size,3))\n",
        "mobile_base.trainable = True\n",
        "\n",
        "mobile_final = additional_layers(mobile_base, 1024,1024,10,0.5)\n",
        "\n",
        "sgd = SGD(lr=0.01)\n",
        "mobile_final.compile(loss='categorical_crossentropy', optimizer=sgd, metrics=['accuracy']) #optmizer can change to adam also\n"
      ]
    },
    {
      "cell_type": "code",
      "execution_count": null,
      "metadata": {
        "colab": {
          "base_uri": "https://localhost:8080/",
          "height": 1000
        },
        "colab_type": "code",
        "id": "BG_6E3WdarQA",
        "outputId": "c4eae327-c770-4025-af0b-d06d5b08dc91"
      },
      "outputs": [],
      "source": [
        "#checkpoint_mobilenet = ModelCheckpoint(\"/content/drive/My Drive/Checkpoints/mobile_weights.{epoch:02d}-{val_loss:.2f}.hdf5\", monitor='val_acc', verbose=0, save_best_only=True, save_weights_only=False, mode='auto', period=1)\n",
        "es = EarlyStopping(monitor='val_accuracy', mode='max', patience=3)\n",
        "callbacks_list = [es]\n",
        "fitted_mobile = mobile_final.fit(X_train_rgb, y=y_train_cat, validation_data=(X_test_rgb, y_test_cat), epochs = 150, batch_size = 32, callbacks=callbacks_list, shuffle=True)"
      ]
    },
    {
      "cell_type": "code",
      "execution_count": null,
      "metadata": {
        "colab": {
          "base_uri": "https://localhost:8080/",
          "height": 295
        },
        "colab_type": "code",
        "id": "MWbHfs4Eaukt",
        "outputId": "fb7a3d88-ef8e-42a4-8224-510405bca815"
      },
      "outputs": [
        {
          "data": {
            "image/png": "[encoded data removed]",
            "text/plain": [
              "<Figure size 432x288 with 1 Axes>"
            ]
          },
          "metadata": {
            "tags": []
          },
          "output_type": "display_data"
        }
      ],
      "source": [
        "plot_acc_vs_epoch(fitted_mobile)"
      ]
    },
    {
      "cell_type": "code",
      "execution_count": null,
      "metadata": {
        "colab": {
          "base_uri": "https://localhost:8080/",
          "height": 34
        },
        "colab_type": "code",
        "id": "Mz3uT6fEbXsm",
        "outputId": "74d90099-57b2-4f4a-edf3-2b9e91942e7f"
      },
      "outputs": [
        {
          "name": "stdout",
          "output_type": "stream",
          "text": [
            "The training accuracy is 1.00 and the validation accuracy is 1.00\n"
          ]
        }
      ],
      "source": [
        "training_acc_mobile = fitted_mobile.history['acc'][-1]\n",
        "validation_acc_mobile = fitted_mobile.history['val_acc'][-1]\n",
        "print(f'The training accuracy is {training_acc_mobile:.2f} and the validation accuracy is {validation_acc_mobile:.2f}')"
      ]
    },
    {
      "attachments": {},
      "cell_type": "markdown",
      "metadata": {
        "colab_type": "text",
        "id": "b8yeF6n4Hjfb"
      },
      "source": [
        "###Pre-trained Model 3: ResNet50"
      ]
    },
    {
      "cell_type": "code",
      "execution_count": null,
      "metadata": {
        "colab": {
          "base_uri": "https://localhost:8080/",
          "height": 51
        },
        "colab_type": "code",
        "id": "_TZ61kLMbm-Q",
        "outputId": "bdc81315-7ae2-4499-973c-32bac6987016"
      },
      "outputs": [
        {
          "name": "stdout",
          "output_type": "stream",
          "text": [
            "Downloading data from https://github.com/keras-team/keras-applications/releases/download/resnet/resnet50_weights_tf_dim_ordering_tf_kernels_notop.h5\n",
            "94773248/94765736 [==============================] - 4s 0us/step\n"
          ]
        }
      ],
      "source": [
        "from keras.applications.resnet import ResNet50\n",
        "image_size=64\n",
        "resnet50_base = ResNet50(include_top=False, input_shape=(image_size,image_size,3)) # Remove the first 3 fully connected layers from the pre-trained model.\n",
        "for layer in resnet50_base.layers:\n",
        "\tlayer.trainable = True\n",
        "\n",
        "resnet50_final = additional_layers(resnet50_base, 1024,1024,10,0.5)\n",
        "\n",
        "sgd = SGD(lr=0.01)\n",
        "resnet50_final.compile(loss='categorical_crossentropy', optimizer=sgd, metrics=['accuracy']) #optmizer can change to adam also"
      ]
    },
    {
      "cell_type": "code",
      "execution_count": null,
      "metadata": {
        "colab": {
          "base_uri": "https://localhost:8080/",
          "height": 1000
        },
        "colab_type": "code",
        "id": "4Aieh5_TcS2I",
        "outputId": "1e92455a-e3ab-429d-e9a4-566ba1aa5799"
      },
      "outputs": [],
      "source": [
        "#checkpoint_resnet50 = ModelCheckpoint(\"/content/drive/My Drive/Checkpoints/resnet50_weights.{epoch:02d}-{val_loss:.2f}.hdf5\", monitor='val_acc', verbose=0, save_best_only=True, save_weights_only=False, mode='auto', period=1)\n",
        "es = EarlyStopping(monitor='val_accuracy', mode='max', patience=3)\n",
        "callbacks_list = [es]\n",
        "fitted_resnet50 = resnet50_final.fit(X_train_rgb, y=y_train_cat, validation_data=(X_test_rgb, y_test_cat), epochs = 150, batch_size = 32, callbacks=callbacks_list, shuffle=True)"
      ]
    },
    {
      "cell_type": "code",
      "execution_count": null,
      "metadata": {
        "colab": {
          "base_uri": "https://localhost:8080/",
          "height": 295
        },
        "colab_type": "code",
        "id": "IWBeA0ULcpc-",
        "outputId": "70fd7cfc-7144-40b1-cfe9-6e2280c3badb"
      },
      "outputs": [
        {
          "data": {
            "image/png": "[encoded data removed]",
            "text/plain": [
              "<Figure size 432x288 with 1 Axes>"
            ]
          },
          "metadata": {
            "tags": []
          },
          "output_type": "display_data"
        }
      ],
      "source": [
        "plot_acc_vs_epoch(fitted_resnet50)"
      ]
    },
    {
      "cell_type": "code",
      "execution_count": null,
      "metadata": {
        "colab": {
          "base_uri": "https://localhost:8080/",
          "height": 34
        },
        "colab_type": "code",
        "id": "2NfM4xSgcthR",
        "outputId": "3abd50cd-25d8-48df-f4db-3ccb4b72e037"
      },
      "outputs": [
        {
          "name": "stdout",
          "output_type": "stream",
          "text": [
            "The training accuracy is 1.00 and the validation accuracy is 1.00\n"
          ]
        }
      ],
      "source": [
        "# Extracting the training accuaracy and validation accuracy of the last epoch.\n",
        "training_acc_resnet50 = fitted_resnet50.history['acc'][-1]\n",
        "validation_acc_resnet50 = fitted_resnet50.history['val_acc'][-1]\n",
        "print(f'The training accuracy is {training_acc_resnet50:.2f} and the validation accuracy is {validation_acc_resnet50:.2f}')"
      ]
    },
    {
      "attachments": {},
      "cell_type": "markdown",
      "metadata": {
        "colab_type": "text",
        "id": "zt3xLIlHZQHf"
      },
      "source": [
        "#Model 4. Gradient Boosting\n",
        "\n",
        "Gradient boosting, which is an **ensemble** model that creates a strong classifier from several weak classifiers, relies on the fact that the best possible next model, when combined with the previous models, minimizes the overall prediction error. \n",
        "The key idea here is to set the target outcomes for this next model to minimize the error. The target outcomes for each case are set based on the gradient of the error concerning the prediction. Each new model will take a step in the direction that minimizes the prediction error, in the space of possible predictions for each training case.\n",
        "\n",
        "There are three elements in Gradient Boosting (*Brownlee, 2019*):\n",
        "- Loss function\n",
        "- Weak learner\n",
        "- Additive model\n",
        "\n",
        "Gradient boosting identifies shortcomings by using gradients in the loss function. The loss function is a measure to indicate how good are the model’s coefficients at fitting the underlying data. The loss function will depend on what we are trying to optimize. \n",
        "\n",
        "Decision trees are used as the weak learner in gradient boosting. \n",
        "\n",
        "For the in built gradient boosting model, the loss function to be optimized is the 'deviance'. The learning rate by default is 0.01\n",
        "\n",
        "Loss function *(Holmes, 2002)*:\n",
        "\\begin{equation*}\n",
        "D_{i} = -2\\sum_{k}n_{ik}log(p_{ik})\n",
        "\\end{equation*}\n",
        "\n",
        "For the $k$ - component of the gradient *(Hastie, 2009)*:\n",
        "\\begin{equation*}\n",
        "  -\\frac{\\partial L(y_{i}, f(x_{i}))}{\\partial f(x_{i})} = I(y_{i} = G_{k}) - p_{k}(x_{i})\n",
        "\\end{equation*}\n",
        "\n",
        "For tree parametrization we use the default settings in the in built model. \n",
        "\n",
        "There are a few ways in which Gradient Boosting deals with over-fitting. One such way is to control the tree depth. Tree depth controls the depth of the individual trees. Smaller depth trees are computationally efficient but require more trees, whereas higher depth trees allow the algorithm to take note of unique interations but it increases the risk of over-fitting. (*Greenwell, 2019*) \n",
        "\n",
        "However, based from our validation curve, we decided to tune the max_depth to 2, even though the default max_depth is 3. **Cross-validation** allows us to tune hyperparameters (max depth) to reduce over-fitting.\n",
        "The remaining tree parameters are as follows : \n",
        "\n",
        "max_features=None, </br>max_leaf_nodes=None, </br>\n",
        "min_impurity_decrease=0.0, </br>\n",
        "min_impurity_split=None, </br>\n",
        "min_samples_leaf=1, </br> min_samples_split=2, </br>\n",
        "min_weight_fraction_leaf=0.0 </br>\n",
        "\n",
        "Trees are added one at a time, and existing trees in the model are not changed. A gradient descent procedure will be used to minimize the loss when trees are being added. After calculating the loss, we add a tree to the model that reduces the loss (ie. follow the gradient). We can do this by parameterizing the tree and then modify the parameters of the tree and move in the direction that reduces the residual loss. \n",
        "\n",
        "The output for the new tree is then added to the output of the existing sequence of trees to improve the final output of the model. \n",
        "\n",
        "A fixed number of trees are added or training will stop once the loss reaches an acceptable level or it no longer improves on an external validation dataset. \n",
        "\n",
        "Gradient boosting trains many models in an additive and sequential manner. \n",
        "\n",
        "\n",
        "Illustration of Gradient Boost (*Zhang, Mayer & Dauvilliers, 2018*):\n",
        "\n",
        "![Picture](https://www.researchgate.net/profile/Maria_Peraita-Adrados/publication/326379229/figure/fig5/AS:647978477948928@1531501516288/A-simple-example-of-visualizing-gradient-boosting.png)\n",
        "\n",
        "## Comparing Gradient Boost and Random Forest\n",
        "\n",
        "The difference between Gradient Boosting and Random Forest can be seen as follows in the given table (*Grover, 2019*):\n",
        "\n",
        "![Picture](https://drive.google.com/uc?id=1kWbpkUVHZ-zIJ4D721OmLj59ylGvHeHu)\n",
        "\n",
        "The two main differences between Random Forest and Gradient Boosting are:\n",
        "\n",
        "How trees are built: Random Forests builds each tree independently while Gradient Boosting builds one tree at a time. This additive model (ensemble) works in a forward stage-wise manner, introducing a weak learner to improve the shortcomings of existing weak learners. \n",
        "\n",
        "Combining results: Random Forests combine results at the end of the process (by averaging or \"majority rules\") while Gradient Boosting combines results along the way.\n"
      ]
    },
    {
      "cell_type": "code",
      "execution_count": null,
      "metadata": {
        "colab": {},
        "colab_type": "code",
        "id": "UosUi0NIpy99"
      },
      "outputs": [],
      "source": [
        "# This function calls the validation_curve functions and plots out the curve.\n",
        "from sklearn.model_selection import validation_curve\n",
        "def plot_validation_curve(my_classifier, X, y, param_name, param_range, cv, title, X_label, y_label):\n",
        "  # Calculate accuracy on training and test set using range of parameter values\n",
        "  train_scores, test_scores = validation_curve(my_classifier, \n",
        "                                              X = X, \n",
        "                                              y = y, \n",
        "                                              param_name = param_name, \n",
        "                                              param_range = param_range,\n",
        "                                              cv = cv, \n",
        "                                              scoring = \"accuracy\", \n",
        "                                              n_jobs = -1)\n",
        "\n",
        "\n",
        "  # Calculate mean and standard deviation for training set scores\n",
        "  train_mean = np.mean(train_scores, axis=1)\n",
        "  train_std = np.std(train_scores, axis=1)\n",
        "\n",
        "  # Calculate mean and standard deviation for test set scores\n",
        "  test_mean = np.mean(test_scores, axis=1)\n",
        "  test_std = np.std(test_scores, axis=1)\n",
        "\n",
        "  # Plot mean accuracy scores for training and test sets\n",
        "  plt.plot(param_range, train_mean, label=\"Training score\", color=\"black\")\n",
        "  plt.plot(param_range, test_mean, label=\"Cross-validation score\", color=\"dimgrey\")\n",
        "\n",
        "  # Plot accurancy bands for training and test sets\n",
        "  plt.fill_between(param_range, train_mean - train_std, train_mean + train_std, color=\"gray\")\n",
        "  plt.fill_between(param_range, test_mean - test_std, test_mean + test_std, color=\"gainsboro\")\n",
        "\n",
        "  # Create plot\n",
        "  plt.title(title)\n",
        "  plt.xlabel(X_label)\n",
        "  plt.ylabel(y_label)\n",
        "  plt.tight_layout()\n",
        "  plt.legend(loc=\"best\")\n",
        "  plt.show()"
      ]
    },
    {
      "attachments": {},
      "cell_type": "markdown",
      "metadata": {
        "colab_type": "text",
        "id": "E74VZVOKdWjm"
      },
      "source": [
        "#### We fit a random forest classifier and compare it with Gradient Boost model.\n",
        "We use 3-fold cross vaildation to select the max depth to prevent over-fitting."
      ]
    },
    {
      "cell_type": "code",
      "execution_count": null,
      "metadata": {
        "colab": {
          "base_uri": "https://localhost:8080/",
          "height": 297
        },
        "colab_type": "code",
        "id": "-I1iOX_ytDR4",
        "outputId": "e33fc92a-d991-4daa-961e-a1a0e478d633"
      },
      "outputs": [
        {
          "data": {
            "image/png": "[encoded data removed]",
            "text/plain": [
              "<Figure size 432x288 with 1 Axes>"
            ]
          },
          "metadata": {
            "tags": []
          },
          "output_type": "display_data"
        }
      ],
      "source": [
        "from sklearn.ensemble import RandomForestClassifier\n",
        "plot_validation_curve(RandomForestClassifier(n_estimators=10, random_state=0),\n",
        "                      X=data_reshaped_new, \n",
        "                      y=y_reshaped, \n",
        "                      param_name='max_depth', \n",
        "                      param_range=range(1,10),\n",
        "                      cv=3,\n",
        "                      title = 'Validation Curve With Random Forest',\n",
        "                      X_label = 'Max_Depth',\n",
        "                      y_label = 'Accuracy Score')"
      ]
    },
    {
      "cell_type": "code",
      "execution_count": null,
      "metadata": {
        "colab": {
          "base_uri": "https://localhost:8080/",
          "height": 136
        },
        "colab_type": "code",
        "id": "VIF7dRnJmVAL",
        "outputId": "5626fd55-571e-4c9c-ef4b-f5c21b58b32f"
      },
      "outputs": [
        {
          "data": {
            "text/plain": [
              "RandomForestClassifier(bootstrap=True, class_weight=None, criterion='gini',\n",
              "                       max_depth=5, max_features='auto', max_leaf_nodes=None,\n",
              "                       min_impurity_decrease=0.0, min_impurity_split=None,\n",
              "                       min_samples_leaf=1, min_samples_split=2,\n",
              "                       min_weight_fraction_leaf=0.0, n_estimators=10,\n",
              "                       n_jobs=None, oob_score=False, random_state=None,\n",
              "                       verbose=0, warm_start=False)"
            ]
          },
          "execution_count": 48,
          "metadata": {
            "tags": []
          },
          "output_type": "execute_result"
        }
      ],
      "source": [
        "random_clf = RandomForestClassifier(n_estimators=10, max_depth=5)\n",
        "random_clf.fit(X_train, y_train)"
      ]
    },
    {
      "cell_type": "code",
      "execution_count": null,
      "metadata": {
        "colab": {
          "base_uri": "https://localhost:8080/",
          "height": 34
        },
        "colab_type": "code",
        "id": "mtFB9LWFntPL",
        "outputId": "0dd12278-69b9-4735-e0d6-3bf1f8a4f8dd"
      },
      "outputs": [
        {
          "name": "stdout",
          "output_type": "stream",
          "text": [
            "The training accuracy is 0.62 and the validation accuracy is 0.62\n"
          ]
        }
      ],
      "source": [
        "y_train_pred_random = random_clf.predict(X_train)\n",
        "y_test_pred_random = random_clf.predict(X_test)\n",
        "\n",
        "from sklearn.metrics import accuracy_score\n",
        "training_acc_RF = accuracy_score(y_train, y_train_pred_random)\n",
        "validation_acc_RF = accuracy_score(y_test, y_test_pred_random)\n",
        "\n",
        "print(f'The training accuracy is {training_acc_RF:.2f} and the validation accuracy is {validation_acc_RF:.2f}')"
      ]
    },
    {
      "attachments": {},
      "cell_type": "markdown",
      "metadata": {
        "colab_type": "text",
        "id": "Akyb4I6-d3wd"
      },
      "source": [
        "###Now we fit the Gradient Boost model.\n",
        "We use 3-fold cross vaildation to select the max depth to prevent over-fitting.\n",
        "\n"
      ]
    },
    {
      "cell_type": "code",
      "execution_count": null,
      "metadata": {
        "colab": {
          "base_uri": "https://localhost:8080/",
          "height": 297
        },
        "colab_type": "code",
        "id": "cflCmHAiefWD",
        "outputId": "c8e53931-1a0f-4e27-9470-705fd811596c"
      },
      "outputs": [
        {
          "data": {
            "image/png": "[encoded data removed]",
            "text/plain": [
              "<Figure size 432x288 with 1 Axes>"
            ]
          },
          "metadata": {
            "tags": []
          },
          "output_type": "display_data"
        }
      ],
      "source": [
        "from sklearn.ensemble import GradientBoostingClassifier\n",
        "plot_validation_curve(GradientBoostingClassifier(),\n",
        "                      X=data_reshaped_new, \n",
        "                      y=y_reshaped, \n",
        "                      param_name='max_depth', \n",
        "                      param_range=range(1,5),\n",
        "                      cv=3,\n",
        "                      title='Validation Curve with Gradient Boost',\n",
        "                      X_label='Max_Depth',\n",
        "                      y_label='Accuarcy Score')"
      ]
    },
    {
      "cell_type": "code",
      "execution_count": null,
      "metadata": {
        "colab": {
          "base_uri": "https://localhost:8080/",
          "height": 187
        },
        "colab_type": "code",
        "id": "otC1ZCZBm9-k",
        "outputId": "f9149fc6-4bde-4fbb-9f83-787b07eae25d"
      },
      "outputs": [
        {
          "data": {
            "text/plain": [
              "GradientBoostingClassifier(criterion='friedman_mse', init=None,\n",
              "                           learning_rate=0.1, loss='deviance', max_depth=2,\n",
              "                           max_features=None, max_leaf_nodes=None,\n",
              "                           min_impurity_decrease=0.0, min_impurity_split=None,\n",
              "                           min_samples_leaf=1, min_samples_split=2,\n",
              "                           min_weight_fraction_leaf=0.0, n_estimators=100,\n",
              "                           n_iter_no_change=None, presort='auto',\n",
              "                           random_state=None, subsample=1.0, tol=0.0001,\n",
              "                           validation_fraction=0.1, verbose=0,\n",
              "                           warm_start=False)"
            ]
          },
          "execution_count": 52,
          "metadata": {
            "tags": []
          },
          "output_type": "execute_result"
        }
      ],
      "source": [
        "gb_clf = GradientBoostingClassifier(max_depth=2)\n",
        "gb_clf.fit(X_train, y_train)"
      ]
    },
    {
      "cell_type": "code",
      "execution_count": null,
      "metadata": {
        "colab": {
          "base_uri": "https://localhost:8080/",
          "height": 34
        },
        "colab_type": "code",
        "id": "0q7JSqjOnU9-",
        "outputId": "ecdeae33-94f2-43a1-d9ca-fe8648c98e25"
      },
      "outputs": [
        {
          "name": "stdout",
          "output_type": "stream",
          "text": [
            "The training accuracy is 0.96 and the validation accuracy is 0.72\n"
          ]
        }
      ],
      "source": [
        "y_train_predgb = gb_clf.predict(X_train)\n",
        "y_test_predgb = gb_clf.predict(X_test)\n",
        "\n",
        "from sklearn.metrics import accuracy_score\n",
        "training_acc_boost = accuracy_score(y_train, y_train_predgb)\n",
        "validation_acc_boost = accuracy_score(y_test, y_test_predgb)\n",
        "\n",
        "print(f'The training accuracy is {training_acc_boost:.2f} and the validation accuracy is {validation_acc_boost:.2f}')"
      ]
    },
    {
      "attachments": {},
      "cell_type": "markdown",
      "metadata": {
        "colab_type": "text",
        "id": "JfK1gzAbQYIM"
      },
      "source": [
        "###Comparing the performance of the newly fitted CNN and the 3 pre-trained models"
      ]
    },
    {
      "cell_type": "code",
      "execution_count": null,
      "metadata": {
        "colab": {},
        "colab_type": "code",
        "id": "lO8NALBdc04l"
      },
      "outputs": [],
      "source": [
        "import pandas as pd\n",
        "model_name = ['Logistic Regression', 'KNN','New CNN','VGG16', 'MobileNet','ResNet50', 'Random Forest', 'Gradient Boosting']\n",
        "training_accuracy = np.array([train_log_score, knn_train_score, training_acc_cnn_main,training_acc_vgg16, training_acc_mobile, training_acc_resnet50, training_acc_RF, training_acc_boost])\n",
        "validation_accuracy = np.array([logit_score, knn_score, validation_acc_cnn_main,validation_acc_vgg16, validation_acc_mobile, validation_acc_resnet50, validation_acc_RF, validation_acc_boost])\n",
        "\n",
        "training_validation_accuracy = np.vstack((training_accuracy, validation_accuracy)) # Stack the 2 arrays vertically\n",
        "summary_accuracy = pd.DataFrame(data = training_validation_accuracy, index = ['Training Accuracy', 'Validation Accuracy'], columns = model_name)\n"
      ]
    },
    {
      "cell_type": "code",
      "execution_count": null,
      "metadata": {
        "colab": {
          "base_uri": "https://localhost:8080/",
          "height": 111
        },
        "colab_type": "code",
        "id": "_CtKCwJNCX5D",
        "outputId": "a6d50782-be53-4ee1-f8e6-a286e1aeec68"
      },
      "outputs": [
        {
          "data": {
            "text/html": [
              "<div>\n",
              "<style scoped>\n",
              "    .dataframe tbody tr th:only-of-type {\n",
              "        vertical-align: middle;\n",
              "    }\n",
              "\n",
              "    .dataframe tbody tr th {\n",
              "        vertical-align: top;\n",
              "    }\n",
              "\n",
              "    .dataframe thead th {\n",
              "        text-align: right;\n",
              "    }\n",
              "</style>\n",
              "<table border=\"1\" class=\"dataframe\">\n",
              "  <thead>\n",
              "    <tr style=\"text-align: right;\">\n",
              "      <th></th>\n",
              "      <th>Logistic Regression</th>\n",
              "      <th>KNN</th>\n",
              "      <th>New CNN</th>\n",
              "      <th>VGG16</th>\n",
              "      <th>MobileNet</th>\n",
              "      <th>ResNet50</th>\n",
              "      <th>Random Forest</th>\n",
              "      <th>Gradient Boosting</th>\n",
              "    </tr>\n",
              "  </thead>\n",
              "  <tbody>\n",
              "    <tr>\n",
              "      <th>Training Accuracy</th>\n",
              "      <td>0.970893</td>\n",
              "      <td>0.809185</td>\n",
              "      <td>0.901035</td>\n",
              "      <td>1.000000</td>\n",
              "      <td>0.999677</td>\n",
              "      <td>1.000000</td>\n",
              "      <td>0.622898</td>\n",
              "      <td>0.956339</td>\n",
              "    </tr>\n",
              "    <tr>\n",
              "      <th>Validation Accuracy</th>\n",
              "      <td>0.715116</td>\n",
              "      <td>0.730620</td>\n",
              "      <td>0.800388</td>\n",
              "      <td>0.996124</td>\n",
              "      <td>0.998062</td>\n",
              "      <td>0.998062</td>\n",
              "      <td>0.616279</td>\n",
              "      <td>0.715116</td>\n",
              "    </tr>\n",
              "  </tbody>\n",
              "</table>\n",
              "</div>"
            ],
            "text/plain": [
              "                     Logistic Regression  ...  Gradient Boosting\n",
              "Training Accuracy               0.970893  ...           0.956339\n",
              "Validation Accuracy             0.715116  ...           0.715116\n",
              "\n",
              "[2 rows x 8 columns]"
            ]
          },
          "execution_count": 55,
          "metadata": {
            "tags": []
          },
          "output_type": "execute_result"
        }
      ],
      "source": [
        "summary_accuracy"
      ]
    },
    {
      "attachments": {},
      "cell_type": "markdown",
      "metadata": {
        "colab_type": "text",
        "id": "LkI9pHXiDxTt"
      },
      "source": [
        "From the above results, there seems to be a problem of overfitting in both logistic regression and gradient boosting models, judging from how the training accuracy greatly exceeds the validation accuracy. This is to be expected for both models. Logistic regression tend to overfit when there are many features for the model, and in our case, each of the pixels of the image is considered to be an individual features, hence for the logistic model, we will have 64*64 = 4096 features which will lead to overfitting issues. For gradient boosting models, it is mentioned above that it is prone to overfitting, hence the result is no surprise. \n",
        "\n",
        "Also, in line with our expectations, CNN models performed the best, especially the transfer learning models. This may be because our dataset is relatively small hence it will perform much better on transfer learning models as they are already trained on a large data set compared to the CNN we trained from scratch. "
      ]
    },
    {
      "attachments": {},
      "cell_type": "markdown",
      "metadata": {
        "colab_type": "text",
        "id": "tFWjX1uerPzT"
      },
      "source": [
        "# Conclusion \n",
        "We have shown that it is possible to train a model to successfully recognize digits of sign language, and we believe this can be extrapolated to other areas of sign languages as well, such as alphabets or even words. This is significant because it can potentially bridge the gap between people who do not know sign language and people who can only communicate in sign languages. We hope that further research can be done in this area.  "
      ]
    },
    {
      "attachments": {},
      "cell_type": "markdown",
      "metadata": {
        "colab_type": "text",
        "id": "t7v1exH_Aebe"
      },
      "source": [
        "# References\n",
        "Albon, C. (2017, December 20). Neural Network Early Stopping. Retrieved from https://chrisalbon.com/deep_learning/keras/neural_network_early_stopping/\n",
        "\n",
        "Brownlee, J. (2019). A Gentle Introduction to the Gradient Boosting Algorithm for Machine Learning. [online] Machine Learning Mastery. Available at: https://machinelearningmastery.com/gentle-introduction-gradient-boosting-algorithm-machine-learning/ [Accessed 17 Nov. 2019].\n",
        "\n",
        "Brownlee, J. (2019, October 3). Understand the Impact of Learning Rate on Neural Network Performance. Retrieved from https://machinelearningmastery.com/understand-the-dynamics-of-learning-rate-on-deep-learning-neural-networks/\n",
        "\n",
        "Chris, O. (2015, February 11). 5 Ways Sign Language Benefits the Hearing: How ASL Improves Communication. Retrieved from https://www.speechbuddy.com/blog/language-development/5-ways-sign-language-benefits-the-hearing/\n",
        "\n",
        "Culfaz, F. (2018). Transfer Learning using Mobilenet and Keras. Retrieved from: https://towardsdatascience.com/transfer-learning-using-mobilenet-and-keras-c75daf7ff299\n",
        "\n",
        "Doukkali, F. (2018, June). Batch Normalization in Neural Networks. Retrieved from: https://www.kdnuggets.com/2018/06/batch-normalization-neural-networks.html\n",
        "\n",
        "Dwidevi, P. (2019). Understanding and Coding a ResNet in Keras. Retrieved from:https://towardsdatascience.com/understanding-and-coding-a-resnet-in-keras-446d7ff84d33\n",
        "\n",
        "Goy, P. (2017, February 2). Building bridges with sign language. Retrieved from https://www.straitstimes.com/singapore/building-bridges-with-sign-language.\n",
        "\n",
        "Greenwell, B. (2019, October 19). Hands-On Machine Learning with R. Retrieved from https://bradleyboehmke.github.io/HOML/gbm.html#ref-esl.\n",
        "\n",
        "Grover, P. (2019, August 1). Gradient Boosting from scratch. Retrieved from https://medium.com/mlreview/gradient-boosting-from-scratch-1e317ae4587d\n",
        "\n",
        "Hastie, T., Tibshirani, R., & Friedman, J. (2009). Boosting and additive trees. In The elements of statistical learning (pp. 337-387). Springer, New York, NY. https://www.stat.auckland.ac.nz/~yee/784/files/ch10BoostingAdditiveTrees.pdf\n",
        "\n",
        "He, K., Zhang, X., Ren, S., & Sun, J. (2016). Deep residual learning for image recognition. In Proceedings of the IEEE conference on computer vision and pattern recognition (pp. 770-778). Retrieved from: https://arxiv.org/pdf/1512.03385.pdf\n",
        "\n",
        "Holmes, S. (2002, January 12). Classification trees. Retrieved from http://statweb.stanford.edu/~susan/courses/b494/index/node45.html\n",
        "\n",
        "Howard, A. G., Zhu, M., Chen, B., Kalenichenko, D., Wang, W., Weyand, T., Andreetto, M. & Adam, H. (2017). Mobilenets: Efficient convolutional neural networks for mobile vision applications. arXiv preprint arXiv:1704.04861. Retrieved from: https://arxiv.org/pdf/1704.04861.pdf\n",
        "\n",
        "National Aphasia Association. (2017, August 13). Sign Language and Aphasia. Retrieved from https://www.aphasia.org/stories/sign-language-aphasia/\n",
        "\n",
        "Ramesh, S. (2018, May 26). A guide to an efficient way to build neural network architectures- Part II: Hyper-parameter? Retrieved from https://towardsdatascience.com/a-guide-to-an-efficient-way-to-build-neural-network-architectures-part-ii-hyper-parameter-42efca01e5d7\n",
        "\n",
        "Rogers, K. (2018, March 27). Augmented Reality App Can Translate Sign Language Into Spoken English, and Vice Versa. Retrieved from https://www.vice.com/en_us/article/zmgnd9/app-to-translate-sign-language.\n",
        "\n",
        "Rosebrock, A. (2017). ImageNet: VGGNet, ResNet, Inception, and Xception with Keras. Retrieved from https://www.pyimagesearch.com/2017/03/20/imagenet-vggnet-resnet-inception-xception-keras/\n",
        "\n",
        "Sarkar, D. (2018, November 17). A Comprehensive Hands-on Guide to Transfer Learning with Real-World Applications in Deep Learning. Retrieved from https://towardsdatascience.com/a-comprehensive-hands-on-guide-to-transfer-learning-with-real-world-applications-in-deep-learning-212bf3b2f27a\n",
        "\n",
        "Saxena, A. (2016, June 29). Convolutional Neural Networks (CNNs): An Illustrated Explanation. Retrieved from https://blog.xrds.acm.org/2016/06/convolutional-neural-networks-cnns-illustrated-explanation/\n",
        "\n",
        "Simonyan, K., & Zisserman, A. (2014). Very deep convolutional networks for large-scale image recognition. arXiv preprint arXiv:1409.1556. Retrieved from: http://www.robots.ox.ac.uk/~vgg/publications/2015/Simonyan15/simonyan15.pdf\n",
        "\n",
        "Snook, M. (2018, November 13). Why hearing aids and sign language are a happy pair. Retrieved from https://www.hearinglikeme.com/why-hearing-aids-and-sign-language-are-a-happy-pair/\n",
        "\n",
        "Srivastava, H. (2018, April 25). Convolutional Neural Networks Explained. Retrieved from https://magoosh.com/data-science/convolutional-neural-networks-explained/.\n",
        "\n",
        "Srivastava, N., Hinton, G., Krizhevsky, A., Sutskever, I., & Salakhutdinov, R. (2014). Dropout: a simple way to prevent neural networks from overfitting. The journal of machine learning research, 15(1), 1929-1958. http://jmlr.org/papers/v15/srivastava14a.html\n",
        "\n",
        "Teng, A. (2017, September 16). Mayflower Primary to take in deaf pupils. Retrieved from https://www.straitstimes.com/singapore/education/mayflower-primary-to-take-in-deaf-pupils.\n",
        "\n",
        "Udofia, U. (2019, September 20). Basic Overview of Convolutional Neural Network (CNN). Retrieved from https://medium.com/dataseries/basic-overview-of-convolutional-neural-network-cnn-4fcc7dbb4f17\n",
        "\n",
        "World Health Organization. (2019, March 20). Deafness and hearing loss. Retrieved from https://www.who.int/news-room/fact-sheets/detail/deafness-and-hearing-loss\n",
        "\n",
        "Zhang, Z., Mayer, G., Dauvilliers, Y., Plazzi, G., Pizza, F., Fronczek, R., ... & Da Silva, A. M. (2018). Exploring the clinical features of narcolepsy type 1 versus narcolepsy type 2 from European Narcolepsy Network database with machine learning. Scientific reports, 8(1), 10628.  https://doi.org/10.1038/s41598-018-28840-w"
      ]
    }
  ],
  "metadata": {
    "accelerator": "GPU",
    "colab": {
      "collapsed_sections": [],
      "name": "Preliminatory.ipynb",
      "provenance": []
    },
    "kernelspec": {
      "display_name": "Python 3",
      "name": "python3"
    }
  },
  "nbformat": 4,
  "nbformat_minor": 0
}
